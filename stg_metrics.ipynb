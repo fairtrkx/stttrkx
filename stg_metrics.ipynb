{
 "cells": [
  {
   "cell_type": "markdown",
   "metadata": {},
   "source": [
    "## _Evaluation Metrics_\n",
    "\n",
    "_If the **GNNBuilder** callback has been run during training, just load data from `run/edge_labelling/test`. Extract `scores ~ y_score` and `y_pid ~ y_truth` to compute model evaluation metrics_."
   ]
  },
  {
   "cell_type": "code",
   "execution_count": 1,
   "metadata": {},
   "outputs": [],
   "source": [
    "import sys, os, glob, yaml"
   ]
  },
  {
   "cell_type": "code",
   "execution_count": 2,
   "metadata": {},
   "outputs": [],
   "source": [
    "import math\n",
    "import time\n",
    "import numpy as np\n",
    "import pandas as pd\n",
    "import matplotlib.pyplot as plt\n",
    "\n",
    "%matplotlib inline"
   ]
  },
  {
   "cell_type": "code",
   "execution_count": 3,
   "metadata": {},
   "outputs": [],
   "source": [
    "import pprint\n",
    "from tqdm import tqdm\n",
    "import trackml.dataset"
   ]
  },
  {
   "cell_type": "code",
   "execution_count": 4,
   "metadata": {},
   "outputs": [],
   "source": [
    "import torch\n",
    "import torchmetrics\n",
    "import pytorch_lightning as pl\n",
    "from torch_geometric.data import Data\n",
    "from torch_geometric.loader import DataLoader\n",
    "import itertools"
   ]
  },
  {
   "cell_type": "code",
   "execution_count": 5,
   "metadata": {},
   "outputs": [],
   "source": [
    "import logging\n",
    "from collections import namedtuple\n",
    "import atlasify as atl\n",
    "from atlasify import atlasify\n",
    "import sklearn.metrics"
   ]
  },
  {
   "cell_type": "code",
   "execution_count": 6,
   "metadata": {},
   "outputs": [],
   "source": [
    "device = \"cuda\" if torch.cuda.is_available() else \"cpu\""
   ]
  },
  {
   "cell_type": "code",
   "execution_count": 7,
   "metadata": {},
   "outputs": [],
   "source": [
    "# append parent dir\n",
    "sys.path.append(\"..\")"
   ]
  },
  {
   "cell_type": "code",
   "execution_count": 8,
   "metadata": {},
   "outputs": [],
   "source": [
    "from src.metric_utils import compute_metrics, plot_metrics\n",
    "from src.metric_utils import (\n",
    "    plot_roc,\n",
    "    plot_prc,\n",
    "    plot_prc_thr,\n",
    "    plot_epc,\n",
    "    plot_epc_cut,\n",
    "    plot_output,\n",
    ")"
   ]
  },
  {
   "cell_type": "markdown",
   "metadata": {},
   "source": [
    "- _HEP Style Plotting (Histograms, Badges, etc)_"
   ]
  },
  {
   "cell_type": "code",
   "execution_count": 9,
   "metadata": {},
   "outputs": [],
   "source": [
    "#!pip install mplhep\n",
    "#!pip install plothist\n",
    "#!pip install atlasify"
   ]
  },
  {
   "cell_type": "markdown",
   "metadata": {
    "tags": []
   },
   "source": [
    "### _Evaluation Definitions_\n",
    "\n",
    "Metrics to evaluate the GNN networks:\n",
    "\n",
    "- _Accuracy/ACC = $TP+TN/TP+TN+FP+FN$_\n",
    "- _Sensitivity/Recall/Hit Rate/True Negative Rate ($TPR = 1 - FNR$)_\n",
    "- _Specificity/Selectivity/True Negative Rate ($TNR = 1 - FPR$)_\n",
    "- _Miss Rate/False Positive Rate ($FNR = 1 - TPR$)_\n",
    "- _Fall-out/False Positive Rate ($FPR = 1 - TNR$)_\n",
    "- _F1-score = $2 \\times (\\text{PPV} \\times \\text{TPR})/(\\text{PPV} + \\text{TPR})$_\n",
    "\n",
    "Defining Efficiency and Purity:\n",
    "\n",
    "- _Efficiency/Recall/Sensitivity/Hit Rate: $TPR = TP/(TP+FN)$_\n",
    "- _Purity/Precision/Positive Predictive Value: $PPV = TP/(TP+FP$_\n",
    "\n",
    "Different ROC Curves:\n",
    "\n",
    "- _AUC-ROC Curve $\\equiv$ FPR ($x-$axis) v.s. TPR ($y-$axis) plot_\n",
    "- _AUC-PRC Curve $\\equiv$ TPR ($x-$axis) v.s. PPV ($y-$axis) plot_\n",
    "\n",
    "\n",
    "Use _`tn, fp, fn, tp = confusion_matrix(y_true, y_pred).ravel()`_ to directly access TN, FP, FN and TP using `Scikit-learn`."
   ]
  },
  {
   "cell_type": "markdown",
   "metadata": {},
   "source": [
    "### _Scikit-learn Nomenclature_\n",
    "\n",
    "_Each event is a `PyG::Data` object containing useful files. What we need for model evaluation are `edge_index` (**edge list**), `y` or `y_pid` (**true edge labels**), and `scores` (**edge scores/probabilities**) from the `test/pred` dataset. Note that `scores` has twice the lenght of `y_pid` due to flipping operation duing training to create bidirectional edge list. One need to cut it into half._\n",
    "\n",
    "- _Get **y_true** (or `edge_labels`) as `y` or `y_pid`_\n",
    "- _Get **y_score** (or `edge_scores`) as `scores`_\n",
    "- _Get **y_pred** (or `edge_pred`) as `y_pred = scores > 0.5`_\n",
    "\n",
    "_**Note:** `scores` are raw scores or probabilities of a classifier. Some meterics need raw scores (`y_score`) and others predicted class labels (`y_pred = (y_score > 0.5)`._"
   ]
  },
  {
   "cell_type": "markdown",
   "metadata": {
    "tags": []
   },
   "source": [
    "### _Load Dataset_"
   ]
  },
  {
   "cell_type": "code",
   "execution_count": 10,
   "metadata": {},
   "outputs": [],
   "source": [
    "def process_test_files(inputdir, device=\"cpu\"):\n",
    "    \"\"\"Add description....\"\"\"\n",
    "\n",
    "    start_time = time.perf_counter()\n",
    "    test_files = sorted(glob.glob(os.path.join(inputdir, \"*\")))\n",
    "\n",
    "    edge_labels, edge_scores = [], []\n",
    "\n",
    "    # creates iterator yielding (index, value) pair with index starting at 1 instead of the default 0\n",
    "    for idx, file_path in enumerate(test_files, 1):\n",
    "        graph = torch.load(file_path, map_location=device)\n",
    "\n",
    "        e_labels = graph.y_pid\n",
    "        e_scores = graph.scores[: e_labels.size(0)]\n",
    "\n",
    "        if idx % 5000 == 0:\n",
    "            print(f\"Processed Batches: {idx}\")\n",
    "\n",
    "        edge_labels.append(e_labels)\n",
    "        edge_scores.append(e_scores)\n",
    "\n",
    "    # concatenate torch list\n",
    "    edge_labels = torch.cat(edge_labels)\n",
    "    edge_scores = torch.cat(edge_scores)\n",
    "\n",
    "    end_time = time.perf_counter()\n",
    "    print(\n",
    "        f\"\\nExecution Time: Took {end_time - start_time:.4f} seconds to process {len(test_files)} files.\"\n",
    "    )\n",
    "\n",
    "    return edge_scores, edge_labels"
   ]
  },
  {
   "cell_type": "code",
   "execution_count": 11,
   "metadata": {},
   "outputs": [],
   "source": [
    "# Experiment Badge\n",
    "muon_badge = \"Simulated: $\\mu^\\pm$ Pairs, Momentum: 100 MeV/c - 1.5 GeV/c\"  # Muons, Badge Subtext\n",
    "fwp_badge = r\"Simulated: $\\bar{p}p \\rightarrow \\bar{\\Lambda} \\: (\\bar{p}\\pi^{+}) \\: \\Lambda \\:  (p\\pi^{-})$, Beam Momentum = 1.642 GeV/c\"  # FWP, Badge Subtext"
   ]
  },
  {
   "cell_type": "code",
   "execution_count": 12,
   "metadata": {},
   "outputs": [],
   "source": [
    "# DNN (Muons)\n",
    "inputdir = \"run_all/dnn_processed_ln/pred\"\n",
    "outname = \"dnn\"\n",
    "c_label = \"FCN\"\n",
    "badgetext = muon_badge\n",
    "\n",
    "# GNN (Muons)\n",
    "inputdir = \"run_all/gnn_processed/pred\"\n",
    "outname = \"gnn\"\n",
    "c_label = \"IGNN\"\n",
    "badgetext = muon_badge\n",
    "\n",
    "# GNN (FWP + No Filtering)\n",
    "inputdir = \"run_all/fwp_gnn_processed/pred\"\n",
    "outname = \"fwp\"\n",
    "c_label = \"IGNN\"\n",
    "badgetext = fwp_badge"
   ]
  },
  {
   "cell_type": "markdown",
   "metadata": {},
   "source": [
    "- _view an event_"
   ]
  },
  {
   "cell_type": "code",
   "execution_count": 13,
   "metadata": {},
   "outputs": [
    {
     "name": "stdout",
     "output_type": "stream",
     "text": [
      "Number of Files:  29703\n"
     ]
    }
   ],
   "source": [
    "test_files = sorted(glob.glob(os.path.join(inputdir, \"*\")))\n",
    "print(\"Number of Files: \", len(test_files))"
   ]
  },
  {
   "cell_type": "code",
   "execution_count": 14,
   "metadata": {},
   "outputs": [],
   "source": [
    "# Let's test a event\n",
    "data = torch.load(test_files[0], map_location=device)"
   ]
  },
  {
   "cell_type": "code",
   "execution_count": 15,
   "metadata": {},
   "outputs": [
    {
     "data": {
      "text/plain": [
       "Data(x=[24, 3], pid=[24], layers=[24], event_file='/home/adeak977/current/3_deeptrkx/ctd2022/train_quick/event0000000000', hid=[24], pt=[24], vertex=[24, 3], charge=[24], pdgcode=[24], ptheta=[24], peta=[24], pphi=[24], modulewise_true_edges=[2, 22], layerwise_true_edges=[2, 25], edge_index=[2, 44], y_pid=[44], scores=[88])"
      ]
     },
     "execution_count": 15,
     "metadata": {},
     "output_type": "execute_result"
    }
   ],
   "source": [
    "data"
   ]
  },
  {
   "cell_type": "markdown",
   "metadata": {},
   "source": [
    "- _fetch all events_"
   ]
  },
  {
   "cell_type": "code",
   "execution_count": 16,
   "metadata": {},
   "outputs": [],
   "source": [
    "# get edge_scores and edge_labels from all events\n",
    "# edge_scores, edge_labels = process_test_files(inputdir, device)"
   ]
  },
  {
   "cell_type": "markdown",
   "metadata": {},
   "source": [
    "- _covert `torch` tensors to `numpy` arrays_"
   ]
  },
  {
   "cell_type": "code",
   "execution_count": 17,
   "metadata": {},
   "outputs": [],
   "source": [
    "# edge_scores, edge_labels = edge_scores.numpy(), edge_labels.numpy()"
   ]
  },
  {
   "cell_type": "markdown",
   "metadata": {},
   "source": [
    "- _save `edge_scores` and `edge_labels` as `npz` or `pickle` format_"
   ]
  },
  {
   "cell_type": "code",
   "execution_count": 18,
   "metadata": {},
   "outputs": [],
   "source": [
    "# np.savez(outname+\"_scores_labels.npz\", edge_scores=edge_scores, edge_labels=edge_labels)"
   ]
  },
  {
   "cell_type": "markdown",
   "metadata": {},
   "source": [
    "- _load `edge_scores` and `edge_labels` from `npz` or `pickle` format_"
   ]
  },
  {
   "cell_type": "code",
   "execution_count": 19,
   "metadata": {},
   "outputs": [],
   "source": [
    "# load npz data\n",
    "data = np.load(outname + \"_scores_labels.npz\")\n",
    "\n",
    "# extract npz data\n",
    "edge_scores, edge_labels = data[\"edge_scores\"], data[\"edge_labels\"]"
   ]
  },
  {
   "cell_type": "markdown",
   "metadata": {},
   "source": [
    "### _Compute Metrics_"
   ]
  },
  {
   "cell_type": "markdown",
   "metadata": {},
   "source": [
    "- load _`scores`_ and _`truths`_ if saved already, otherwise run comments these lines and run from top."
   ]
  },
  {
   "cell_type": "code",
   "execution_count": 20,
   "metadata": {},
   "outputs": [],
   "source": [
    "metrics = compute_metrics(edge_scores, edge_labels, threshold=0.5)"
   ]
  },
  {
   "cell_type": "markdown",
   "metadata": {},
   "source": [
    "### _(a) - Plot Metrics_"
   ]
  },
  {
   "cell_type": "code",
   "execution_count": 21,
   "metadata": {},
   "outputs": [],
   "source": [
    "# Plot Metrics\n",
    "# plot_metrics(edge_scores, edge_labels, metrics, name=outname)"
   ]
  },
  {
   "cell_type": "code",
   "execution_count": 22,
   "metadata": {},
   "outputs": [],
   "source": [
    "# ROC Curve\n",
    "# plot_roc(metrics, name=outname)"
   ]
  },
  {
   "cell_type": "code",
   "execution_count": 23,
   "metadata": {},
   "outputs": [],
   "source": [
    "# PR Curve\n",
    "# plot_prc(metrics, name=outname)"
   ]
  },
  {
   "cell_type": "code",
   "execution_count": 24,
   "metadata": {},
   "outputs": [],
   "source": [
    "# Built from PRC Curve\n",
    "# plot_prc_thr(metrics, name=outname)"
   ]
  },
  {
   "cell_type": "code",
   "execution_count": 25,
   "metadata": {},
   "outputs": [],
   "source": [
    "# EP Curve from ROC\n",
    "# plot_epc(metrics, name=outname)"
   ]
  },
  {
   "cell_type": "code",
   "execution_count": 26,
   "metadata": {},
   "outputs": [],
   "source": [
    "# Built from ROC Curve\n",
    "# plot_epc_cut(metrics, name=outname)"
   ]
  },
  {
   "cell_type": "code",
   "execution_count": 27,
   "metadata": {},
   "outputs": [],
   "source": [
    "# Model output: True and False\n",
    "# plot_output(scores, truths, threshold=0.5, name=outname)"
   ]
  },
  {
   "cell_type": "markdown",
   "metadata": {},
   "source": [
    "### _(a) - Plot Metrics (New)_\n",
    "\n",
    "- _New Plots with Experiment Badge (Slight different fuctions as in `src/metrics_utils.py`)_"
   ]
  },
  {
   "cell_type": "code",
   "execution_count": 28,
   "metadata": {},
   "outputs": [],
   "source": [
    "from sklearn.metrics import confusion_matrix\n",
    "import matplotlib as mpl\n",
    "\n",
    "mpl.rcParams[\"lines.linewidth\"] = 2"
   ]
  },
  {
   "cell_type": "code",
   "execution_count": 29,
   "metadata": {},
   "outputs": [],
   "source": [
    "figsize = (7, 6)"
   ]
  },
  {
   "cell_type": "markdown",
   "metadata": {},
   "source": [
    "- _**EPC Curve**: Plott Efficiency (x) vs Purity (y)_"
   ]
  },
  {
   "cell_type": "code",
   "execution_count": 30,
   "metadata": {},
   "outputs": [
    {
     "data": {
      "image/png": "[encoded data removed]",
      "text/plain": [
       "<Figure size 504x432 with 1 Axes>"
      ]
     },
     "metadata": {
      "needs_background": "light"
     },
     "output_type": "display_data"
    }
   ],
   "source": [
    "plt.close(\"all\")\n",
    "\n",
    "# Efficiency, Purity\n",
    "eff = metrics.roc_tpr\n",
    "pur = 1 - metrics.roc_fpr\n",
    "epc_auc = sklearn.metrics.auc(eff, pur)\n",
    "\n",
    "# Plotting\n",
    "fig, axs = plt.subplots(nrows=1, ncols=1, figsize=figsize)\n",
    "axs.plot(\n",
    "    eff, pur, color=\"darkorange\", label=f\"{c_label} Classifier, AUC = {epc_auc:.5f}\"\n",
    ")\n",
    "axs.plot([0, 1], [1, 0], color=\"navy\", linestyle=\"--\", label=f\"Naive Classifier\")\n",
    "\n",
    "# Axes Params\n",
    "# axs.set_title(\"EP Curve, AUC = %.5f\" % epc_auc, fontsize=15)\n",
    "axs.set_xlabel(\"Edge Efficiency\", fontsize=14)\n",
    "axs.set_ylabel(\"Edge Purity\", fontsize=14)\n",
    "axs.tick_params(axis=\"both\", which=\"major\", labelsize=12)\n",
    "axs.tick_params(axis=\"both\", which=\"minor\", labelsize=12)\n",
    "axs.legend(loc=\"lower left\", fontsize=14)\n",
    "\n",
    "# Fig Badge (ATLAS, BELLE II, PANDA, etc)\n",
    "# atl.ATLAS = \"PANDA\"\n",
    "# atl.monkeypatch_axis_labels()\n",
    "atl.atlasify(\n",
    "    \"Simulation\",\n",
    "    badgetext,  # Subtext\n",
    "    font_size=16,  # Main Badge\n",
    "    label_font_size=16,  # Text After Badge\n",
    "    sub_font_size=13,  # Subtext\n",
    "    subtext_distance=0.0,\n",
    "    brand=\"PANDA\",\n",
    "    # enlarge=1.2,\n",
    "    outside=True,\n",
    ")\n",
    "\n",
    "# Fig Params\n",
    "fig.tight_layout()\n",
    "fig.savefig(f\"{outname}_epc.pdf\", dpi=300)"
   ]
  },
  {
   "cell_type": "markdown",
   "metadata": {},
   "source": [
    "- _**EPC Curve**: Plott Edge Score (x) vs Efficiency & Purity (y)_"
   ]
  },
  {
   "cell_type": "code",
   "execution_count": 31,
   "metadata": {},
   "outputs": [
    {
     "data": {
      "image/png": "[encoded data removed]",
      "text/plain": [
       "<Figure size 504x432 with 1 Axes>"
      ]
     },
     "metadata": {
      "needs_background": "light"
     },
     "output_type": "display_data"
    }
   ],
   "source": [
    "plt.close(\"all\")\n",
    "\n",
    "# Efficiency, Purity and Threshold\n",
    "eff = metrics.roc_tpr\n",
    "pur = 1 - metrics.roc_fpr\n",
    "score_cuts = metrics.roc_thresh\n",
    "\n",
    "# Make sure this is nicely plottable!\n",
    "eff, pur, score_cuts = (\n",
    "    eff[score_cuts <= 1],\n",
    "    pur[score_cuts <= 1],\n",
    "    score_cuts[score_cuts <= 1],\n",
    ")\n",
    "\n",
    "# Plotting\n",
    "fig, axs = plt.subplots(nrows=1, ncols=1, figsize=figsize)\n",
    "axs.plot(score_cuts, pur, color=\"darkblue\", label=\"Edge Purity\")  # Purity\n",
    "axs.plot(score_cuts, eff, color=\"darkorange\", label=\"Edge Efficiency\")  # Efficiency\n",
    "\n",
    "# Axes Params\n",
    "# axs.set_title(\"Edge Scores vs Efficiency and Purity\", fontsize=15)\n",
    "axs.set_xlabel(\"Edge Score Cut\", fontsize=14)\n",
    "axs.tick_params(axis=\"both\", which=\"major\", labelsize=12)\n",
    "axs.tick_params(axis=\"both\", which=\"minor\", labelsize=12)\n",
    "# axs.set_ylim(0.5,1.02)\n",
    "axs.legend(loc=\"lower center\", fontsize=14)\n",
    "\n",
    "# Fig Badge (ATLAS, BELLE II, PANDA, etc)\n",
    "# atl.ATLAS = \"PANDA\"\n",
    "# atl.monkeypatch_axis_labels()\n",
    "atl.atlasify(\n",
    "    \"Simulation\",\n",
    "    badgetext,  # Subtext\n",
    "    font_size=16,  # Main Badge\n",
    "    label_font_size=16,  # Text After Badge\n",
    "    sub_font_size=13,  # Subtext\n",
    "    subtext_distance=0.0,\n",
    "    brand=\"PANDA\",\n",
    "    outside=True,\n",
    ")\n",
    "\n",
    "# Fig Params\n",
    "fig.tight_layout()\n",
    "fig.savefig(f\"{outname}_epc_cut.pdf\", dpi=300)"
   ]
  },
  {
   "cell_type": "markdown",
   "metadata": {},
   "source": [
    "- **Model Output**"
   ]
  },
  {
   "cell_type": "code",
   "execution_count": 32,
   "metadata": {},
   "outputs": [],
   "source": [
    "y_pred = edge_scores > 0.5"
   ]
  },
  {
   "cell_type": "code",
   "execution_count": 33,
   "metadata": {},
   "outputs": [
    {
     "data": {
      "text/plain": [
       "array([ True, False, False,  True, False])"
      ]
     },
     "execution_count": 33,
     "metadata": {},
     "output_type": "execute_result"
    }
   ],
   "source": [
    "y_pred[:5]"
   ]
  },
  {
   "cell_type": "code",
   "execution_count": 34,
   "metadata": {},
   "outputs": [],
   "source": [
    "# plot_output(preds, targets, threshold=0.5, name=\"gnn\")\n",
    "# plot_output(scores, truths, threshold=0.5, name=outname)"
   ]
  },
  {
   "cell_type": "code",
   "execution_count": 35,
   "metadata": {},
   "outputs": [
    {
     "data": {
      "image/png": "[encoded data removed]",
      "text/plain": [
       "<Figure size 504x432 with 1 Axes>"
      ]
     },
     "metadata": {
      "needs_background": "light"
     },
     "output_type": "display_data"
    }
   ],
   "source": [
    "plt.close(\"all\")\n",
    "\n",
    "# Prepare the values\n",
    "y_true = edge_labels > 0.5  # this not required at all\n",
    "\n",
    "# Figure & Axes\n",
    "fig, axs = plt.subplots(nrows=1, ncols=1, figsize=figsize)\n",
    "\n",
    "# Ploting\n",
    "binning = dict(bins=25, range=(0, 1), histtype=\"step\", lw=1, log=True)\n",
    "axs.hist(edge_scores[y_true == True], label=\"True Edges\", **binning)  # True Edges\n",
    "axs.hist(edge_scores[y_true == False], label=\"False Edges\", **binning)  # False Edges\n",
    "\n",
    "# Axes Params\n",
    "# axs.set_title(\"Classifier Output\", fontsize=15)\n",
    "axs.set_xlabel(\"Model Output\", size=14)\n",
    "axs.set_ylabel(\"Counts\", size=14)\n",
    "axs.tick_params(axis=\"both\", which=\"major\", labelsize=12)\n",
    "axs.tick_params(axis=\"both\", which=\"minor\", labelsize=12)\n",
    "# axs.set_ylim(ymin=.005)\n",
    "axs.legend(loc=\"upper center\", fontsize=14)\n",
    "\n",
    "# Fig Badge (ATLAS, BELLE II, PANDA, etc)\n",
    "# atl.ATLAS = \"PANDA\"\n",
    "# atl.monkeypatch_axis_labels()\n",
    "atl.atlasify(\n",
    "    \"Simulation\",\n",
    "    badgetext,  # Subtext\n",
    "    font_size=16,  # Main Badge\n",
    "    label_font_size=16,  # Text After Badge\n",
    "    sub_font_size=13,  # Subtext\n",
    "    subtext_distance=0.0,  # Distance before subtext\n",
    "    brand=\"PANDA\",  # Change defaults to PANDA\n",
    "    outside=True,  # Inside or Outside\n",
    ")\n",
    "\n",
    "# Fig Params\n",
    "fig.tight_layout()\n",
    "fig.savefig(f\"{outname}_outputs.pdf\", dpi=300)"
   ]
  },
  {
   "cell_type": "markdown",
   "metadata": {},
   "source": [
    "- Note that in all of above metrics not cut is applied on edge_scores."
   ]
  },
  {
   "cell_type": "markdown",
   "metadata": {
    "tags": []
   },
   "source": [
    "### _(b) - S/B Suppression_\n",
    "\n",
    "Background rejection rate (1/FPR) is given as $1/\\epsilon_{bkg}$ where $\\epsilon_{bkg}$ is the fraction of fake edges that pass the classification requirement. Signal efficiency (TPR ~ Recall) ($\\epsilon_{sig}$) is defined as the number of true edges above a given classification score cut over the total number of true edges. What we have?\n",
    "\n",
    "- Signal Efficiency = $\\epsilon_{sig}$ = TPR ~ Recall \n",
    "- Background Rejection = $1 - \\epsilon_{bkg}$ ???\n",
    "- Background Rejection Rate = $1/\\epsilon_{bkg}$ = 1/FPR\n",
    "\n",
    "\n",
    "First apply a edge score cut to binarized the `scores`, we will call it `preds`. The count number of false or true edges that pass this cut. Then calculated background rejection rate and signal efficiency. For making a plot one can do calculations in batch by batch mode on the test dataset."
   ]
  },
  {
   "cell_type": "code",
   "execution_count": 36,
   "metadata": {},
   "outputs": [],
   "source": [
    "from sklearn.metrics import confusion_matrix"
   ]
  },
  {
   "cell_type": "markdown",
   "metadata": {},
   "source": [
    "- _TPR/Recall and FPR from Confusion Matrix (it needs `y_pred` and `y_true` thus need a `threshold ~ 0.5` on `y_score`)_"
   ]
  },
  {
   "cell_type": "code",
   "execution_count": 37,
   "metadata": {},
   "outputs": [],
   "source": [
    "threshold = 0.5\n",
    "y_pred, y_true = (edge_scores > threshold), (edge_labels > threshold)"
   ]
  },
  {
   "cell_type": "code",
   "execution_count": 38,
   "metadata": {},
   "outputs": [],
   "source": [
    "# Confusion Matrix\n",
    "tn, fp, fn, tp = confusion_matrix(y_true, y_pred).ravel()\n",
    "\n",
    "# Find Recal/TPR and FPR\n",
    "tpr = tp / (tp + fn)\n",
    "fpr = fp / (fp + tn)"
   ]
  },
  {
   "cell_type": "code",
   "execution_count": 39,
   "metadata": {},
   "outputs": [
    {
     "data": {
      "text/plain": [
       "(0.9871353249141622, 0.02133736683225086)"
      ]
     },
     "execution_count": 39,
     "metadata": {},
     "output_type": "execute_result"
    }
   ],
   "source": [
    "# TPR and FPR\n",
    "tpr, fpr"
   ]
  },
  {
   "cell_type": "markdown",
   "metadata": {},
   "source": [
    "- **_edge efficiency vs edge purity_**"
   ]
  },
  {
   "cell_type": "code",
   "execution_count": 40,
   "metadata": {},
   "outputs": [
    {
     "name": "stdout",
     "output_type": "stream",
     "text": [
      "edge efficiency: 0.9871\n",
      "    edge purity: 0.9787\n"
     ]
    }
   ],
   "source": [
    "# edge efficiency (TPR), purity (1 - FPR)\n",
    "print(\"edge efficiency: {:.4f}\\n    edge purity: {:.4f}\".format(tpr, (1 - fpr)))"
   ]
  },
  {
   "cell_type": "markdown",
   "metadata": {},
   "source": [
    "- **_signal vs background rejection rate_**"
   ]
  },
  {
   "cell_type": "code",
   "execution_count": 41,
   "metadata": {},
   "outputs": [
    {
     "name": "stdout",
     "output_type": "stream",
     "text": [
      "     Signal efficiency: 0.9871\n",
      "Misidentification rate: 0.0213\n",
      "  Bkg rejection factor: 46.8661\n"
     ]
    }
   ],
   "source": [
    "# Signal efficiency (TPR), Bkg efficiency (FPR), Bkg Rejection (1/FPR)\n",
    "print(\n",
    "    \"     Signal efficiency: {:.4f}\\nMisidentification rate: {:.4f}\\n  Bkg rejection factor: {:.4f}\".format(\n",
    "        tpr, fpr, (1 / fpr)\n",
    "    )\n",
    ")"
   ]
  },
  {
   "cell_type": "markdown",
   "metadata": {},
   "source": [
    "- _Get signal efficiency (TPR/Recall) for all thresholds, so we need ROC TPR and ROC TPR_"
   ]
  },
  {
   "cell_type": "code",
   "execution_count": 42,
   "metadata": {},
   "outputs": [],
   "source": [
    "# Signal Efficiency\n",
    "sig = metrics.roc_tpr"
   ]
  },
  {
   "cell_type": "code",
   "execution_count": 43,
   "metadata": {},
   "outputs": [],
   "source": [
    "# Background Rejection Factor (BRF)\n",
    "\n",
    "# handle divided by zero, replace zeros with small +ve value\n",
    "# bkg_rejection = 1/metrics.roc_fpr\n",
    "bkg_rejection = 1 / np.where(metrics.roc_fpr == 0, 1e-10, metrics.roc_fpr)"
   ]
  },
  {
   "cell_type": "code",
   "execution_count": 44,
   "metadata": {},
   "outputs": [],
   "source": [
    "# cut off eff < 0.2 or 0.5\n",
    "sig_mask = sig > 0.6"
   ]
  },
  {
   "cell_type": "code",
   "execution_count": 45,
   "metadata": {},
   "outputs": [
    {
     "data": {
      "image/png": "[encoded data removed]",
      "text/plain": [
       "<Figure size 504x432 with 1 Axes>"
      ]
     },
     "metadata": {
      "needs_background": "light"
     },
     "output_type": "display_data"
    }
   ],
   "source": [
    "plt.close(\"all\")\n",
    "\n",
    "fig, ax = plt.subplots(nrows=1, ncols=1, figsize=figsize)\n",
    "\n",
    "ax.plot(sig[sig_mask], bkg_rejection[sig_mask], color=\"darkorange\", label=f\"{c_label}\")\n",
    "ax.plot(\n",
    "    tpr,\n",
    "    1 / fpr,\n",
    "    marker=\"o\",\n",
    "    markersize=10,\n",
    "    markeredgecolor=\"k\",\n",
    "    markerfacecolor=\"k\",\n",
    "    label=f\"Edge Cut = {threshold}\",\n",
    "    color=\"k\",\n",
    ")\n",
    "\n",
    "# Axes Params\n",
    "ax.set_xlabel(\"Signal Efficiency\", fontsize=14)\n",
    "ax.set_ylabel(\"Background Rejection Factor\", fontsize=14)\n",
    "ax.set_yscale(\"log\")\n",
    "ax.tick_params(axis=\"both\", which=\"major\", labelsize=12)\n",
    "ax.tick_params(axis=\"both\", which=\"minor\", labelsize=12)\n",
    "ax.legend(fontsize=14, loc=\"upper right\")\n",
    "\n",
    "# Fig Badge (ATLAS, BELLE II, PANDA, etc)\n",
    "# atl.ATLAS = \"PANDA\"\n",
    "# atl.monkeypatch_axis_labels()\n",
    "atl.atlasify(\n",
    "    \"Simulation\",\n",
    "    badgetext,  # Subtext\n",
    "    font_size=16,  # Main Badge\n",
    "    label_font_size=16,  # Text After Badge\n",
    "    sub_font_size=13,  # Subtext\n",
    "    subtext_distance=0.0,\n",
    "    brand=\"PANDA\",\n",
    "    outside=True,\n",
    ")\n",
    "\n",
    "# Figure Params\n",
    "fig.tight_layout()\n",
    "fig.savefig(f\"{outname}_SB.pdf\", dpi=300)"
   ]
  },
  {
   "cell_type": "markdown",
   "metadata": {},
   "source": [
    "### _(c) - Visualize Model Output_"
   ]
  },
  {
   "cell_type": "raw",
   "metadata": {},
   "source": [
    "from src.drawing import detector_layout\n",
    "from src.utils_math import polar_to_cartesian"
   ]
  },
  {
   "cell_type": "raw",
   "metadata": {},
   "source": [
    "filter_files = [18,106,109,113,120,122,133,139,147,152,153,158,159,164,1012,1022,1030,1031,1040,1894,1892,1880,1877,\n",
    "                1872,1860,1857,1828,1827,1817,1816,1816,1807,1804,1767,1761,1751,1750,1749,1743,1734,1722,1721]"
   ]
  },
  {
   "cell_type": "raw",
   "metadata": {},
   "source": [
    "e = filter_files[5191]"
   ]
  },
  {
   "cell_type": "raw",
   "metadata": {},
   "source": [
    "e"
   ]
  },
  {
   "cell_type": "raw",
   "metadata": {},
   "source": [
    "# load graph\n",
    "graph = torch.load(test_files[5191], map_location=device)\n",
    "\n",
    "# get truths and scores\n",
    "truth = graph.y_pid\n",
    "scores = graph.scores[:truth.size(0)]\n",
    "edges = graph.edge_index\n",
    "eid = int(graph.event_file[-10:])"
   ]
  },
  {
   "cell_type": "raw",
   "metadata": {},
   "source": [
    "eid"
   ]
  },
  {
   "cell_type": "raw",
   "metadata": {},
   "source": [
    "truth.shape, scores.shape, edges.shape"
   ]
  },
  {
   "cell_type": "raw",
   "metadata": {},
   "source": [
    "preds, labels = scores.numpy(), truth.numpy()"
   ]
  },
  {
   "cell_type": "raw",
   "metadata": {},
   "source": [
    "preds.shape, labels.shape"
   ]
  },
  {
   "cell_type": "raw",
   "metadata": {},
   "source": [
    "def draw_sample_xy(graph, cut=0.5, figsize=(9,9)):\n",
    "    \"\"\"\"Draw Sample with True and False Edges\"\"\"\n",
    "    \n",
    "    # coordinate transformation\n",
    "    x = graph.x.detach().numpy()\n",
    "    r, phi, ir = x.T\n",
    "    x, y = polar_to_cartesian(r, phi)\n",
    "    \n",
    "    \n",
    "    truth = graph.y_pid\n",
    "    scores = graph.scores[:truth.size(0)]\n",
    "    edges = graph.edge_index\n",
    "    eid = int(graph.event_file[-5:])\n",
    "    preds, labels = scores.numpy(), truth.numpy()\n",
    "    \n",
    "    \n",
    "    # detector layout\n",
    "    fig, ax = detector_layout(figsize=figsize)\n",
    "    \n",
    "    # True Event\n",
    "    pids = np.unique(graph.pid)    \n",
    "    for pid in pids:\n",
    "        idx = graph.pid == pid\n",
    "        ax.plot(x[idx], y[idx], 'k-', linewidth=1.5)\n",
    "        ax.scatter(x[idx], y[idx], label='particle_id: {}'.format(int(pid)))\n",
    "    \n",
    "    \n",
    "    # Draw the segments\n",
    "    for j in range(labels.shape[0]):\n",
    "        \n",
    "        ptx1 = x[edges[0,j]]\n",
    "        ptx2 = x[edges[1,j]]\n",
    "        pty1 = y[edges[0,j]]\n",
    "        pty2 = y[edges[1,j]]\n",
    "        \n",
    "        # False Negatives\n",
    "        if preds[j] < cut and labels[j] > cut:\n",
    "            # ax.plot([x[edges[0,j]], x[edges[1,j]]], [y[edges[0,j]], y[edges[1,j]]], '--', c='b')\n",
    "            ax.plot([ptx1, ptx2], [pty1, pty2], '--', color='b', lw=1, alpha=0.9)\n",
    "\n",
    "        # False Positives\n",
    "        if preds[j] > cut and labels[j] < cut:\n",
    "            # ax.plot([x[edges[0,j]], x[edges[1,j]]], [y[edges[0,j]], y[edges[1,j]]], '-', c='r', alpha=preds[j])\n",
    "            ax.plot([ptx1, ptx2], [pty1, pty2], '-', color='r', lw=1, alpha=0.15)\n",
    "\n",
    "        # True Positives\n",
    "        if preds[j] > cut and labels[j] > cut:\n",
    "            # ax.plot([x[edges[0,j]], x[edges[1,j]]], [y[edges[0,j]], y[edges[1,j]]], '-', c='k', alpha=preds[j])\n",
    "            ax.plot([ptx1, ptx2], [pty1, pty2], '-', color='k', lw=1, alpha=0.3)\n",
    "\n",
    "    fig.tight_layout()\n",
    "    fig.savefig(\"ambiguous1_{}.pdf\".format(eid))"
   ]
  },
  {
   "cell_type": "raw",
   "metadata": {},
   "source": [
    "# draw_sample_xy(graph, cut=0.7);"
   ]
  },
  {
   "cell_type": "raw",
   "metadata": {},
   "source": [
    "def draw_sample_xy(graph, lower_cut=0.6, upper_cut=0.8, figsize=(8,8)):\n",
    "    \"\"\"\"Draw Sample with True and False Edges\"\"\"\n",
    "    \n",
    "    # coordinate transformation\n",
    "    x = graph.x.detach().numpy()\n",
    "    truth = graph.y_pid\n",
    "    scores = graph.scores[:truth.size(0)]\n",
    "    edges = graph.edge_index\n",
    "    eid = int(graph.event_file[-5:])\n",
    "    pids = np.unique(graph.pid)\n",
    "    \n",
    "    preds, labels = scores.numpy(), truth.numpy()\n",
    "    \n",
    "    \n",
    "    # detector layout\n",
    "    fig, ax = detector_layout(figsize=figsize)\n",
    "    \n",
    "    # True Event\n",
    "    r, phi, ir = x.T\n",
    "    x, y = polar_to_cartesian(r, phi)\n",
    "    \n",
    "    for pid in pids:\n",
    "        idx = graph.pid == pid\n",
    "        ax.plot(x[idx], y[idx], linewidth=1)\n",
    "        ax.scatter(x[idx], y[idx], label='particle_id: {}'.format(int(pid)))\n",
    "    \n",
    "    \n",
    "    # Draw the segments\n",
    "    for j in range(labels.shape[0]):\n",
    "        \n",
    "        ptx1 = x[edges[0,j]]\n",
    "        ptx2 = x[edges[1,j]]\n",
    "        pty1 = y[edges[0,j]]\n",
    "        pty2 = y[edges[1,j]]\n",
    "        \n",
    "        # False Negatives\n",
    "        if preds[j] < lower_cut and labels[j] > upper_cut:\n",
    "            # ax.plot([x[edges[0,j]], x[edges[1,j]]], [y[edges[0,j]], y[edges[1,j]]], '--', c='b')\n",
    "            ax.plot([ptx1, ptx2], [pty1, pty2], '--', color='b', lw=1, alpha=0.9)\n",
    "\n",
    "        # False Positives\n",
    "        if preds[j] > upper_cut and labels[j] < lower_cut:\n",
    "            # ax.plot([x[edges[0,j]], x[edges[1,j]]], [y[edges[0,j]], y[edges[1,j]]], '-', c='r', alpha=preds[j])\n",
    "            ax.plot([ptx1, ptx2], [pty1, pty2], '-', color='r', lw=1, alpha=0.15)\n",
    "\n",
    "        # True Positives\n",
    "        if preds[j] > lower_cut and labels[j] > upper_cut:\n",
    "            # ax.plot([x[edges[0,j]], x[edges[1,j]]], [y[edges[0,j]], y[edges[1,j]]], '-', c='k', alpha=preds[j])\n",
    "            ax.plot([ptx1, ptx2], [pty1, pty2], '-', color='k', lw=1, alpha=0.3)\n",
    "    \n",
    "    ax.set_title('Azimuthal View of STT, EventID # {}'.format(eid))\n",
    "    fig.tight_layout()\n",
    "    fig.savefig(\"ambiguous_{}.png\".format(eid))"
   ]
  },
  {
   "cell_type": "raw",
   "metadata": {},
   "source": [
    "draw_sample_xy(graph, lower_cut=0.7, upper_cut=0.8)"
   ]
  },
  {
   "cell_type": "raw",
   "metadata": {},
   "source": [
    "for e in filter_files:\n",
    "    # read test events e.g. gnn_processed/test\n",
    "    graph = torch.load(test_files[e], map_location=device)\n",
    "    draw_sample_xy(graph, lower_cut=0.65, upper_cut=0.75);"
   ]
  },
  {
   "cell_type": "raw",
   "metadata": {},
   "source": [
    "# extract hit information\n",
    "r, phi, ir = graph.x.T\n",
    "ir = ir.detach().numpy()*100\n",
    "x, y = polar_to_cartesian(r.detach().numpy(), phi.detach().numpy())"
   ]
  },
  {
   "cell_type": "raw",
   "metadata": {},
   "source": [
    "# plot true event\n",
    "fig, ax = detector_layout(figsize=(10,10))\n",
    "pids = np.unique(graph.pid)\n",
    "\n",
    "# True Event\n",
    "for pid in pids:\n",
    "    idx = graph.pid == pid\n",
    "    ax.plot(x[idx], y[idx], '-', linewidth=1.5)\n",
    "    ax.scatter(x[idx], y[idx], label='particle_id: {}'.format(int(pid)))\n",
    "\n",
    "ax.set_title('Azimuthal View of STT, EventID # {}'.format(eid))\n",
    "ax.legend(fontsize=10, loc='best')\n",
    "fig.tight_layout()\n",
    "# fig.savefig(\"true_track.png\")"
   ]
  },
  {
   "cell_type": "raw",
   "metadata": {},
   "source": []
  }
 ],
 "metadata": {
  "kernelspec": {
   "display_name": "Python 3 (ipykernel)",
   "language": "python",
   "name": "python3"
  },
  "language_info": {
   "codemirror_mode": {
    "name": "ipython",
    "version": 3
   },
   "file_extension": ".py",
   "mimetype": "text/x-python",
   "name": "python",
   "nbconvert_exporter": "python",
   "pygments_lexer": "ipython3",
   "version": "3.8.12"
  }
 },
 "nbformat": 4,
 "nbformat_minor": 4
}
