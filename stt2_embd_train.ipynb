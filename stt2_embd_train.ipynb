{
 "cells": [
  {
   "cell_type": "markdown",
   "metadata": {
    "tags": []
   },
   "source": [
    "## _Graph Construction Stage_\n",
    "\n",
    "- _examine **Graph Construction** stage e.g. graph construction using Heuristic Method or Metric Learning (SiameseMLP, SiameseConv, GraNet, GravNet, etc)_"
   ]
  },
  {
   "cell_type": "code",
   "execution_count": 1,
   "metadata": {},
   "outputs": [],
   "source": [
    "import glob, os, sys, yaml"
   ]
  },
  {
   "cell_type": "code",
   "execution_count": 2,
   "metadata": {},
   "outputs": [],
   "source": [
    "import numpy as np\n",
    "import pandas as pd\n",
    "import matplotlib.pyplot as plt\n",
    "%matplotlib inline"
   ]
  },
  {
   "cell_type": "code",
   "execution_count": 3,
   "metadata": {},
   "outputs": [],
   "source": [
    "import pprint\n",
    "import seaborn as sns\n",
    "import trackml.dataset"
   ]
  },
  {
   "cell_type": "code",
   "execution_count": 4,
   "metadata": {},
   "outputs": [],
   "source": [
    "import torch\n",
    "from torch_geometric.data import Data\n",
    "import itertools"
   ]
  },
  {
   "cell_type": "code",
   "execution_count": 5,
   "metadata": {},
   "outputs": [],
   "source": [
    "# select a device\n",
    "device = 'cuda' if torch.cuda.is_available() else 'cpu'"
   ]
  },
  {
   "cell_type": "code",
   "execution_count": 6,
   "metadata": {},
   "outputs": [],
   "source": [
    "# append parent dir to the path to load parent modules\n",
    "# sys.path.append(os.path.abspath('..'))\n",
    "sys.path.append(os.pardir)  # os.pardir ~ '..'"
   ]
  },
  {
   "cell_type": "code",
   "execution_count": 10,
   "metadata": {},
   "outputs": [],
   "source": [
    "# set EXATRKX_DATA env variable\n",
    "# os.environ['EXATRKX_DATA'] = os.path.join(os.path.abspath('..'), 'data_sets/pandaml/')\n",
    "os.environ['EXATRKX_DATA'] = os.path.join(os.pardir, 'data_sets/pandaml/')"
   ]
  },
  {
   "cell_type": "markdown",
   "metadata": {},
   "source": [
    "### _(+) - Config File_"
   ]
  },
  {
   "cell_type": "code",
   "execution_count": 13,
   "metadata": {},
   "outputs": [],
   "source": [
    "# load processing config file\n",
    "config_file = '../LightningModules/Processing/prepare_quickstart.yaml'\n",
    "with open(config_file) as f:\n",
    "    try:\n",
    "        config = yaml.load(f, Loader=yaml.FullLoader) # equiv: yaml.full_load(f)\n",
    "    except yaml.YAMLError as e:\n",
    "        print(e)"
   ]
  },
  {
   "cell_type": "code",
   "execution_count": 9,
   "metadata": {},
   "outputs": [
    {
     "name": "stdout",
     "output_type": "stream",
     "text": [
      "{ 'input_dir': '${EXATRKX_DATA}/train_all',\n",
      "  'layerwise': True,\n",
      "  'modulewise': True,\n",
      "  'n_files': 1000,\n",
      "  'n_tasks': 1,\n",
      "  'n_workers': 8,\n",
      "  'noise': True,\n",
      "  'output_dir': '${HOME}/current/5_exatrkx/stttrkx-hsf/run/feature_store',\n",
      "  'overwrite': False}\n"
     ]
    }
   ],
   "source": [
    "# see processing config file\n",
    "pp = pprint.PrettyPrinter(indent=2)\n",
    "pp.pprint(config)"
   ]
  },
  {
   "cell_type": "code",
   "execution_count": 10,
   "metadata": {},
   "outputs": [],
   "source": [
    "# change some params here\n",
    "config['n_files'] = 10"
   ]
  },
  {
   "cell_type": "markdown",
   "metadata": {},
   "source": [
    "### _(+) - Input Data (Processing)_"
   ]
  },
  {
   "cell_type": "code",
   "execution_count": 11,
   "metadata": {},
   "outputs": [
    {
     "name": "stdout",
     "output_type": "stream",
     "text": [
      "/home/adeel/current/5_exatrkx/stttrkx-hsf/run/feature_store\n"
     ]
    }
   ],
   "source": [
    "# Path to feature_store, use os.path.expandvars for ${HOME}\n",
    "FEATURE_DATA = os.path.expandvars(config['output_dir'])\n",
    "print(FEATURE_DATA)"
   ]
  },
  {
   "cell_type": "code",
   "execution_count": 12,
   "metadata": {
    "id": "nqqzb3EO5g4A"
   },
   "outputs": [
    {
     "name": "stdout",
     "output_type": "stream",
     "text": [
      "Length of Data: 8\n"
     ]
    }
   ],
   "source": [
    "# examine an event, give integer value to event_id\n",
    "event_id = 0\n",
    "feature_data = torch.load(os.path.join(FEATURE_DATA, str(event_id)), map_location=device)\n",
    "print(\"Length of Data: {}\".format(len(feature_data)))"
   ]
  },
  {
   "cell_type": "code",
   "execution_count": 13,
   "metadata": {},
   "outputs": [
    {
     "data": {
      "text/plain": [
       "Data(x=[240, 3], pid=[240], layers=[240], event_file='/home/adeel/current/3_deeptrkx/stttrkx-hsf/train_all/event0000000000', hid=[240], pt=[240], modulewise_true_edges=[2, 229], layerwise_true_edges=[2, 234])"
      ]
     },
     "execution_count": 13,
     "metadata": {},
     "output_type": "execute_result"
    }
   ],
   "source": [
    "feature_data"
   ]
  },
  {
   "cell_type": "code",
   "execution_count": 14,
   "metadata": {},
   "outputs": [
    {
     "data": {
      "text/plain": [
       "tensor([[ 0.2882,  0.1450, -0.1021],\n",
       "        [ 0.2983,  0.1457, -0.1022],\n",
       "        [ 0.2581, -0.7947,  0.1956],\n",
       "        [ 0.3374,  0.1484, -0.1089],\n",
       "        [ 0.3475,  0.1490, -0.1089],\n",
       "        [ 0.1663, -0.3430,  0.3500],\n",
       "        [ 0.1663,  0.6763,  0.3500],\n",
       "        [ 0.1669, -0.0289,  0.3500],\n",
       "        [ 0.1669,  0.3623,  0.3500],\n",
       "        [ 0.1681,  0.3813,  0.3500]])"
      ]
     },
     "execution_count": 14,
     "metadata": {},
     "output_type": "execute_result"
    }
   ],
   "source": [
    "# features x = [r, phi, z]\n",
    "feature_data.x[:10]"
   ]
  },
  {
   "cell_type": "code",
   "execution_count": 15,
   "metadata": {},
   "outputs": [
    {
     "data": {
      "text/plain": [
       "tensor([ 4.,  4., 10.,  4.,  4.,  7.,  5.,  8.,  9.,  1., 10.,  3.,  7.,  6.,\n",
       "         8.,  9.,  5.,  1.,  3.,  2.,  4., 10., 10.,  7.,  5.,  9.,  8.,  6.,\n",
       "         1.,  3.,  4.,  2.,  6., 10.,  4.,  5.,  9.,  7.,  8.,  1.,  3.,  6.,\n",
       "         2.,  4.,  7.,  5.,  9.,  8., 10.,  1.,  3.,  2.,  6.,  6.,  4.,  5.,\n",
       "         7.,  9.,  8.,  6.,  1.,  3., 10.,  2.,  7.,  4.,  5.,  9.,  8.,  1.,\n",
       "         3.,  6., 10.,  2.,  7.,  5., 10.,  8.,  9.,  4.,  3.,  1.,  6.,  2.,\n",
       "        10.,  9.,  1.,  7.,  5.,  4.,  3., 10.,  6.,  2., 10.,  6.,  8.,  9.,\n",
       "         1.,  5.,  7.,  3.,  4.,  4., 10.,  2.,  6.,  8.,  7.,  8.,  5.,  9.,\n",
       "         4.,  3.,  2.,  1.,  8.,  7.,  9.,  5.,  3.,  1.,  2.,  9.,  1.,  7.,\n",
       "         5.,  3.,  2.,  6.,  9.,  8.,  7.,  3.,  1.,  5.,  2.,  4.,  6.,  8.,\n",
       "         8.,  7.,  9.,  5.,  3.,  2.,  4.,  1.,  7.,  8.,  5.,  3.,  9.,  2.,\n",
       "         1.,  7.,  9.,  3.,  5.,  6.,  1.,  2.,  8.,  3.,  9.,  7.,  5.,  1.,\n",
       "         6.,  8.,  2.,  6.,  3.,  9.,  7.,  5.,  1.,  3.,  9.,  7.,  2.,  6.,\n",
       "         5.,  1.,  3.,  9.,  7.,  4.,  6.,  5.,  2.,  1.,  6.,  2.,  3.,  9.,\n",
       "         7.,  7., 10.,  5.,  4.,  1., 10.,  3.,  9.,  2.,  7.,  6.,  5.,  5.,\n",
       "         4.,  1., 10.,  3.,  7.,  9.,  2.,  6.,  5.,  1.,  4.,  2., 10.,  9.,\n",
       "         3.,  7.,  5.,  6.,  1.,  4.,  3.,  9.,  7.,  2.,  6., 10., 10., 10.,\n",
       "        10., 10.], dtype=torch.float64)"
      ]
     },
     "execution_count": 15,
     "metadata": {},
     "output_type": "execute_result"
    }
   ],
   "source": [
    "feature_data.pid[:10]"
   ]
  },
  {
   "cell_type": "code",
   "execution_count": 16,
   "metadata": {},
   "outputs": [
    {
     "data": {
      "text/plain": [
       "tensor([155, 156,  10, 159, 160,  67, 118,  49,  23, 216,   9, 166,  68,  94,\n",
       "         50,  24, 119, 217, 167, 192, 144,   1,  11,  69, 120,  25,  51,  95,\n",
       "        218, 168, 145, 193, 104,   2, 146, 121,  26,  70,  52, 219, 169,  96,\n",
       "        194, 147,  71, 122,  27,  53,   3, 220, 170, 195,  97, 105, 148, 123,\n",
       "         72,  28,  54,  98, 221, 171,   4, 196,  73, 149, 124,  29,  55, 222,\n",
       "        172,  99,   5, 197,  74, 125,  14,  56,  30, 150, 173, 223, 100, 198,\n",
       "          6,  31, 224,  75, 126, 151, 174,  15, 101, 199,   7, 102,  57,  32,\n",
       "        225, 127,  76, 175, 152, 153,   8, 200, 103,  58,  77,  59, 128,  33,\n",
       "        154, 176, 201, 226,  60,  78,  34, 129, 177, 227, 202,  35, 228,  79,\n",
       "        130, 178, 203, 106,  36,  61,  80, 179, 229, 131, 204, 157, 107,  62,\n",
       "         63,  81,  37, 132, 180, 205, 158, 230,  82,  64, 133, 181,  38, 206,\n",
       "        231,  83,  39, 182, 134, 108, 232, 207,  65, 183,  40,  84, 135, 233,\n",
       "        109,  66, 208, 110, 184,  41,  85, 136, 234, 185,  42,  86, 209, 111,\n",
       "        137, 235, 186,  43,  87, 161, 112, 138, 210, 236, 113, 211, 187,  44,\n",
       "         89,  88,  18, 139, 162, 237,  19, 188,  45, 212,  90, 114, 140, 141,\n",
       "        163, 238,  20, 189,  91,  46, 213, 115, 142, 239, 164, 214,  21,  47,\n",
       "        190,  92, 143, 116, 240, 165, 191,  48,  93, 215, 117,  22,  12,  13,\n",
       "         16,  17], dtype=torch.int32)"
      ]
     },
     "execution_count": 16,
     "metadata": {},
     "output_type": "execute_result"
    }
   ],
   "source": [
    "feature_data.hid[:10]"
   ]
  },
  {
   "cell_type": "code",
   "execution_count": 17,
   "metadata": {},
   "outputs": [
    {
     "data": {
      "text/plain": [
       "tensor([0.6098, 0.6097, 0.3184, 0.6098, 0.6097, 1.0319, 0.5786, 0.2222, 0.8135,\n",
       "        1.0237, 0.3182, 0.1690, 1.0318, 1.3867, 0.2220, 0.8134, 0.5784, 1.0236,\n",
       "        0.1689, 0.5979, 0.6095, 0.3179, 0.3181, 1.0316, 0.5784, 0.8134, 0.2219,\n",
       "        1.3867, 1.0237, 0.1690, 0.6096, 0.5978, 1.3866, 0.3184, 0.6097, 0.5787,\n",
       "        0.8134, 1.0315, 0.2219, 1.0237, 0.1690, 1.3866, 0.5975, 0.6097, 1.0318,\n",
       "        0.5786, 0.8136, 0.2217, 0.3183, 1.0238, 0.1675, 0.5975, 1.3866, 1.3866,\n",
       "        0.6087, 0.5788, 1.0320, 0.8135, 0.2214, 1.3866, 1.0238, 0.1657, 0.3180,\n",
       "        0.5976, 1.0320, 0.6090, 0.5789, 0.8136, 0.2214, 1.0238, 0.1657, 1.3866,\n",
       "        0.3180, 0.5978, 1.0319, 0.5793, 0.3170, 0.2214, 0.8137, 0.6093, 0.1656,\n",
       "        1.0240, 1.3866, 0.5980, 0.3179, 0.8139, 1.0240, 1.0317, 0.5794, 0.6097,\n",
       "        0.1656, 0.3169, 1.3866, 0.5982, 0.3178, 1.3867, 0.2212, 0.8140, 1.0240,\n",
       "        0.5793, 1.0316, 0.1655, 0.6097, 0.6097, 0.3180, 0.5982, 1.3867, 0.2209,\n",
       "        1.0310, 0.2209, 0.5793, 0.8141, 0.6098, 0.1653, 0.5981, 1.0241, 0.2209,\n",
       "        1.0306, 0.8142, 0.5796, 0.1654, 1.0242, 0.5977, 0.8142, 1.0243, 1.0305,\n",
       "        0.5794, 0.1652, 0.5977, 1.3866, 0.8142, 0.2211, 1.0304, 0.1649, 1.0242,\n",
       "        0.5793, 0.5976, 0.6097, 1.3867, 0.2210, 0.2210, 1.0304, 0.8142, 0.5794,\n",
       "        0.1650, 0.5976, 0.6098, 1.0241, 1.0305, 0.2213, 0.5796, 0.1651, 0.8144,\n",
       "        0.5974, 1.0240, 1.0304, 0.8145, 0.1650, 0.5800, 1.3867, 1.0238, 0.5976,\n",
       "        0.2205, 0.1644, 0.8144, 1.0305, 0.5800, 1.0240, 1.3866, 0.2204, 0.5977,\n",
       "        1.3866, 0.1644, 0.8144, 1.0305, 0.5801, 1.0241, 0.1645, 0.8144, 1.0305,\n",
       "        0.5976, 1.3866, 0.5799, 1.0240, 0.1641, 0.8146, 1.0307, 0.6097, 1.3866,\n",
       "        0.5802, 0.5974, 1.0241, 1.3867, 0.5982, 0.1642, 0.8146, 1.0319, 1.0309,\n",
       "        0.3168, 0.5804, 0.6098, 1.0240, 0.3167, 0.1647, 0.8145, 0.5982, 1.0320,\n",
       "        1.3867, 0.5804, 0.5800, 0.6098, 1.0240, 0.3171, 0.1648, 1.0321, 0.8143,\n",
       "        0.5982, 1.3867, 0.5799, 1.0239, 0.6099, 0.5980, 0.3175, 0.8142, 0.1648,\n",
       "        1.0325, 0.5800, 1.3867, 1.0236, 0.6098, 0.1648, 0.8141, 1.0326, 0.5980,\n",
       "        1.3867, 0.3175, 0.3178, 0.3172, 0.3168, 0.3170])"
      ]
     },
     "execution_count": 17,
     "metadata": {},
     "output_type": "execute_result"
    }
   ],
   "source": [
    "feature_data.pt[:10]"
   ]
  },
  {
   "cell_type": "code",
   "execution_count": 18,
   "metadata": {},
   "outputs": [
    {
     "data": {
      "text/plain": [
       "tensor([[  0,   1,   3,   4,  20,  30,  34,  43,  54,  65,  79,  89, 102, 103,\n",
       "         112, 137, 146, 187, 200, 210, 220,   2,  10,  21,  22,  33,  48,  62,\n",
       "          72,  76,  84,  91,  94, 104, 198, 202, 212, 222, 235, 236, 237, 238,\n",
       "           5,  12,  23,  37,  44,  56,  64,  74,  87, 100, 108, 117, 125, 132,\n",
       "         141, 148, 155, 165, 174, 179, 186, 196, 206, 214, 225,   6,  16,  24,\n",
       "          35,  45,  55,  66,  75,  88,  99, 110, 119, 126, 135, 143, 150, 158,\n",
       "         166, 175, 182, 189, 199, 208, 209, 218,   7,  14,  26,  38,  47,  58,\n",
       "          68,  77,  96, 107, 109, 116, 131, 139, 140, 149, 162,   8,  15,  25,\n",
       "          36,  46,  57,  67,  78,  85,  97, 111, 118, 123, 130, 142, 152, 156,\n",
       "         164, 173, 178, 185, 195, 204, 215, 223,   9,  17,  28,  39,  49,  60,\n",
       "          69,  81,  86,  98, 115, 121, 124, 134, 147, 154, 160, 167, 176, 183,\n",
       "         191, 201, 211, 219,  11,  18,  29,  40,  50,  61,  70,  80,  90, 101,\n",
       "         113, 120, 127, 133, 144, 151, 157, 163, 172, 177, 184, 194, 203, 213,\n",
       "         224,  13,  27,  32,  41,  52,  53,  59,  71,  82,  92,  95, 106, 129,\n",
       "         138, 159, 168, 171, 181, 188, 192, 207, 217, 227,  19,  31,  42,  51,\n",
       "          63,  73,  83,  93, 105, 114, 122, 128, 136, 145, 153, 161, 170, 180,\n",
       "         190, 193, 205, 216, 221],\n",
       "        [  1,   3,   4,  20,  30,  34,  43,  54,  65,  79,  89, 102, 103, 112,\n",
       "         137, 146, 187, 200, 210, 220, 229,  10,  21,  22,  33,  48,  62,  72,\n",
       "          76,  84,  91,  94, 104, 198, 202, 212, 222, 235, 236, 237, 238, 239,\n",
       "          12,  23,  37,  44,  56,  64,  74,  87, 100, 108, 117, 125, 132, 141,\n",
       "         148, 155, 165, 174, 179, 186, 196, 206, 214, 225, 232,  16,  24,  35,\n",
       "          45,  55,  66,  75,  88,  99, 110, 119, 126, 135, 143, 150, 158, 166,\n",
       "         175, 182, 189, 199, 208, 209, 218, 226,  14,  26,  38,  47,  58,  68,\n",
       "          77,  96, 107, 109, 116, 131, 139, 140, 149, 162, 169,  15,  25,  36,\n",
       "          46,  57,  67,  78,  85,  97, 111, 118, 123, 130, 142, 152, 156, 164,\n",
       "         173, 178, 185, 195, 204, 215, 223, 231,  17,  28,  39,  49,  60,  69,\n",
       "          81,  86,  98, 115, 121, 124, 134, 147, 154, 160, 167, 176, 183, 191,\n",
       "         201, 211, 219, 228,  18,  29,  40,  50,  61,  70,  80,  90, 101, 113,\n",
       "         120, 127, 133, 144, 151, 157, 163, 172, 177, 184, 194, 203, 213, 224,\n",
       "         230,  27,  32,  41,  52,  53,  59,  71,  82,  92,  95, 106, 129, 138,\n",
       "         159, 168, 171, 181, 188, 192, 207, 217, 227, 234,  31,  42,  51,  63,\n",
       "          73,  83,  93, 105, 114, 122, 128, 136, 145, 153, 161, 170, 180, 190,\n",
       "         193, 205, 216, 221, 233]])"
      ]
     },
     "execution_count": 18,
     "metadata": {},
     "output_type": "execute_result"
    }
   ],
   "source": [
    "feature_data.modulewise_true_edges"
   ]
  },
  {
   "cell_type": "code",
   "execution_count": 19,
   "metadata": {},
   "outputs": [
    {
     "data": {
      "text/plain": [
       "tensor([[  9,  17,  28,  39,  49,  60,  69,  81,  86,  98, 115, 121, 124, 134,\n",
       "         147, 154, 160, 167, 176, 183, 191, 201, 211, 219,  19,  31,  42,  51,\n",
       "          63,  73,  83,  93, 105, 114, 122, 128, 136, 145, 153, 161, 170, 180,\n",
       "         190, 193, 205, 216, 221,  11,  18,  29,  40,  50,  61,  70,  80,  90,\n",
       "         101, 113, 120, 127, 133, 144, 151, 157, 163, 172, 177, 184, 194, 203,\n",
       "         213, 224,   0,   1,   3,   4,  20,  20,  30,  34,  43,  54,  65,  79,\n",
       "          89, 102, 103, 112, 137, 146, 187, 200, 210, 220,   6,  16,  24,  35,\n",
       "          45,  55,  66,  75,  88,  99, 110, 119, 126, 135, 143, 150, 158, 166,\n",
       "         175, 182, 189, 199, 199, 208, 209, 218,  13,  27,  32,  41,  52,  53,\n",
       "          59,  71,  82,  92,  95, 106, 129, 138, 159, 168, 171, 181, 188, 192,\n",
       "         207, 217, 227,   5,  12,  23,  37,  44,  56,  64,  74,  87, 100, 108,\n",
       "         117, 125, 132, 141, 148, 155, 165, 174, 179, 186, 186, 196, 197, 206,\n",
       "         214, 225,   7,  14,  26,  38,  47,  58,  68,  77,  96, 107, 109, 116,\n",
       "         131, 139, 140, 149, 162,   8,  15,  25,  36,  46,  57,  67,  78,  85,\n",
       "          97, 111, 118, 123, 130, 142, 152, 156, 164, 173, 178, 185, 195, 204,\n",
       "         215, 223,   2,  10,  21,  22,  33,  48,  62,  72,  76,  84,  91,  94,\n",
       "         104, 104, 198, 202, 212, 222, 235, 236, 237, 238],\n",
       "        [ 17,  28,  39,  49,  60,  69,  81,  86,  98, 115, 121, 124, 134, 147,\n",
       "         154, 160, 167, 176, 183, 191, 201, 211, 219, 228,  31,  42,  51,  63,\n",
       "          73,  83,  93, 105, 114, 122, 128, 136, 145, 153, 161, 170, 180, 190,\n",
       "         193, 205, 216, 221, 233,  18,  29,  40,  50,  61,  70,  80,  90, 101,\n",
       "         113, 120, 127, 133, 144, 151, 157, 163, 172, 177, 184, 194, 203, 213,\n",
       "         224, 230,   1,   3,   4,  20,  30,  34,  43,  43,  54,  65,  79,  89,\n",
       "         102, 103, 112, 137, 146, 187, 200, 210, 220, 229,  16,  24,  35,  45,\n",
       "          55,  66,  75,  88,  99, 110, 119, 126, 135, 143, 150, 158, 166, 175,\n",
       "         182, 189, 199, 208, 209, 218, 218, 226,  27,  32,  41,  52,  53,  59,\n",
       "          71,  82,  92,  95, 106, 129, 138, 159, 168, 171, 181, 188, 192, 207,\n",
       "         217, 227, 234,  12,  23,  37,  44,  56,  64,  74,  87, 100, 108, 117,\n",
       "         125, 132, 141, 148, 155, 165, 174, 179, 186, 196, 197, 206, 206, 214,\n",
       "         225, 232,  14,  26,  38,  47,  58,  68,  77,  96, 107, 109, 116, 131,\n",
       "         139, 140, 149, 162, 169,  15,  25,  36,  46,  57,  67,  78,  85,  97,\n",
       "         111, 118, 123, 130, 142, 152, 156, 164, 173, 178, 185, 195, 204, 215,\n",
       "         223, 231,  21,  21,  22,  33,  48,  62,  72,  76,  84,  91,  94, 104,\n",
       "         198, 202, 212, 212, 222, 235, 236, 237, 238, 239]])"
      ]
     },
     "execution_count": 19,
     "metadata": {},
     "output_type": "execute_result"
    }
   ],
   "source": [
    "feature_data.layerwise_true_edges"
   ]
  },
  {
   "cell_type": "markdown",
   "metadata": {},
   "source": [
    "### _(+) - Embedding_\n",
    "\n",
    "- training has already been done using `TrainTrack`.\n",
    "- examine the embedding e.g. view embedding space etc, etc."
   ]
  },
  {
   "cell_type": "code",
   "execution_count": 20,
   "metadata": {},
   "outputs": [],
   "source": [
    "from LightningModules.Embedding.Models.layerless_embedding import LayerlessEmbedding"
   ]
  },
  {
   "cell_type": "code",
   "execution_count": 21,
   "metadata": {},
   "outputs": [],
   "source": [
    "# load hparams from config file\n",
    "config_file = \"LightningModules/Embedding/train_quickstart_embedding.yaml\"\n",
    "with open(config_file) as f:\n",
    "    hparams = yaml.load(f, Loader=yaml.FullLoader)"
   ]
  },
  {
   "cell_type": "code",
   "execution_count": 22,
   "metadata": {},
   "outputs": [
    {
     "name": "stdout",
     "output_type": "stream",
     "text": [
      "{ 'activation': 'Tanh',\n",
      "  'callbacks': [['EmbeddingBuilder']],\n",
      "  'cell_channels': 8,\n",
      "  'emb_dim': 12,\n",
      "  'emb_hidden': 1024,\n",
      "  'factor': 0.3,\n",
      "  'input_dir': '${EXATRKX_DATA}/run/feature_store',\n",
      "  'knn': 100,\n",
      "  'lr': 0.01,\n",
      "  'margin': 0.1,\n",
      "  'max_epochs': 10,\n",
      "  'n_workers': 8,\n",
      "  'nb_layer': 4,\n",
      "  'noise': False,\n",
      "  'output_dir': '${EXATRKX_DATA}/run/embedding_processed',\n",
      "  'overwrite': True,\n",
      "  'patience': 20,\n",
      "  'points_per_batch': 10000,\n",
      "  'project': 'EmbeddingStudy',\n",
      "  'pt_background_cut': 0.0,\n",
      "  'pt_signal_cut': 0.0,\n",
      "  'r_test': 0.1,\n",
      "  'r_train': 0.1,\n",
      "  'r_val': 0.1,\n",
      "  'randomisation': 1,\n",
      "  'regime': [['rp', 'hnm']],\n",
      "  'spatial_channels': 3,\n",
      "  'train_split': [[800, 100, 100]],\n",
      "  'true_edges': 'modulewise_true_edges',\n",
      "  'warmup': 500,\n",
      "  'weight': 2}\n"
     ]
    }
   ],
   "source": [
    "# see hparams used in this stage\n",
    "pp = pprint.PrettyPrinter(indent=2)\n",
    "pp.pprint(hparams)"
   ]
  },
  {
   "cell_type": "code",
   "execution_count": 23,
   "metadata": {},
   "outputs": [],
   "source": [
    "# Layerless Embedding\n",
    "e_model = LayerlessEmbedding(hparams)"
   ]
  },
  {
   "cell_type": "code",
   "execution_count": 24,
   "metadata": {},
   "outputs": [
    {
     "name": "stdout",
     "output_type": "stream",
     "text": [
      "LayerlessEmbedding(\n",
      "  (network): Sequential(\n",
      "    (0): Linear(in_features=3, out_features=1024, bias=True)\n",
      "    (1): LayerNorm((1024,), eps=1e-05, elementwise_affine=True)\n",
      "    (2): Tanh()\n",
      "    (3): Linear(in_features=1024, out_features=1024, bias=True)\n",
      "    (4): LayerNorm((1024,), eps=1e-05, elementwise_affine=True)\n",
      "    (5): Tanh()\n",
      "    (6): Linear(in_features=1024, out_features=1024, bias=True)\n",
      "    (7): LayerNorm((1024,), eps=1e-05, elementwise_affine=True)\n",
      "    (8): Tanh()\n",
      "    (9): Linear(in_features=1024, out_features=1024, bias=True)\n",
      "    (10): LayerNorm((1024,), eps=1e-05, elementwise_affine=True)\n",
      "    (11): Tanh()\n",
      "    (12): Linear(in_features=1024, out_features=12, bias=True)\n",
      "  )\n",
      ")\n"
     ]
    }
   ],
   "source": [
    "print(e_model)"
   ]
  },
  {
   "cell_type": "markdown",
   "metadata": {},
   "source": [
    "### _(+) Loading Checkpoints_"
   ]
  },
  {
   "cell_type": "markdown",
   "metadata": {},
   "source": [
    "After training finishes, use `checkpoint_callback.best_model_path` to retrieve the path to the best checkpoint file and `checkpoint_callback.best_model_score` to retrieve its score."
   ]
  },
  {
   "cell_type": "code",
   "execution_count": 25,
   "metadata": {},
   "outputs": [],
   "source": [
    "# checkpoint dir\n",
    "e_checkpoint = \"run/lightning_models/lightning_checkpoints/EmbeddingStudy/version_0/checkpoints/last.ckpt\""
   ]
  },
  {
   "cell_type": "code",
   "execution_count": 26,
   "metadata": {},
   "outputs": [],
   "source": [
    "# load checkpoint\n",
    "e_model = e_model.load_from_checkpoint(checkpoint_path=e_checkpoint, hparam=hparams)"
   ]
  },
  {
   "cell_type": "code",
   "execution_count": 27,
   "metadata": {},
   "outputs": [
    {
     "data": {
      "text/plain": [
       "LayerlessEmbedding(\n",
       "  (network): Sequential(\n",
       "    (0): Linear(in_features=3, out_features=1024, bias=True)\n",
       "    (1): LayerNorm((1024,), eps=1e-05, elementwise_affine=True)\n",
       "    (2): Tanh()\n",
       "    (3): Linear(in_features=1024, out_features=1024, bias=True)\n",
       "    (4): LayerNorm((1024,), eps=1e-05, elementwise_affine=True)\n",
       "    (5): Tanh()\n",
       "    (6): Linear(in_features=1024, out_features=1024, bias=True)\n",
       "    (7): LayerNorm((1024,), eps=1e-05, elementwise_affine=True)\n",
       "    (8): Tanh()\n",
       "    (9): Linear(in_features=1024, out_features=1024, bias=True)\n",
       "    (10): LayerNorm((1024,), eps=1e-05, elementwise_affine=True)\n",
       "    (11): Tanh()\n",
       "    (12): Linear(in_features=1024, out_features=12, bias=True)\n",
       "  )\n",
       ")"
      ]
     },
     "execution_count": 27,
     "metadata": {},
     "output_type": "execute_result"
    }
   ],
   "source": [
    "e_model.eval()"
   ]
  },
  {
   "cell_type": "code",
   "execution_count": 28,
   "metadata": {},
   "outputs": [],
   "source": [
    "spatial = e_model(feature_data.x)"
   ]
  },
  {
   "cell_type": "code",
   "execution_count": 29,
   "metadata": {},
   "outputs": [],
   "source": [
    "spatial_np = spatial.detach().numpy()"
   ]
  },
  {
   "cell_type": "code",
   "execution_count": 30,
   "metadata": {},
   "outputs": [
    {
     "data": {
      "text/plain": [
       "torch.Size([240, 12])"
      ]
     },
     "execution_count": 30,
     "metadata": {},
     "output_type": "execute_result"
    }
   ],
   "source": [
    "spatial.shape"
   ]
  },
  {
   "cell_type": "code",
   "execution_count": 31,
   "metadata": {},
   "outputs": [
    {
     "data": {
      "text/plain": [
       "torch.Size([240])"
      ]
     },
     "execution_count": 31,
     "metadata": {},
     "output_type": "execute_result"
    }
   ],
   "source": [
    "feature_data.pid.shape"
   ]
  },
  {
   "cell_type": "raw",
   "metadata": {
    "tags": []
   },
   "source": [
    "## _Efficiency_"
   ]
  },
  {
   "cell_type": "raw",
   "metadata": {},
   "source": [
    "# doublet efficiency and purity\n",
    "efficiency = (y where y is 1)/layerless_true_edeges\n",
    "\n",
    "purity = (y where y is 1)/len(y)"
   ]
  },
  {
   "cell_type": "markdown",
   "metadata": {},
   "source": [
    "## _Embedding Data_"
   ]
  },
  {
   "cell_type": "code",
   "execution_count": 32,
   "metadata": {
    "colab": {
     "base_uri": "https://localhost:8080/"
    },
    "id": "8tKqKAfxrC4z",
    "outputId": "9b9c8adc-7ae0-40da-972c-352e94393471"
   },
   "outputs": [
    {
     "name": "stdout",
     "output_type": "stream",
     "text": [
      "0001  0080  0161  0232\t0308  0389  0467  0539\t0619  0694  0770  0842\t0926\n",
      "0002  0081  0162  0234\t0310  0390  0469  0540\t0620  0695  0771  0844\t0927\n",
      "0003  0083  0163  0235\t0312  0391  0470  0541\t0621  0696  0773  0845\t0928\n",
      "0005  0084  0164  0236\t0313  0392  0471  0542\t0622  0697  0774  0846\t0929\n",
      "0006  0086  0166  0237\t0314  0393  0472  0543\t0623  0698  0776  0847\t0931\n",
      "0007  0087  0167  0238\t0315  0395  0473  0545\t0624  0699  0777  0848\t0932\n",
      "0010  0088  0168  0239\t0317  0398  0474  0547\t0625  0701  0778  0849\t0933\n",
      "0011  0091  0169  0240\t0318  0399  0475  0548\t0626  0702  0779  0850\t0934\n",
      "0012  0092  0170  0241\t0319  0401  0476  0549\t0627  0703  0780  0852\t0936\n",
      "0013  0093  0171  0242\t0320  0402  0477  0550\t0628  0704  0781  0855\t0937\n",
      "0014  0094  0173  0243\t0321  0403  0478  0551\t0629  0705  0783  0856\t0942\n",
      "0015  0095  0174  0244\t0322  0405  0479  0552\t0630  0706  0784  0858\t0943\n",
      "0016  0097  0175  0245\t0323  0406  0480  0553\t0631  0707  0785  0859\t0944\n",
      "0017  0098  0176  0246\t0324  0407  0481  0554\t0632  0708  0787  0860\t0945\n",
      "0018  0099  0177  0247\t0325  0408  0483  0555\t0633  0710  0789  0861\t0946\n",
      "0020  0100  0178  0249\t0326  0410  0484  0556\t0635  0711  0790  0862\t0948\n",
      "0021  0101  0179  0250\t0328  0411  0485  0557\t0636  0713  0791  0863\t0951\n",
      "0022  0102  0180  0251\t0329  0412  0486  0558\t0637  0715  0792  0864\t0953\n",
      "0024  0104  0182  0252\t0330  0413  0487  0559\t0638  0716  0794  0867\t0954\n",
      "0025  0105  0183  0254\t0333  0414  0489  0561\t0639  0717  0795  0868\t0956\n",
      "0026  0106  0184  0257\t0334  0415  0490  0562\t0641  0719  0796  0870\t0957\n",
      "0028  0107  0185  0260\t0335  0416  0491  0563\t0642  0720  0797  0871\t0959\n",
      "0030  0109  0186  0261\t0336  0417  0492  0564\t0643  0722  0798  0873\t0960\n",
      "0032  0111  0187  0262\t0337  0418  0493  0565\t0644  0723  0799  0874\t0961\n",
      "0033  0112  0188  0264\t0338  0419  0494  0566\t0645  0724  0800  0875\t0962\n",
      "0034  0114  0190  0266\t0340  0420  0495  0567\t0646  0725  0801  0876\t0963\n",
      "0035  0115  0192  0268\t0343  0421  0496  0568\t0647  0726  0802  0877\t0964\n",
      "0037  0116  0193  0269\t0344  0422  0497  0569\t0648  0727  0803  0878\t0965\n",
      "0038  0117  0194  0270\t0345  0424  0499  0570\t0649  0728  0804  0879\t0966\n",
      "0039  0118  0195  0271\t0347  0425  0500  0571\t0651  0730  0805  0880\t0967\n",
      "0041  0119  0196  0273\t0348  0427  0501  0573\t0652  0732  0806  0881\t0968\n",
      "0042  0120  0198  0274\t0349  0428  0503  0574\t0653  0733  0807  0882\t0969\n",
      "0043  0121  0199  0275\t0351  0429  0504  0577\t0654  0736  0808  0883\t0970\n",
      "0044  0122  0200  0276\t0353  0430  0505  0578\t0655  0737  0809  0884\t0971\n",
      "0045  0124  0201  0277\t0354  0431  0506  0579\t0656  0738  0810  0885\t0972\n",
      "0046  0125  0202  0278\t0355  0432  0507  0580\t0658  0740  0811  0887\t0974\n",
      "0047  0128  0203  0280\t0356  0433  0508  0581\t0659  0741  0812  0890\t0977\n",
      "0048  0129  0204  0281\t0357  0435  0509  0583\t0660  0742  0813  0891\t0978\n",
      "0051  0130  0205  0282\t0359  0436  0510  0584\t0661  0743  0814  0893\t0979\n",
      "0052  0132  0206  0284\t0362  0437  0511  0585\t0662  0746  0815  0895\t0980\n",
      "0053  0134  0207  0285\t0363  0439  0512  0586\t0666  0747  0816  0897\t0982\n",
      "0054  0136  0208  0286\t0364  0440  0513  0587\t0667  0748  0817  0900\t0983\n",
      "0055  0137  0209  0287\t0365  0442  0514  0588\t0668  0749  0818  0901\t0985\n",
      "0056  0138  0210  0288\t0366  0444  0515  0590\t0670  0751  0820  0903\t0986\n",
      "0057  0139  0211  0289\t0367  0445  0516  0591\t0671  0752  0821  0904\t0987\n",
      "0058  0140  0212  0290\t0368  0446  0517  0595\t0672  0753  0823  0905\t0988\n",
      "0059  0142  0213  0291\t0369  0447  0519  0597\t0673  0754  0824  0906\t0989\n",
      "0060  0143  0214  0292\t0370  0448  0520  0598\t0675  0755  0826  0907\t0990\n",
      "0061  0144  0215  0293\t0371  0450  0521  0599\t0676  0756  0827  0908\t0991\n",
      "0062  0145  0216  0294\t0372  0451  0522  0602\t0679  0757  0828  0909\t0992\n",
      "0063  0146  0217  0295\t0373  0452  0524  0603\t0680  0758  0829  0910\t0993\n",
      "0064  0147  0218  0296\t0374  0453  0525  0604\t0681  0759  0830  0911\t0994\n",
      "0065  0149  0219  0297\t0376  0454  0526  0607\t0682  0760  0831  0912\t0996\n",
      "0066  0151  0221  0298\t0378  0455  0528  0608\t0683  0761  0832  0913\t0997\n",
      "0067  0152  0222  0300\t0379  0456  0529  0609\t0684  0762  0833  0914\t0998\n",
      "0068  0153  0224  0301\t0380  0459  0531  0610\t0685  0763  0834  0915\t0999\n",
      "0070  0154  0226  0302\t0381  0460  0532  0611\t0688  0764  0835  0917\n",
      "0071  0156  0227  0303\t0382  0461  0533  0613\t0689  0765  0836  0918\n",
      "0072  0157  0228  0304\t0383  0462  0534  0614\t0690  0766  0837  0919\n",
      "0076  0158  0229  0305\t0385  0464  0535  0615\t0691  0767  0838  0921\n",
      "0078  0159  0230  0306\t0386  0465  0537  0617\t0692  0768  0840  0923\n",
      "0079  0160  0231  0307\t0387  0466  0538  0618\t0693  0769  0841  0924\n"
     ]
    }
   ],
   "source": [
    "# list training output\n",
    "!ls run/embedding_processed/train"
   ]
  },
  {
   "cell_type": "code",
   "execution_count": 34,
   "metadata": {},
   "outputs": [
    {
     "name": "stdout",
     "output_type": "stream",
     "text": [
      "Length of Data: 12\n"
     ]
    }
   ],
   "source": [
    "embedding_data = torch.load(os.path.join(\"run/embedding_processed/\", \"train\", \"0001\"), map_location=device)\n",
    "print(\"Length of Data: {}\".format(len(embedding_data)))"
   ]
  },
  {
   "cell_type": "code",
   "execution_count": 35,
   "metadata": {},
   "outputs": [
    {
     "data": {
      "text/plain": [
       "Data(x=[252, 3], pid=[252], layers=[252], event_file='/home/adeel/current/3_deeptrkx/stttrkx-hsf/train_all/event0000000001', hid=[252], pt=[252], modulewise_true_edges=[2, 242], layerwise_true_edges=[2, 271], signal_true_edges=[2, 242], edge_index=[2, 3360], y=[3360], y_pid=[3360])"
      ]
     },
     "execution_count": 35,
     "metadata": {},
     "output_type": "execute_result"
    }
   ],
   "source": [
    "# train data by embedding stage\n",
    "embedding_data"
   ]
  },
  {
   "cell_type": "code",
   "execution_count": 36,
   "metadata": {},
   "outputs": [
    {
     "data": {
      "text/plain": [
       "tensor([[ 0.2622, -0.8059,  0.0026],\n",
       "        [ 0.2723, -0.8069,  0.0026],\n",
       "        [ 0.2839, -0.8652,  0.0908],\n",
       "        [ 0.2939, -0.8641,  0.0908],\n",
       "        [ 0.2587,  0.8703,  0.1666],\n",
       "        [ 0.3113, -0.8105, -0.0041],\n",
       "        [ 0.2687,  0.8690,  0.1665],\n",
       "        [ 0.2735,  0.4380,  0.1681],\n",
       "        [ 0.3214, -0.8112, -0.0041],\n",
       "        [ 0.3046,  0.8714,  0.1116]])"
      ]
     },
     "execution_count": 36,
     "metadata": {},
     "output_type": "execute_result"
    }
   ],
   "source": [
    "embedding_data.x[:10]"
   ]
  },
  {
   "cell_type": "code",
   "execution_count": 37,
   "metadata": {
    "colab": {
     "base_uri": "https://localhost:8080/"
    },
    "id": "zXiYSwDRq29U",
    "outputId": "e8a3de38-1d7a-4527-d4a5-3308ef14495b"
   },
   "outputs": [
    {
     "data": {
      "text/plain": [
       "tensor([0.6757, 0.6756, 1.1325, 1.1323, 0.6224, 0.6757, 0.6221, 0.8160, 0.6757,\n",
       "        0.6225])"
      ]
     },
     "execution_count": 37,
     "metadata": {},
     "output_type": "execute_result"
    }
   ],
   "source": [
    "embedding_data.pt[:10]"
   ]
  },
  {
   "cell_type": "code",
   "execution_count": 38,
   "metadata": {},
   "outputs": [
    {
     "data": {
      "text/html": [
       "<div>\n",
       "<style scoped>\n",
       "    .dataframe tbody tr th:only-of-type {\n",
       "        vertical-align: middle;\n",
       "    }\n",
       "\n",
       "    .dataframe tbody tr th {\n",
       "        vertical-align: top;\n",
       "    }\n",
       "\n",
       "    .dataframe thead th {\n",
       "        text-align: right;\n",
       "    }\n",
       "</style>\n",
       "<table border=\"1\" class=\"dataframe\">\n",
       "  <thead>\n",
       "    <tr style=\"text-align: right;\">\n",
       "      <th></th>\n",
       "      <th>hit_id</th>\n",
       "      <th>x</th>\n",
       "      <th>y</th>\n",
       "      <th>z</th>\n",
       "      <th>volume_id</th>\n",
       "      <th>layer_id</th>\n",
       "      <th>module_id</th>\n",
       "    </tr>\n",
       "  </thead>\n",
       "  <tbody>\n",
       "    <tr>\n",
       "      <th>0</th>\n",
       "      <td>1</td>\n",
       "      <td>-12.2456</td>\n",
       "      <td>12.120</td>\n",
       "      <td>35.0</td>\n",
       "      <td>9</td>\n",
       "      <td>0</td>\n",
       "      <td>12</td>\n",
       "    </tr>\n",
       "    <tr>\n",
       "      <th>1</th>\n",
       "      <td>2</td>\n",
       "      <td>-13.1203</td>\n",
       "      <td>12.625</td>\n",
       "      <td>35.0</td>\n",
       "      <td>9</td>\n",
       "      <td>1</td>\n",
       "      <td>117</td>\n",
       "    </tr>\n",
       "    <tr>\n",
       "      <th>2</th>\n",
       "      <td>3</td>\n",
       "      <td>-13.9950</td>\n",
       "      <td>13.130</td>\n",
       "      <td>35.0</td>\n",
       "      <td>9</td>\n",
       "      <td>2</td>\n",
       "      <td>228</td>\n",
       "    </tr>\n",
       "    <tr>\n",
       "      <th>3</th>\n",
       "      <td>4</td>\n",
       "      <td>-13.9950</td>\n",
       "      <td>14.140</td>\n",
       "      <td>35.0</td>\n",
       "      <td>9</td>\n",
       "      <td>3</td>\n",
       "      <td>344</td>\n",
       "    </tr>\n",
       "    <tr>\n",
       "      <th>4</th>\n",
       "      <td>5</td>\n",
       "      <td>-14.8697</td>\n",
       "      <td>14.645</td>\n",
       "      <td>35.0</td>\n",
       "      <td>9</td>\n",
       "      <td>4</td>\n",
       "      <td>467</td>\n",
       "    </tr>\n",
       "  </tbody>\n",
       "</table>\n",
       "</div>"
      ],
      "text/plain": [
       "   hit_id        x       y     z  volume_id  layer_id  module_id\n",
       "0       1 -12.2456  12.120  35.0          9         0         12\n",
       "1       2 -13.1203  12.625  35.0          9         1        117\n",
       "2       3 -13.9950  13.130  35.0          9         2        228\n",
       "3       4 -13.9950  14.140  35.0          9         3        344\n",
       "4       5 -14.8697  14.645  35.0          9         4        467"
      ]
     },
     "execution_count": 38,
     "metadata": {},
     "output_type": "execute_result"
    }
   ],
   "source": [
    "# see the corresponding raw data\n",
    "hits, tubes, particles, truth = trackml.dataset.load_event(embedding_data.event_file)\n",
    "hits.head()"
   ]
  },
  {
   "cell_type": "code",
   "execution_count": 39,
   "metadata": {},
   "outputs": [
    {
     "data": {
      "text/html": [
       "<div>\n",
       "<style scoped>\n",
       "    .dataframe tbody tr th:only-of-type {\n",
       "        vertical-align: middle;\n",
       "    }\n",
       "\n",
       "    .dataframe tbody tr th {\n",
       "        vertical-align: top;\n",
       "    }\n",
       "\n",
       "    .dataframe thead th {\n",
       "        text-align: right;\n",
       "    }\n",
       "</style>\n",
       "<table border=\"1\" class=\"dataframe\">\n",
       "  <thead>\n",
       "    <tr style=\"text-align: right;\">\n",
       "      <th></th>\n",
       "      <th>particle_id</th>\n",
       "      <th>vx</th>\n",
       "      <th>vy</th>\n",
       "      <th>vz</th>\n",
       "      <th>px</th>\n",
       "      <th>py</th>\n",
       "      <th>pz</th>\n",
       "      <th>q</th>\n",
       "      <th>nhits</th>\n",
       "      <th>pdgcode</th>\n",
       "      <th>start_time</th>\n",
       "    </tr>\n",
       "  </thead>\n",
       "  <tbody>\n",
       "    <tr>\n",
       "      <th>0</th>\n",
       "      <td>1</td>\n",
       "      <td>0.0</td>\n",
       "      <td>0.0</td>\n",
       "      <td>0.0</td>\n",
       "      <td>-0.134669</td>\n",
       "      <td>0.028540</td>\n",
       "      <td>-0.091022</td>\n",
       "      <td>1</td>\n",
       "      <td>25</td>\n",
       "      <td>13</td>\n",
       "      <td>0</td>\n",
       "    </tr>\n",
       "    <tr>\n",
       "      <th>1</th>\n",
       "      <td>2</td>\n",
       "      <td>0.0</td>\n",
       "      <td>0.0</td>\n",
       "      <td>0.0</td>\n",
       "      <td>-0.550762</td>\n",
       "      <td>-0.441498</td>\n",
       "      <td>0.780609</td>\n",
       "      <td>1</td>\n",
       "      <td>24</td>\n",
       "      <td>13</td>\n",
       "      <td>0</td>\n",
       "    </tr>\n",
       "    <tr>\n",
       "      <th>2</th>\n",
       "      <td>3</td>\n",
       "      <td>0.0</td>\n",
       "      <td>0.0</td>\n",
       "      <td>0.0</td>\n",
       "      <td>-0.072724</td>\n",
       "      <td>0.023378</td>\n",
       "      <td>0.175138</td>\n",
       "      <td>1</td>\n",
       "      <td>30</td>\n",
       "      <td>13</td>\n",
       "      <td>0</td>\n",
       "    </tr>\n",
       "    <tr>\n",
       "      <th>3</th>\n",
       "      <td>4</td>\n",
       "      <td>0.0</td>\n",
       "      <td>0.0</td>\n",
       "      <td>0.0</td>\n",
       "      <td>0.936311</td>\n",
       "      <td>-0.311491</td>\n",
       "      <td>-1.019850</td>\n",
       "      <td>1</td>\n",
       "      <td>24</td>\n",
       "      <td>13</td>\n",
       "      <td>0</td>\n",
       "    </tr>\n",
       "    <tr>\n",
       "      <th>4</th>\n",
       "      <td>5</td>\n",
       "      <td>0.0</td>\n",
       "      <td>0.0</td>\n",
       "      <td>0.0</td>\n",
       "      <td>-1.049040</td>\n",
       "      <td>-0.440627</td>\n",
       "      <td>0.471787</td>\n",
       "      <td>1</td>\n",
       "      <td>23</td>\n",
       "      <td>13</td>\n",
       "      <td>0</td>\n",
       "    </tr>\n",
       "  </tbody>\n",
       "</table>\n",
       "</div>"
      ],
      "text/plain": [
       "   particle_id   vx   vy   vz        px        py        pz  q  nhits  \\\n",
       "0            1  0.0  0.0  0.0 -0.134669  0.028540 -0.091022  1     25   \n",
       "1            2  0.0  0.0  0.0 -0.550762 -0.441498  0.780609  1     24   \n",
       "2            3  0.0  0.0  0.0 -0.072724  0.023378  0.175138  1     30   \n",
       "3            4  0.0  0.0  0.0  0.936311 -0.311491 -1.019850  1     24   \n",
       "4            5  0.0  0.0  0.0 -1.049040 -0.440627  0.471787  1     23   \n",
       "\n",
       "   pdgcode  start_time  \n",
       "0       13           0  \n",
       "1       13           0  \n",
       "2       13           0  \n",
       "3       13           0  \n",
       "4       13           0  "
      ]
     },
     "execution_count": 39,
     "metadata": {},
     "output_type": "execute_result"
    }
   ],
   "source": [
    "particles.head()"
   ]
  },
  {
   "cell_type": "code",
   "execution_count": 40,
   "metadata": {},
   "outputs": [
    {
     "data": {
      "text/html": [
       "<div>\n",
       "<style scoped>\n",
       "    .dataframe tbody tr th:only-of-type {\n",
       "        vertical-align: middle;\n",
       "    }\n",
       "\n",
       "    .dataframe tbody tr th {\n",
       "        vertical-align: top;\n",
       "    }\n",
       "\n",
       "    .dataframe thead th {\n",
       "        text-align: right;\n",
       "    }\n",
       "</style>\n",
       "<table border=\"1\" class=\"dataframe\">\n",
       "  <thead>\n",
       "    <tr style=\"text-align: right;\">\n",
       "      <th></th>\n",
       "      <th>hit_id</th>\n",
       "      <th>tx</th>\n",
       "      <th>ty</th>\n",
       "      <th>tz</th>\n",
       "      <th>tpx</th>\n",
       "      <th>tpy</th>\n",
       "      <th>tpz</th>\n",
       "      <th>weight</th>\n",
       "      <th>particle_id</th>\n",
       "    </tr>\n",
       "  </thead>\n",
       "  <tbody>\n",
       "    <tr>\n",
       "      <th>0</th>\n",
       "      <td>1</td>\n",
       "      <td>-12.4533</td>\n",
       "      <td>11.9370</td>\n",
       "      <td>18.0376</td>\n",
       "      <td>-0.208362</td>\n",
       "      <td>0.236490</td>\n",
       "      <td>0.330727</td>\n",
       "      <td>1.0</td>\n",
       "      <td>10</td>\n",
       "    </tr>\n",
       "    <tr>\n",
       "      <th>1</th>\n",
       "      <td>2</td>\n",
       "      <td>-13.0823</td>\n",
       "      <td>12.6579</td>\n",
       "      <td>19.0411</td>\n",
       "      <td>-0.206470</td>\n",
       "      <td>0.238251</td>\n",
       "      <td>0.330621</td>\n",
       "      <td>1.0</td>\n",
       "      <td>10</td>\n",
       "    </tr>\n",
       "    <tr>\n",
       "      <th>2</th>\n",
       "      <td>3</td>\n",
       "      <td>-13.7024</td>\n",
       "      <td>13.3791</td>\n",
       "      <td>20.0387</td>\n",
       "      <td>-0.204324</td>\n",
       "      <td>0.239940</td>\n",
       "      <td>0.330703</td>\n",
       "      <td>1.0</td>\n",
       "      <td>10</td>\n",
       "    </tr>\n",
       "    <tr>\n",
       "      <th>3</th>\n",
       "      <td>4</td>\n",
       "      <td>-14.1996</td>\n",
       "      <td>13.9682</td>\n",
       "      <td>20.8477</td>\n",
       "      <td>-0.202521</td>\n",
       "      <td>0.241390</td>\n",
       "      <td>0.330725</td>\n",
       "      <td>1.0</td>\n",
       "      <td>10</td>\n",
       "    </tr>\n",
       "    <tr>\n",
       "      <th>4</th>\n",
       "      <td>5</td>\n",
       "      <td>-14.8052</td>\n",
       "      <td>14.6980</td>\n",
       "      <td>21.8424</td>\n",
       "      <td>-0.200172</td>\n",
       "      <td>0.243415</td>\n",
       "      <td>0.330639</td>\n",
       "      <td>1.0</td>\n",
       "      <td>10</td>\n",
       "    </tr>\n",
       "  </tbody>\n",
       "</table>\n",
       "</div>"
      ],
      "text/plain": [
       "   hit_id       tx       ty       tz       tpx       tpy       tpz  weight  \\\n",
       "0       1 -12.4533  11.9370  18.0376 -0.208362  0.236490  0.330727     1.0   \n",
       "1       2 -13.0823  12.6579  19.0411 -0.206470  0.238251  0.330621     1.0   \n",
       "2       3 -13.7024  13.3791  20.0387 -0.204324  0.239940  0.330703     1.0   \n",
       "3       4 -14.1996  13.9682  20.8477 -0.202521  0.241390  0.330725     1.0   \n",
       "4       5 -14.8052  14.6980  21.8424 -0.200172  0.243415  0.330639     1.0   \n",
       "\n",
       "   particle_id  \n",
       "0           10  \n",
       "1           10  \n",
       "2           10  \n",
       "3           10  \n",
       "4           10  "
      ]
     },
     "execution_count": 40,
     "metadata": {},
     "output_type": "execute_result"
    }
   ],
   "source": [
    "truth.head()"
   ]
  },
  {
   "cell_type": "markdown",
   "metadata": {},
   "source": [
    "## _View Embedding_"
   ]
  },
  {
   "cell_type": "code",
   "execution_count": 41,
   "metadata": {},
   "outputs": [],
   "source": [
    "# lets get unique pids with freq (~ hits).\n",
    "sel_pids, sel_pids_fr = np.unique(feature_data.pid, return_counts=True)"
   ]
  },
  {
   "cell_type": "code",
   "execution_count": 42,
   "metadata": {},
   "outputs": [
    {
     "data": {
      "text/plain": [
       "array([ 1.,  2.,  3.,  4.,  5.,  6.,  7.,  8.,  9., 10.])"
      ]
     },
     "execution_count": 42,
     "metadata": {},
     "output_type": "execute_result"
    }
   ],
   "source": [
    "# now we have using pids, so plotting will be fast\n",
    "sel_pids"
   ]
  },
  {
   "cell_type": "code",
   "execution_count": 43,
   "metadata": {},
   "outputs": [
    {
     "data": {
      "image/png": "[encoded data removed]",
      "text/plain": [
       "<Figure size 432x432 with 1 Axes>"
      ]
     },
     "metadata": {
      "needs_background": "light"
     },
     "output_type": "display_data"
    },
    {
     "data": {
      "image/png": "[encoded data removed]",
      "text/plain": [
       "<Figure size 432x432 with 1 Axes>"
      ]
     },
     "metadata": {
      "needs_background": "light"
     },
     "output_type": "display_data"
    },
    {
     "data": {
      "image/png": "[encoded data removed]",
      "text/plain": [
       "<Figure size 432x432 with 1 Axes>"
      ]
     },
     "metadata": {
      "needs_background": "light"
     },
     "output_type": "display_data"
    },
    {
     "data": {
      "image/png": "[encoded data removed]",
      "text/plain": [
       "<Figure size 432x432 with 1 Axes>"
      ]
     },
     "metadata": {
      "needs_background": "light"
     },
     "output_type": "display_data"
    }
   ],
   "source": [
    "# plot hits in the embedding space\n",
    "embedding_dims = [(0, 1), (2, 3), (4, 5), (6, 7)]\n",
    "for id1, id2 in embedding_dims:\n",
    "    fig = plt.figure(figsize=(6,6))\n",
    "    for pid in sel_pids:\n",
    "        # idx = hits.particle_id == pid\n",
    "        idx = feature_data.pid == pid\n",
    "        plt.scatter(spatial_np[idx, id1], spatial_np[idx, id2], label='track %d'%pid)\n",
    "        \n",
    "    plt.grid(True)\n",
    "    plt.legend(fontsize=10, loc='best')\n",
    "    plt.tight_layout()\n",
    "    plt.savefig(\"embedding_{}_{}.png\".format(id1, id2))\n",
    "    del fig"
   ]
  },
  {
   "cell_type": "markdown",
   "metadata": {},
   "source": [
    "### TSNE from 8 dim to 2 dim\n",
    "\n",
    "- We projected 8D embedding space on 2D space (dim reduction)\n",
    "- We can use [TSNE](https://scikit-learn.org/stable/modules/generated/sklearn.manifold.TSNE.html) package"
   ]
  },
  {
   "cell_type": "code",
   "execution_count": 44,
   "metadata": {},
   "outputs": [],
   "source": [
    "from sklearn.manifold import TSNE"
   ]
  },
  {
   "cell_type": "code",
   "execution_count": 45,
   "metadata": {},
   "outputs": [
    {
     "data": {
      "text/plain": [
       "(240, 12)"
      ]
     },
     "execution_count": 45,
     "metadata": {},
     "output_type": "execute_result"
    }
   ],
   "source": [
    "spatial_np.shape"
   ]
  },
  {
   "cell_type": "code",
   "execution_count": 46,
   "metadata": {},
   "outputs": [
    {
     "name": "stderr",
     "output_type": "stream",
     "text": [
      "/home/adeel/anaconda/envs/exatrkx-cpu/lib/python3.8/site-packages/sklearn/manifold/_t_sne.py:780: FutureWarning: The default initialization in TSNE will change from 'random' to 'pca' in 1.2.\n",
      "  warnings.warn(\n",
      "/home/adeel/anaconda/envs/exatrkx-cpu/lib/python3.8/site-packages/sklearn/manifold/_t_sne.py:790: FutureWarning: The default learning rate in TSNE will change from 200.0 to 'auto' in 1.2.\n",
      "  warnings.warn(\n"
     ]
    }
   ],
   "source": [
    "spatial_tsne = TSNE(n_components=2).fit_transform(spatial_np)"
   ]
  },
  {
   "cell_type": "code",
   "execution_count": 47,
   "metadata": {},
   "outputs": [
    {
     "data": {
      "text/plain": [
       "(240, 2)"
      ]
     },
     "execution_count": 47,
     "metadata": {},
     "output_type": "execute_result"
    }
   ],
   "source": [
    "spatial_tsne.shape"
   ]
  },
  {
   "cell_type": "code",
   "execution_count": 48,
   "metadata": {},
   "outputs": [
    {
     "data": {
      "image/png": "[encoded data removed]",
      "text/plain": [
       "<Figure size 432x432 with 1 Axes>"
      ]
     },
     "metadata": {
      "needs_background": "light"
     },
     "output_type": "display_data"
    }
   ],
   "source": [
    "# Using Object Oriented API\n",
    "plt.close('all')\n",
    "fig, ax = plt.subplots(nrows=1, ncols=1, figsize=(6, 6))\n",
    "\n",
    "# loop over tracks (pids=1,2,...,10)\n",
    "for pid in sel_pids:\n",
    "    idx = feature_data.pid == pid\n",
    "    ax.scatter(spatial_tsne[idx, 0], spatial_tsne[idx, 1], label='track %d'%pid)\n",
    "\n",
    "ax.legend(fontsize=10, loc='best')\n",
    "ax.grid(True)\n",
    "fig.tight_layout()\n",
    "plt.savefig(\"embeding-tsne.png\")"
   ]
  },
  {
   "cell_type": "markdown",
   "metadata": {
    "tags": []
   },
   "source": [
    "## _Prepare Data for Plotting Edges_\n",
    "\n",
    "- Need `x, y, z` for hits\n",
    "- Corresponding Edges"
   ]
  },
  {
   "cell_type": "code",
   "execution_count": 49,
   "metadata": {},
   "outputs": [],
   "source": [
    "from LightningModules.Embedding.utils import build_edges"
   ]
  },
  {
   "cell_type": "code",
   "execution_count": 50,
   "metadata": {},
   "outputs": [],
   "source": [
    "# build edges\n",
    "e_spatial = build_edges(spatial, spatial, indices=None, r_max=0.1, k_max=100)"
   ]
  },
  {
   "cell_type": "code",
   "execution_count": 51,
   "metadata": {},
   "outputs": [],
   "source": [
    "# e_spatial.shape"
   ]
  },
  {
   "cell_type": "code",
   "execution_count": 52,
   "metadata": {},
   "outputs": [],
   "source": [
    "# e_spatial"
   ]
  },
  {
   "cell_type": "code",
   "execution_count": 53,
   "metadata": {},
   "outputs": [],
   "source": [
    "# get first three pairs/edges. use all rows but cols=0,1,2\n",
    "# e_spatial[:, 0], e_spatial[:, 1], e_spatial[:, 2]"
   ]
  },
  {
   "cell_type": "raw",
   "metadata": {},
   "source": [
    "hits = hits.reset_index(drop=True).reset_index(drop=False)\n",
    "hits.head()"
   ]
  },
  {
   "cell_type": "raw",
   "metadata": {},
   "source": [
    "# edge is pair of hit ids (edge = (sender, receiver). We can use this information \n",
    "# to get full detail of these two hits from 'hits' DataFrame. For example, 1st edge\n",
    "hits.iloc[e_spatial[:, 0]]"
   ]
  },
  {
   "cell_type": "raw",
   "metadata": {},
   "source": [
    "# The second edge (pair) is as follows\n",
    "hits.iloc[e_spatial[:, 1]]"
   ]
  },
  {
   "cell_type": "raw",
   "metadata": {},
   "source": [
    "# particles[particles.particle_id.isin(sel_pids)].head()"
   ]
  },
  {
   "cell_type": "code",
   "execution_count": 54,
   "metadata": {},
   "outputs": [],
   "source": [
    "# convert e_spatial tensor to numpy version e_spatial_np\n",
    "e_spatial_np = e_spatial.detach().numpy()"
   ]
  },
  {
   "cell_type": "code",
   "execution_count": 55,
   "metadata": {},
   "outputs": [],
   "source": [
    "# 1st row\n",
    "# e_spatial_np[0]"
   ]
  },
  {
   "cell_type": "code",
   "execution_count": 56,
   "metadata": {},
   "outputs": [],
   "source": [
    "# 2nd row\n",
    "# e_spatial_np[1]"
   ]
  },
  {
   "cell_type": "code",
   "execution_count": 57,
   "metadata": {},
   "outputs": [],
   "source": [
    "# edge/pair = 1st row first element, 2nd row 1st element\n",
    "# e_spatial_np[0, 0], e_spatial_np[1, 0]"
   ]
  },
  {
   "cell_type": "code",
   "execution_count": 58,
   "metadata": {},
   "outputs": [],
   "source": [
    "# hit=1 (0) of one pair is also paired next with hit=13 (12) forming another pair.\n",
    "# e_spatial_np[0, 1], e_spatial_np[1, 1]"
   ]
  },
  {
   "cell_type": "code",
   "execution_count": 59,
   "metadata": {},
   "outputs": [],
   "source": [
    "# access hi1=1 (0) in pair 0 and pair 1.\n",
    "# e_spatial_np[0, 0], e_spatial_np[0, 1]"
   ]
  },
  {
   "cell_type": "code",
   "execution_count": 60,
   "metadata": {},
   "outputs": [
    {
     "data": {
      "text/plain": [
       "array([-12.2456, -12.2456], dtype=float32)"
      ]
     },
     "execution_count": 60,
     "metadata": {},
     "output_type": "execute_result"
    }
   ],
   "source": [
    "# Why ???\n",
    "hits.iloc[[e_spatial[0, 0], e_spatial[0, 1]]].x.values"
   ]
  },
  {
   "cell_type": "markdown",
   "metadata": {},
   "source": [
    "### _Ploting Edges_"
   ]
  },
  {
   "cell_type": "code",
   "execution_count": 61,
   "metadata": {},
   "outputs": [],
   "source": [
    "# remeber r, phi, z in feature_data is in radians (we scaled it with np.pi)\n",
    "def cylinderical_to_cartesion(r, phi, z):\n",
    "    \"\"\"Cylinderical to Catesian Coordinates. Offset scaling [r*100, phi*np.pi, z*100]\"\"\"\n",
    "    theta = phi * np.pi\n",
    "    x = r * np.cos(theta)*100\n",
    "    y = r * np.sin(theta)*100\n",
    "    z = z * 100\n",
    "    return x, y, z"
   ]
  },
  {
   "cell_type": "code",
   "execution_count": 62,
   "metadata": {},
   "outputs": [],
   "source": [
    "# lets get transpose of e_spatial\n",
    "e_spatial_np_t = e_spatial_np.T"
   ]
  },
  {
   "cell_type": "code",
   "execution_count": 63,
   "metadata": {},
   "outputs": [
    {
     "data": {
      "text/plain": [
       "(2, 1454)"
      ]
     },
     "execution_count": 63,
     "metadata": {},
     "output_type": "execute_result"
    }
   ],
   "source": [
    "e_spatial_np.shape"
   ]
  },
  {
   "cell_type": "raw",
   "metadata": {},
   "source": [
    "hits.iloc[e_spatial_np_t[0]]"
   ]
  },
  {
   "cell_type": "raw",
   "metadata": {},
   "source": [
    "hits.iloc[e_spatial_np_t[0]].x.values"
   ]
  },
  {
   "cell_type": "raw",
   "metadata": {},
   "source": [
    "hits.iloc[e_spatial_np_t[0]].y.values"
   ]
  },
  {
   "cell_type": "raw",
   "metadata": {},
   "source": [
    "hits.iloc[e_spatial_np_t[0]].z.values"
   ]
  },
  {
   "cell_type": "raw",
   "metadata": {},
   "source": [
    "hits.shape"
   ]
  },
  {
   "cell_type": "code",
   "execution_count": 64,
   "metadata": {},
   "outputs": [
    {
     "data": {
      "text/plain": [
       "(1454, 2)"
      ]
     },
     "execution_count": 64,
     "metadata": {},
     "output_type": "execute_result"
    }
   ],
   "source": [
    "e_spatial_np_t.shape"
   ]
  },
  {
   "cell_type": "raw",
   "metadata": {},
   "source": [
    "# plotting event directly from the raw data i.e. hits\n",
    "fig = plt.figure(figsize=(8,8))\n",
    "ax = fig.add_subplot(111, projection='3d')\n",
    "for pid in sel_pids:\n",
    "    ax.scatter(hits[truth.particle_id == pid].x.values, hits[truth.particle_id == pid].y.values, hits[truth.particle_id == pid].z.values, \n",
    "              label='track %d'%pid)\n",
    "ax.set_xlabel('X Label')\n",
    "ax.set_ylabel('Y Label')\n",
    "ax.set_zlabel('Z Label')\n",
    "ax.set_xlim(-40, 40)\n",
    "ax.set_ylim(-40, 40)\n",
    "ax.set_zlim(-10, 100)\n",
    "ax.legend(fontsize=10, loc='best')\n",
    "ax.grid(True)\n",
    "fig.tight_layout()\n",
    "# plt.savefig(os.path.join(outdir, \"embeding-tsne.png\"))"
   ]
  },
  {
   "cell_type": "raw",
   "metadata": {},
   "source": [
    "# ploting edges in 3D directly from the raw data i.e. hits\n",
    "fig = plt.figure(figsize=(8,8))\n",
    "ax = fig.add_subplot(111, projection='3d')\n",
    "for pid in sel_pids:\n",
    "    ax.scatter(hits[truth.particle_id == pid].x.values, hits[truth.particle_id == pid].y.values, hits[truth.particle_id == pid].z.values,\n",
    "              label='track %d'%pid)\n",
    "\n",
    "# add edges (error: positional indices out of bound)\n",
    "e_spatial_np_t = e_spatial_np.T\n",
    "for iedge in range(e_spatial_np.shape[1]):\n",
    "    ax.plot(hits.iloc[e_spatial_np_t[iedge]].x.values, hits.iloc[e_spatial_np_t[iedge]].y.values, hits.iloc[e_spatial_np_t[iedge]].z.values, color='k', alpha=0.3, lw=1.)\n",
    "\n",
    "ax.set_xlabel('X Label')\n",
    "ax.set_ylabel('Y Label')\n",
    "ax.set_zlabel('Z Label')\n",
    "ax.set_xlim(-40, 40)\n",
    "ax.set_ylim(-40, 40)\n",
    "ax.set_zlim(-10, 100)\n",
    "ax.legend(fontsize=10, loc='best')\n",
    "ax.grid(True)\n",
    "fig.tight_layout()\n",
    "# plt.savefig(os.path.join(outdir, \"emedding_edges_3d.pdf\"))"
   ]
  },
  {
   "cell_type": "code",
   "execution_count": 65,
   "metadata": {},
   "outputs": [
    {
     "data": {
      "image/png": "[encoded data removed]",
      "text/plain": [
       "<Figure size 576x576 with 1 Axes>"
      ]
     },
     "metadata": {
      "needs_background": "light"
     },
     "output_type": "display_data"
    }
   ],
   "source": [
    "# plotting event from processing stage i.e. feature_data\n",
    "fig = plt.figure(figsize=(8,8))\n",
    "ax = fig.add_subplot(111, projection='3d')\n",
    "for pid in sel_pids:\n",
    "    idx = feature_data.pid == pid\n",
    "    x, y, z = cylinderical_to_cartesion(r=feature_data.x[:, 0], phi=feature_data.x[:, 1], z=feature_data.x[:, 2])\n",
    "    ax.scatter(x[idx], y[idx], z[idx], label='track %d'%pid)\n",
    "\n",
    "ax.set_xlabel('X Label')\n",
    "ax.set_ylabel('Y Label')\n",
    "ax.set_zlabel('Z Label')\n",
    "ax.set_xlim(-40, 40)\n",
    "ax.set_ylim(-40, 40)\n",
    "ax.set_zlim(-10, 100)\n",
    "ax.legend(fontsize=10, loc='best')\n",
    "ax.grid(True)\n",
    "fig.tight_layout()\n",
    "# plt.savefig(os.path.join(outdir, \"embeding-tsne.png\"))"
   ]
  },
  {
   "cell_type": "code",
   "execution_count": 66,
   "metadata": {},
   "outputs": [
    {
     "name": "stderr",
     "output_type": "stream",
     "text": [
      "/home/adeel/anaconda/envs/exatrkx-cpu/lib/python3.8/site-packages/mpl_toolkits/mplot3d/proj3d.py:136: FutureWarning: The input object of type 'Tensor' is an array-like implementing one of the corresponding protocols (`__array__`, `__array_interface__` or `__array_struct__`); but not a sequence (or 0-D). In the future, this object will be coerced as if it was first converted using `np.array(obj)`. To retain the old behaviour, you have to either modify the type 'Tensor', or assign to an empty array created with `np.empty(correct_shape, dtype=object)`.\n",
      "  return np.array([xs, ys, zs, np.ones_like(xs)])\n",
      "/home/adeel/anaconda/envs/exatrkx-cpu/lib/python3.8/site-packages/mpl_toolkits/mplot3d/proj3d.py:136: VisibleDeprecationWarning: Creating an ndarray from ragged nested sequences (which is a list-or-tuple of lists-or-tuples-or ndarrays with different lengths or shapes) is deprecated. If you meant to do this, you must specify 'dtype=object' when creating the ndarray.\n",
      "  return np.array([xs, ys, zs, np.ones_like(xs)])\n"
     ]
    },
    {
     "data": {
      "image/png": "[encoded data removed]",
      "text/plain": [
       "<Figure size 576x576 with 1 Axes>"
      ]
     },
     "metadata": {
      "needs_background": "light"
     },
     "output_type": "display_data"
    }
   ],
   "source": [
    "# plot edges 3D: data from processing stage, edges from embedding stage\n",
    "fig = plt.figure(figsize=(8,8))\n",
    "ax = fig.add_subplot(111, projection='3d')\n",
    "for pid in sel_pids:\n",
    "    idx = feature_data.pid == pid\n",
    "    x, y, z = cylinderical_to_cartesion(r=feature_data.x[:, 0], phi=feature_data.x[:, 1], z=feature_data.x[:, 2])\n",
    "    ax.scatter(x[idx], y[idx], z[idx], label='track %d'%pid)\n",
    "\n",
    "\n",
    "# add edges (hits=runs from 0 to 256, edges goes all the way to 5)\n",
    "e_spatial_np_t = e_spatial_np.T\n",
    "for iedge in range(e_spatial_np.shape[1]):\n",
    "    x, y, z = cylinderical_to_cartesion(r=feature_data.x[:, 0], phi=feature_data.x[:, 1], z=feature_data.x[:, 2])\n",
    "    ax.plot(x[e_spatial_np_t[iedge]], y[e_spatial_np_t[iedge]], z[e_spatial_np_t[iedge]], color='k', alpha=0.3, lw=1.)\n",
    "    \n",
    "\n",
    "ax.set_xlabel('X Label')\n",
    "ax.set_ylabel('Y Label')\n",
    "ax.set_zlabel('Z Label')\n",
    "ax.set_xlim(-40, 40)\n",
    "ax.set_ylim(-40, 40)\n",
    "ax.set_zlim(-10, 100)\n",
    "ax.legend(fontsize=10, loc='best')\n",
    "ax.grid(True)\n",
    "fig.tight_layout()\n",
    "# plt.savefig(os.path.join(outdir, \"emedding_edges_3d.pdf\"))"
   ]
  },
  {
   "cell_type": "code",
   "execution_count": 67,
   "metadata": {},
   "outputs": [
    {
     "data": {
      "image/png": "[encoded data removed]",
      "text/plain": [
       "<Figure size 576x576 with 1 Axes>"
      ]
     },
     "metadata": {
      "needs_background": "light"
     },
     "output_type": "display_data"
    }
   ],
   "source": [
    "# plot edges 2D: data from processing stage, edges from embedding stage\n",
    "fig = plt.figure(figsize=(8,8))\n",
    "ax = fig.add_subplot(111)\n",
    "for pid in sel_pids:\n",
    "    idx = feature_data.pid == pid\n",
    "    x, y, z = cylinderical_to_cartesion(r=feature_data.x[:, 0], phi=feature_data.x[:, 1], z=feature_data.x[:, 2])\n",
    "    ax.scatter(x[idx], y[idx], label='track %d'%pid)\n",
    "\n",
    "# add edges (hits=runs from 0 to 256, edges goes all the way to 5)\n",
    "e_spatial_np_t = e_spatial_np.T\n",
    "# for iedge in range(e_spatial_np.shape[1]):\n",
    "for iedge in range(100):\n",
    "    ax.plot(hits.iloc[e_spatial_np_t[iedge]].x.values, hits.iloc[e_spatial_np_t[iedge]].y.values, color='k', alpha=0.3, lw=1.)\n",
    "    \n",
    "ax.set_xlabel('X Label')\n",
    "ax.set_ylabel('Y Label')\n",
    "ax.set_xlim(-40, 40)\n",
    "ax.set_ylim(-40, 40)\n",
    "ax.legend(fontsize=10, loc='best')\n",
    "ax.grid(True)\n",
    "fig.tight_layout()\n",
    "# plt.savefig(os.path.join(outdir, \"embedding_edges_x_y.pdf\"))"
   ]
  },
  {
   "cell_type": "code",
   "execution_count": 68,
   "metadata": {},
   "outputs": [
    {
     "data": {
      "image/png": "[encoded data removed]",
      "text/plain": [
       "<Figure size 576x576 with 1 Axes>"
      ]
     },
     "metadata": {
      "needs_background": "light"
     },
     "output_type": "display_data"
    }
   ],
   "source": [
    "# plot edges 2D: data from processing stage, edges from embedding stage\n",
    "fig = plt.figure(figsize=(8,8))\n",
    "ax = fig.add_subplot(111)\n",
    "for pid in sel_pids:\n",
    "    idx = feature_data.pid == pid\n",
    "    ax.scatter(feature_data.x[:, 2][idx], feature_data.x[:, 0][idx], label='track %d'%pid)\n",
    "\n",
    "# add edges\n",
    "e_spatial_np_t = e_spatial_np.T\n",
    "# for iedge in range(e_spatial_np.shape[1]):\n",
    "for iedge in range(100):\n",
    "    ax.plot(feature_data.x[:, 2][e_spatial_np_t[iedge]], feature_data.x[:, 0][e_spatial_np_t[iedge]], color='k', alpha=0.3, lw=1.)\n",
    "\n",
    "ax.set_xlabel('Z')\n",
    "ax.set_ylabel('R')\n",
    "#ax.set_xlim(-40, 100)\n",
    "#ax.set_ylim(0, 50)\n",
    "ax.legend(fontsize=10, loc='best')\n",
    "ax.grid(True)\n",
    "fig.tight_layout()\n",
    "# plt.savefig(os.path.join(outdir, \"embedding_edges_z_r.pdf\"))"
   ]
  },
  {
   "cell_type": "code",
   "execution_count": null,
   "metadata": {},
   "outputs": [],
   "source": []
  },
  {
   "cell_type": "markdown",
   "metadata": {},
   "source": [
    "### Plotting Hists\n",
    "- following plots need r, phi, z coordinates."
   ]
  },
  {
   "cell_type": "raw",
   "metadata": {},
   "source": [
    "# xy projection\n",
    "fig = plt.figure(figsize=(8,8))\n",
    "ax = fig.add_subplot(111)\n",
    "ax.scatter(hits.x.values, hits.y.values)\n",
    "plt.savefig(os.path.join(outdir, \"embedding_hits_x_y.pdf\"))"
   ]
  },
  {
   "cell_type": "raw",
   "metadata": {},
   "source": [
    "fig = plt.figure(figsize=(8,8))\n",
    "ax = fig.add_subplot(111)\n",
    "ax.scatter(hits.z.values, hits.r.values)\n",
    "plt.savefig(os.path.join(outdir, \"embedding_hits_z_r.pdf\"))"
   ]
  },
  {
   "cell_type": "raw",
   "metadata": {},
   "source": [
    "fig = plt.figure(figsize=(8,8))\n",
    "ax = fig.add_subplot(111)\n",
    "for pid in sel_pids:\n",
    "    ax.scatter(hits[hits.particle_id == pid].x.values, hits[hits.particle_id == pid].y.values)\n",
    "\n",
    "plt.savefig(os.path.join(outdir, \"embedding_hits_truth_x_y.pdf\"))"
   ]
  },
  {
   "cell_type": "raw",
   "metadata": {},
   "source": [
    "fig = plt.figure(figsize=(8,8))\n",
    "ax = fig.add_subplot(111)\n",
    "for pid in sel_pids:\n",
    "    ax.scatter(hits[hits.particle_id == pid].z.values, hits[hits.particle_id == pid].r.values)\n",
    "\n",
    "plt.savefig(os.path.join(outdir, \"embedding_hits_truth_z_r.pdf\"))"
   ]
  },
  {
   "cell_type": "raw",
   "metadata": {},
   "source": [
    "fig = plt.figure(figsize=(8,8))\n",
    "ax = fig.add_subplot(111)\n",
    "for pid in sel_pids:\n",
    "    ax.scatter(hits[hits.particle_id == pid].x.values, hits[hits.particle_id == pid].y.values)\n",
    "\n",
    "# add edges\n",
    "for iedge in range(e_spatial_np.shape[1]):\n",
    "    ax.plot(hits.iloc[e_spatial_np_t[iedge]].x.values, hits.iloc[e_spatial_np_t[iedge]].y.values, color='k', alpha=0.3, lw=2.)\n",
    "\n",
    "ax.set_axis_off()\n",
    "\n",
    "# plt.savefig(os.path.join(outdir, \"embedding_front.pdf\"))"
   ]
  },
  {
   "cell_type": "code",
   "execution_count": null,
   "metadata": {},
   "outputs": [],
   "source": []
  }
 ],
 "metadata": {
  "colab": {
   "collapsed_sections": [],
   "name": "WalkThroughGNN4Tracking.ipynb",
   "provenance": []
  },
  "kernelspec": {
   "display_name": "Python 3 (ipykernel)",
   "language": "python",
   "name": "python3"
  },
  "language_info": {
   "codemirror_mode": {
    "name": "ipython",
    "version": 3
   },
   "file_extension": ".py",
   "mimetype": "text/x-python",
   "name": "python",
   "nbconvert_exporter": "python",
   "pygments_lexer": "ipython3",
   "version": "3.8.12"
  },
  "widgets": {
   "application/vnd.jupyter.widget-state+json": {
    "05dda350689a4e0cba0dbdff036e907f": {
     "model_module": "@jupyter-widgets/base",
     "model_name": "LayoutModel",
     "state": {
      "_model_module": "@jupyter-widgets/base",
      "_model_module_version": "1.2.0",
      "_model_name": "LayoutModel",
      "_view_count": null,
      "_view_module": "@jupyter-widgets/base",
      "_view_module_version": "1.2.0",
      "_view_name": "LayoutView",
      "align_content": null,
      "align_items": null,
      "align_self": null,
      "border": null,
      "bottom": null,
      "display": null,
      "flex": null,
      "flex_flow": null,
      "grid_area": null,
      "grid_auto_columns": null,
      "grid_auto_flow": null,
      "grid_auto_rows": null,
      "grid_column": null,
      "grid_gap": null,
      "grid_row": null,
      "grid_template_areas": null,
      "grid_template_columns": null,
      "grid_template_rows": null,
      "height": null,
      "justify_content": null,
      "justify_items": null,
      "left": null,
      "margin": null,
      "max_height": null,
      "max_width": null,
      "min_height": null,
      "min_width": null,
      "object_fit": null,
      "object_position": null,
      "order": null,
      "overflow": null,
      "overflow_x": null,
      "overflow_y": null,
      "padding": null,
      "right": null,
      "top": null,
      "visibility": null,
      "width": null
     }
    },
    "0b6439920ba7446a90b0da08a0edf046": {
     "model_module": "@jupyter-widgets/controls",
     "model_name": "DescriptionStyleModel",
     "state": {
      "_model_module": "@jupyter-widgets/controls",
      "_model_module_version": "1.5.0",
      "_model_name": "DescriptionStyleModel",
      "_view_count": null,
      "_view_module": "@jupyter-widgets/base",
      "_view_module_version": "1.2.0",
      "_view_name": "StyleView",
      "description_width": ""
     }
    },
    "0b9e9ef4614c4b85bbce33f3c1cb0844": {
     "model_module": "@jupyter-widgets/base",
     "model_name": "LayoutModel",
     "state": {
      "_model_module": "@jupyter-widgets/base",
      "_model_module_version": "1.2.0",
      "_model_name": "LayoutModel",
      "_view_count": null,
      "_view_module": "@jupyter-widgets/base",
      "_view_module_version": "1.2.0",
      "_view_name": "LayoutView",
      "align_content": null,
      "align_items": null,
      "align_self": null,
      "border": null,
      "bottom": null,
      "display": null,
      "flex": "2",
      "flex_flow": null,
      "grid_area": null,
      "grid_auto_columns": null,
      "grid_auto_flow": null,
      "grid_auto_rows": null,
      "grid_column": null,
      "grid_gap": null,
      "grid_row": null,
      "grid_template_areas": null,
      "grid_template_columns": null,
      "grid_template_rows": null,
      "height": null,
      "justify_content": null,
      "justify_items": null,
      "left": null,
      "margin": null,
      "max_height": null,
      "max_width": null,
      "min_height": null,
      "min_width": null,
      "object_fit": null,
      "object_position": null,
      "order": null,
      "overflow": null,
      "overflow_x": null,
      "overflow_y": null,
      "padding": null,
      "right": null,
      "top": null,
      "visibility": null,
      "width": null
     }
    },
    "19efe0ba3cf34a85becc1867d1299bbb": {
     "model_module": "@jupyter-widgets/controls",
     "model_name": "ProgressStyleModel",
     "state": {
      "_model_module": "@jupyter-widgets/controls",
      "_model_module_version": "1.5.0",
      "_model_name": "ProgressStyleModel",
      "_view_count": null,
      "_view_module": "@jupyter-widgets/base",
      "_view_module_version": "1.2.0",
      "_view_name": "StyleView",
      "bar_color": null,
      "description_width": "initial"
     }
    },
    "1c05afbd962f41c7802e475bcb67b1cc": {
     "model_module": "@jupyter-widgets/base",
     "model_name": "LayoutModel",
     "state": {
      "_model_module": "@jupyter-widgets/base",
      "_model_module_version": "1.2.0",
      "_model_name": "LayoutModel",
      "_view_count": null,
      "_view_module": "@jupyter-widgets/base",
      "_view_module_version": "1.2.0",
      "_view_name": "LayoutView",
      "align_content": null,
      "align_items": null,
      "align_self": null,
      "border": null,
      "bottom": null,
      "display": null,
      "flex": "2",
      "flex_flow": null,
      "grid_area": null,
      "grid_auto_columns": null,
      "grid_auto_flow": null,
      "grid_auto_rows": null,
      "grid_column": null,
      "grid_gap": null,
      "grid_row": null,
      "grid_template_areas": null,
      "grid_template_columns": null,
      "grid_template_rows": null,
      "height": null,
      "justify_content": null,
      "justify_items": null,
      "left": null,
      "margin": null,
      "max_height": null,
      "max_width": null,
      "min_height": null,
      "min_width": null,
      "object_fit": null,
      "object_position": null,
      "order": null,
      "overflow": null,
      "overflow_x": null,
      "overflow_y": null,
      "padding": null,
      "right": null,
      "top": null,
      "visibility": null,
      "width": null
     }
    },
    "1c89a8f8631b4d4f9b139e8838b98ba8": {
     "model_module": "@jupyter-widgets/controls",
     "model_name": "HTMLModel",
     "state": {
      "_dom_classes": [],
      "_model_module": "@jupyter-widgets/controls",
      "_model_module_version": "1.5.0",
      "_model_name": "HTMLModel",
      "_view_count": null,
      "_view_module": "@jupyter-widgets/controls",
      "_view_module_version": "1.5.0",
      "_view_name": "HTMLView",
      "description": "",
      "description_tooltip": null,
      "layout": "IPY_MODEL_3042711720aa4be48589759b63c0f293",
      "placeholder": "​",
      "style": "IPY_MODEL_d3ca03e2f0ae42799cd67fc9a43d47ae",
      "value": " 2/2 [03:28&lt;00:00, 104.18s/it, loss=1.182, v_num=1, train_loss=1.17, val_loss=0.697, val_eff=0.554, val_pur=0.00927]"
     }
    },
    "2262d445a8594280b7fa6ab2e851b194": {
     "model_module": "@jupyter-widgets/base",
     "model_name": "LayoutModel",
     "state": {
      "_model_module": "@jupyter-widgets/base",
      "_model_module_version": "1.2.0",
      "_model_name": "LayoutModel",
      "_view_count": null,
      "_view_module": "@jupyter-widgets/base",
      "_view_module_version": "1.2.0",
      "_view_name": "LayoutView",
      "align_content": null,
      "align_items": null,
      "align_self": null,
      "border": null,
      "bottom": null,
      "display": "inline-flex",
      "flex": null,
      "flex_flow": "row wrap",
      "grid_area": null,
      "grid_auto_columns": null,
      "grid_auto_flow": null,
      "grid_auto_rows": null,
      "grid_column": null,
      "grid_gap": null,
      "grid_row": null,
      "grid_template_areas": null,
      "grid_template_columns": null,
      "grid_template_rows": null,
      "height": null,
      "justify_content": null,
      "justify_items": null,
      "left": null,
      "margin": null,
      "max_height": null,
      "max_width": null,
      "min_height": null,
      "min_width": null,
      "object_fit": null,
      "object_position": null,
      "order": null,
      "overflow": null,
      "overflow_x": null,
      "overflow_y": null,
      "padding": null,
      "right": null,
      "top": null,
      "visibility": null,
      "width": "100%"
     }
    },
    "2aeabdb8abfb40b39a82dddd641318e4": {
     "model_module": "@jupyter-widgets/base",
     "model_name": "LayoutModel",
     "state": {
      "_model_module": "@jupyter-widgets/base",
      "_model_module_version": "1.2.0",
      "_model_name": "LayoutModel",
      "_view_count": null,
      "_view_module": "@jupyter-widgets/base",
      "_view_module_version": "1.2.0",
      "_view_name": "LayoutView",
      "align_content": null,
      "align_items": null,
      "align_self": null,
      "border": null,
      "bottom": null,
      "display": "inline-flex",
      "flex": null,
      "flex_flow": "row wrap",
      "grid_area": null,
      "grid_auto_columns": null,
      "grid_auto_flow": null,
      "grid_auto_rows": null,
      "grid_column": null,
      "grid_gap": null,
      "grid_row": null,
      "grid_template_areas": null,
      "grid_template_columns": null,
      "grid_template_rows": null,
      "height": null,
      "justify_content": null,
      "justify_items": null,
      "left": null,
      "margin": null,
      "max_height": null,
      "max_width": null,
      "min_height": null,
      "min_width": null,
      "object_fit": null,
      "object_position": null,
      "order": null,
      "overflow": null,
      "overflow_x": null,
      "overflow_y": null,
      "padding": null,
      "right": null,
      "top": null,
      "visibility": null,
      "width": "100%"
     }
    },
    "2d5743ed68f24700951417f49c4dda47": {
     "model_module": "@jupyter-widgets/controls",
     "model_name": "HTMLModel",
     "state": {
      "_dom_classes": [],
      "_model_module": "@jupyter-widgets/controls",
      "_model_module_version": "1.5.0",
      "_model_name": "HTMLModel",
      "_view_count": null,
      "_view_module": "@jupyter-widgets/controls",
      "_view_module_version": "1.5.0",
      "_view_name": "HTMLView",
      "description": "",
      "description_tooltip": null,
      "layout": "IPY_MODEL_e39f057c5dd44ef2a33e60c85ea942f6",
      "placeholder": "​",
      "style": "IPY_MODEL_57ad7a0194ba491eafd086b22da58b3e",
      "value": " 1/1 [00:01&lt;00:00,  1.52s/it]"
     }
    },
    "3003297e18a54a30b54f5ee3eb526fc3": {
     "model_module": "@jupyter-widgets/controls",
     "model_name": "DescriptionStyleModel",
     "state": {
      "_model_module": "@jupyter-widgets/controls",
      "_model_module_version": "1.5.0",
      "_model_name": "DescriptionStyleModel",
      "_view_count": null,
      "_view_module": "@jupyter-widgets/base",
      "_view_module_version": "1.2.0",
      "_view_name": "StyleView",
      "description_width": ""
     }
    },
    "3042711720aa4be48589759b63c0f293": {
     "model_module": "@jupyter-widgets/base",
     "model_name": "LayoutModel",
     "state": {
      "_model_module": "@jupyter-widgets/base",
      "_model_module_version": "1.2.0",
      "_model_name": "LayoutModel",
      "_view_count": null,
      "_view_module": "@jupyter-widgets/base",
      "_view_module_version": "1.2.0",
      "_view_name": "LayoutView",
      "align_content": null,
      "align_items": null,
      "align_self": null,
      "border": null,
      "bottom": null,
      "display": null,
      "flex": null,
      "flex_flow": null,
      "grid_area": null,
      "grid_auto_columns": null,
      "grid_auto_flow": null,
      "grid_auto_rows": null,
      "grid_column": null,
      "grid_gap": null,
      "grid_row": null,
      "grid_template_areas": null,
      "grid_template_columns": null,
      "grid_template_rows": null,
      "height": null,
      "justify_content": null,
      "justify_items": null,
      "left": null,
      "margin": null,
      "max_height": null,
      "max_width": null,
      "min_height": null,
      "min_width": null,
      "object_fit": null,
      "object_position": null,
      "order": null,
      "overflow": null,
      "overflow_x": null,
      "overflow_y": null,
      "padding": null,
      "right": null,
      "top": null,
      "visibility": null,
      "width": null
     }
    },
    "30463987ebdd487185651d5a9e513128": {
     "model_module": "@jupyter-widgets/controls",
     "model_name": "HTMLModel",
     "state": {
      "_dom_classes": [],
      "_model_module": "@jupyter-widgets/controls",
      "_model_module_version": "1.5.0",
      "_model_name": "HTMLModel",
      "_view_count": null,
      "_view_module": "@jupyter-widgets/controls",
      "_view_module_version": "1.5.0",
      "_view_name": "HTMLView",
      "description": "",
      "description_tooltip": null,
      "layout": "IPY_MODEL_8683d7fe14f640ac959da423bab81db6",
      "placeholder": "​",
      "style": "IPY_MODEL_c22a38f24c6c4a8eb7da40d0d353dd5b",
      "value": " 1/1 [00:06&lt;00:00,  5.92s/it]"
     }
    },
    "30fb255df60840829b13ab6a7bb27536": {
     "model_module": "@jupyter-widgets/base",
     "model_name": "LayoutModel",
     "state": {
      "_model_module": "@jupyter-widgets/base",
      "_model_module_version": "1.2.0",
      "_model_name": "LayoutModel",
      "_view_count": null,
      "_view_module": "@jupyter-widgets/base",
      "_view_module_version": "1.2.0",
      "_view_name": "LayoutView",
      "align_content": null,
      "align_items": null,
      "align_self": null,
      "border": null,
      "bottom": null,
      "display": null,
      "flex": "2",
      "flex_flow": null,
      "grid_area": null,
      "grid_auto_columns": null,
      "grid_auto_flow": null,
      "grid_auto_rows": null,
      "grid_column": null,
      "grid_gap": null,
      "grid_row": null,
      "grid_template_areas": null,
      "grid_template_columns": null,
      "grid_template_rows": null,
      "height": null,
      "justify_content": null,
      "justify_items": null,
      "left": null,
      "margin": null,
      "max_height": null,
      "max_width": null,
      "min_height": null,
      "min_width": null,
      "object_fit": null,
      "object_position": null,
      "order": null,
      "overflow": null,
      "overflow_x": null,
      "overflow_y": null,
      "padding": null,
      "right": null,
      "top": null,
      "visibility": null,
      "width": null
     }
    },
    "3af102ccecd14ca894a30a8a2d523a40": {
     "model_module": "@jupyter-widgets/base",
     "model_name": "LayoutModel",
     "state": {
      "_model_module": "@jupyter-widgets/base",
      "_model_module_version": "1.2.0",
      "_model_name": "LayoutModel",
      "_view_count": null,
      "_view_module": "@jupyter-widgets/base",
      "_view_module_version": "1.2.0",
      "_view_name": "LayoutView",
      "align_content": null,
      "align_items": null,
      "align_self": null,
      "border": null,
      "bottom": null,
      "display": null,
      "flex": "2",
      "flex_flow": null,
      "grid_area": null,
      "grid_auto_columns": null,
      "grid_auto_flow": null,
      "grid_auto_rows": null,
      "grid_column": null,
      "grid_gap": null,
      "grid_row": null,
      "grid_template_areas": null,
      "grid_template_columns": null,
      "grid_template_rows": null,
      "height": null,
      "justify_content": null,
      "justify_items": null,
      "left": null,
      "margin": null,
      "max_height": null,
      "max_width": null,
      "min_height": null,
      "min_width": null,
      "object_fit": null,
      "object_position": null,
      "order": null,
      "overflow": null,
      "overflow_x": null,
      "overflow_y": null,
      "padding": null,
      "right": null,
      "top": null,
      "visibility": null,
      "width": null
     }
    },
    "4913594a91a0431580b8200d1f61b4b0": {
     "model_module": "@jupyter-widgets/controls",
     "model_name": "HBoxModel",
     "state": {
      "_dom_classes": [],
      "_model_module": "@jupyter-widgets/controls",
      "_model_module_version": "1.5.0",
      "_model_name": "HBoxModel",
      "_view_count": null,
      "_view_module": "@jupyter-widgets/controls",
      "_view_module_version": "1.5.0",
      "_view_name": "HBoxView",
      "box_style": "",
      "children": [
       "IPY_MODEL_de48527c13fe4b959eae9ce31caca633",
       "IPY_MODEL_a9da56f04cb34272a199a2703e7c410e"
      ],
      "layout": "IPY_MODEL_5037bff6409c4a5492e5ba91564f2681"
     }
    },
    "49b5388398ba4e86b23d0a2f589fa57f": {
     "model_module": "@jupyter-widgets/controls",
     "model_name": "FloatProgressModel",
     "state": {
      "_dom_classes": [],
      "_model_module": "@jupyter-widgets/controls",
      "_model_module_version": "1.5.0",
      "_model_name": "FloatProgressModel",
      "_view_count": null,
      "_view_module": "@jupyter-widgets/controls",
      "_view_module_version": "1.5.0",
      "_view_name": "ProgressView",
      "bar_style": "info",
      "description": "Validation sanity check: 100%",
      "description_tooltip": null,
      "layout": "IPY_MODEL_0b9e9ef4614c4b85bbce33f3c1cb0844",
      "max": 1,
      "min": 0,
      "orientation": "horizontal",
      "style": "IPY_MODEL_7e497035705a4c92bee4f36820636c17",
      "value": 1
     }
    },
    "5037bff6409c4a5492e5ba91564f2681": {
     "model_module": "@jupyter-widgets/base",
     "model_name": "LayoutModel",
     "state": {
      "_model_module": "@jupyter-widgets/base",
      "_model_module_version": "1.2.0",
      "_model_name": "LayoutModel",
      "_view_count": null,
      "_view_module": "@jupyter-widgets/base",
      "_view_module_version": "1.2.0",
      "_view_name": "LayoutView",
      "align_content": null,
      "align_items": null,
      "align_self": null,
      "border": null,
      "bottom": null,
      "display": "inline-flex",
      "flex": null,
      "flex_flow": "row wrap",
      "grid_area": null,
      "grid_auto_columns": null,
      "grid_auto_flow": null,
      "grid_auto_rows": null,
      "grid_column": null,
      "grid_gap": null,
      "grid_row": null,
      "grid_template_areas": null,
      "grid_template_columns": null,
      "grid_template_rows": null,
      "height": null,
      "justify_content": null,
      "justify_items": null,
      "left": null,
      "margin": null,
      "max_height": null,
      "max_width": null,
      "min_height": null,
      "min_width": null,
      "object_fit": null,
      "object_position": null,
      "order": null,
      "overflow": null,
      "overflow_x": null,
      "overflow_y": null,
      "padding": null,
      "right": null,
      "top": null,
      "visibility": null,
      "width": "100%"
     }
    },
    "53a699d3e609459887c880f897cc4fec": {
     "model_module": "@jupyter-widgets/controls",
     "model_name": "FloatProgressModel",
     "state": {
      "_dom_classes": [],
      "_model_module": "@jupyter-widgets/controls",
      "_model_module_version": "1.5.0",
      "_model_name": "FloatProgressModel",
      "_view_count": null,
      "_view_module": "@jupyter-widgets/controls",
      "_view_module_version": "1.5.0",
      "_view_name": "ProgressView",
      "bar_style": "info",
      "description": "Validation sanity check: 100%",
      "description_tooltip": null,
      "layout": "IPY_MODEL_30fb255df60840829b13ab6a7bb27536",
      "max": 1,
      "min": 0,
      "orientation": "horizontal",
      "style": "IPY_MODEL_19efe0ba3cf34a85becc1867d1299bbb",
      "value": 1
     }
    },
    "57ad7a0194ba491eafd086b22da58b3e": {
     "model_module": "@jupyter-widgets/controls",
     "model_name": "DescriptionStyleModel",
     "state": {
      "_model_module": "@jupyter-widgets/controls",
      "_model_module_version": "1.5.0",
      "_model_name": "DescriptionStyleModel",
      "_view_count": null,
      "_view_module": "@jupyter-widgets/base",
      "_view_module_version": "1.2.0",
      "_view_name": "StyleView",
      "description_width": ""
     }
    },
    "5cffdd65a1e044d1ab1b40a1fbb1fe03": {
     "model_module": "@jupyter-widgets/controls",
     "model_name": "HBoxModel",
     "state": {
      "_dom_classes": [],
      "_model_module": "@jupyter-widgets/controls",
      "_model_module_version": "1.5.0",
      "_model_name": "HBoxModel",
      "_view_count": null,
      "_view_module": "@jupyter-widgets/controls",
      "_view_module_version": "1.5.0",
      "_view_name": "HBoxView",
      "box_style": "",
      "children": [
       "IPY_MODEL_95564cb1bb944c7da935a3678f67e348",
       "IPY_MODEL_1c89a8f8631b4d4f9b139e8838b98ba8"
      ],
      "layout": "IPY_MODEL_e788c79484e14d418a308e9ba8621a47"
     }
    },
    "6ac706d74367472cb9de3d464df3867a": {
     "model_module": "@jupyter-widgets/base",
     "model_name": "LayoutModel",
     "state": {
      "_model_module": "@jupyter-widgets/base",
      "_model_module_version": "1.2.0",
      "_model_name": "LayoutModel",
      "_view_count": null,
      "_view_module": "@jupyter-widgets/base",
      "_view_module_version": "1.2.0",
      "_view_name": "LayoutView",
      "align_content": null,
      "align_items": null,
      "align_self": null,
      "border": null,
      "bottom": null,
      "display": null,
      "flex": null,
      "flex_flow": null,
      "grid_area": null,
      "grid_auto_columns": null,
      "grid_auto_flow": null,
      "grid_auto_rows": null,
      "grid_column": null,
      "grid_gap": null,
      "grid_row": null,
      "grid_template_areas": null,
      "grid_template_columns": null,
      "grid_template_rows": null,
      "height": null,
      "justify_content": null,
      "justify_items": null,
      "left": null,
      "margin": null,
      "max_height": null,
      "max_width": null,
      "min_height": null,
      "min_width": null,
      "object_fit": null,
      "object_position": null,
      "order": null,
      "overflow": null,
      "overflow_x": null,
      "overflow_y": null,
      "padding": null,
      "right": null,
      "top": null,
      "visibility": null,
      "width": null
     }
    },
    "6cba1d955d844a42ace3252f1758876e": {
     "model_module": "@jupyter-widgets/controls",
     "model_name": "ProgressStyleModel",
     "state": {
      "_model_module": "@jupyter-widgets/controls",
      "_model_module_version": "1.5.0",
      "_model_name": "ProgressStyleModel",
      "_view_count": null,
      "_view_module": "@jupyter-widgets/base",
      "_view_module_version": "1.2.0",
      "_view_name": "StyleView",
      "bar_color": null,
      "description_width": "initial"
     }
    },
    "6e9a9406cf8e4ba3b5657ca5fff782ac": {
     "model_module": "@jupyter-widgets/controls",
     "model_name": "FloatProgressModel",
     "state": {
      "_dom_classes": [],
      "_model_module": "@jupyter-widgets/controls",
      "_model_module_version": "1.5.0",
      "_model_name": "FloatProgressModel",
      "_view_count": null,
      "_view_module": "@jupyter-widgets/controls",
      "_view_module_version": "1.5.0",
      "_view_name": "ProgressView",
      "bar_style": "info",
      "description": "Validating: 100%",
      "description_tooltip": null,
      "layout": "IPY_MODEL_d71f11fcaff3408b8665f0c972a0f489",
      "max": 1,
      "min": 0,
      "orientation": "horizontal",
      "style": "IPY_MODEL_8e585c49a2784d7da7b95ac1388bf939",
      "value": 1
     }
    },
    "740708443b8e41b4991059143f710d8b": {
     "model_module": "@jupyter-widgets/base",
     "model_name": "LayoutModel",
     "state": {
      "_model_module": "@jupyter-widgets/base",
      "_model_module_version": "1.2.0",
      "_model_name": "LayoutModel",
      "_view_count": null,
      "_view_module": "@jupyter-widgets/base",
      "_view_module_version": "1.2.0",
      "_view_name": "LayoutView",
      "align_content": null,
      "align_items": null,
      "align_self": null,
      "border": null,
      "bottom": null,
      "display": null,
      "flex": null,
      "flex_flow": null,
      "grid_area": null,
      "grid_auto_columns": null,
      "grid_auto_flow": null,
      "grid_auto_rows": null,
      "grid_column": null,
      "grid_gap": null,
      "grid_row": null,
      "grid_template_areas": null,
      "grid_template_columns": null,
      "grid_template_rows": null,
      "height": null,
      "justify_content": null,
      "justify_items": null,
      "left": null,
      "margin": null,
      "max_height": null,
      "max_width": null,
      "min_height": null,
      "min_width": null,
      "object_fit": null,
      "object_position": null,
      "order": null,
      "overflow": null,
      "overflow_x": null,
      "overflow_y": null,
      "padding": null,
      "right": null,
      "top": null,
      "visibility": null,
      "width": null
     }
    },
    "77194c6abd894500a39e4ecd6c7ff895": {
     "model_module": "@jupyter-widgets/controls",
     "model_name": "DescriptionStyleModel",
     "state": {
      "_model_module": "@jupyter-widgets/controls",
      "_model_module_version": "1.5.0",
      "_model_name": "DescriptionStyleModel",
      "_view_count": null,
      "_view_module": "@jupyter-widgets/base",
      "_view_module_version": "1.2.0",
      "_view_name": "StyleView",
      "description_width": ""
     }
    },
    "7e497035705a4c92bee4f36820636c17": {
     "model_module": "@jupyter-widgets/controls",
     "model_name": "ProgressStyleModel",
     "state": {
      "_model_module": "@jupyter-widgets/controls",
      "_model_module_version": "1.5.0",
      "_model_name": "ProgressStyleModel",
      "_view_count": null,
      "_view_module": "@jupyter-widgets/base",
      "_view_module_version": "1.2.0",
      "_view_name": "StyleView",
      "bar_color": null,
      "description_width": "initial"
     }
    },
    "7ee7859a0ef4408b93bf1bb990252e38": {
     "model_module": "@jupyter-widgets/controls",
     "model_name": "HTMLModel",
     "state": {
      "_dom_classes": [],
      "_model_module": "@jupyter-widgets/controls",
      "_model_module_version": "1.5.0",
      "_model_name": "HTMLModel",
      "_view_count": null,
      "_view_module": "@jupyter-widgets/controls",
      "_view_module_version": "1.5.0",
      "_view_name": "HTMLView",
      "description": "",
      "description_tooltip": null,
      "layout": "IPY_MODEL_740708443b8e41b4991059143f710d8b",
      "placeholder": "​",
      "style": "IPY_MODEL_0b6439920ba7446a90b0da08a0edf046",
      "value": " 1/1 [00:05&lt;00:00,  5.91s/it]"
     }
    },
    "8683d7fe14f640ac959da423bab81db6": {
     "model_module": "@jupyter-widgets/base",
     "model_name": "LayoutModel",
     "state": {
      "_model_module": "@jupyter-widgets/base",
      "_model_module_version": "1.2.0",
      "_model_name": "LayoutModel",
      "_view_count": null,
      "_view_module": "@jupyter-widgets/base",
      "_view_module_version": "1.2.0",
      "_view_name": "LayoutView",
      "align_content": null,
      "align_items": null,
      "align_self": null,
      "border": null,
      "bottom": null,
      "display": null,
      "flex": null,
      "flex_flow": null,
      "grid_area": null,
      "grid_auto_columns": null,
      "grid_auto_flow": null,
      "grid_auto_rows": null,
      "grid_column": null,
      "grid_gap": null,
      "grid_row": null,
      "grid_template_areas": null,
      "grid_template_columns": null,
      "grid_template_rows": null,
      "height": null,
      "justify_content": null,
      "justify_items": null,
      "left": null,
      "margin": null,
      "max_height": null,
      "max_width": null,
      "min_height": null,
      "min_width": null,
      "object_fit": null,
      "object_position": null,
      "order": null,
      "overflow": null,
      "overflow_x": null,
      "overflow_y": null,
      "padding": null,
      "right": null,
      "top": null,
      "visibility": null,
      "width": null
     }
    },
    "869fb51b82c74fb6ad5f4b8a3de119fa": {
     "model_module": "@jupyter-widgets/controls",
     "model_name": "HBoxModel",
     "state": {
      "_dom_classes": [],
      "_model_module": "@jupyter-widgets/controls",
      "_model_module_version": "1.5.0",
      "_model_name": "HBoxModel",
      "_view_count": null,
      "_view_module": "@jupyter-widgets/controls",
      "_view_module_version": "1.5.0",
      "_view_name": "HBoxView",
      "box_style": "",
      "children": [
       "IPY_MODEL_49b5388398ba4e86b23d0a2f589fa57f",
       "IPY_MODEL_2d5743ed68f24700951417f49c4dda47"
      ],
      "layout": "IPY_MODEL_2262d445a8594280b7fa6ab2e851b194"
     }
    },
    "8e585c49a2784d7da7b95ac1388bf939": {
     "model_module": "@jupyter-widgets/controls",
     "model_name": "ProgressStyleModel",
     "state": {
      "_model_module": "@jupyter-widgets/controls",
      "_model_module_version": "1.5.0",
      "_model_name": "ProgressStyleModel",
      "_view_count": null,
      "_view_module": "@jupyter-widgets/base",
      "_view_module_version": "1.2.0",
      "_view_name": "StyleView",
      "bar_color": null,
      "description_width": "initial"
     }
    },
    "8f082f43bae647a8b854327ebd65a93e": {
     "model_module": "@jupyter-widgets/controls",
     "model_name": "HTMLModel",
     "state": {
      "_dom_classes": [],
      "_model_module": "@jupyter-widgets/controls",
      "_model_module_version": "1.5.0",
      "_model_name": "HTMLModel",
      "_view_count": null,
      "_view_module": "@jupyter-widgets/controls",
      "_view_module_version": "1.5.0",
      "_view_name": "HTMLView",
      "description": "",
      "description_tooltip": null,
      "layout": "IPY_MODEL_6ac706d74367472cb9de3d464df3867a",
      "placeholder": "​",
      "style": "IPY_MODEL_c5ef278701394729a1b0b92aabb30bf8",
      "value": " 1/1 [00:01&lt;00:00,  1.34s/it]"
     }
    },
    "915c28ae638c4fbdb38ac4884a160185": {
     "model_module": "@jupyter-widgets/base",
     "model_name": "LayoutModel",
     "state": {
      "_model_module": "@jupyter-widgets/base",
      "_model_module_version": "1.2.0",
      "_model_name": "LayoutModel",
      "_view_count": null,
      "_view_module": "@jupyter-widgets/base",
      "_view_module_version": "1.2.0",
      "_view_name": "LayoutView",
      "align_content": null,
      "align_items": null,
      "align_self": null,
      "border": null,
      "bottom": null,
      "display": "inline-flex",
      "flex": null,
      "flex_flow": "row wrap",
      "grid_area": null,
      "grid_auto_columns": null,
      "grid_auto_flow": null,
      "grid_auto_rows": null,
      "grid_column": null,
      "grid_gap": null,
      "grid_row": null,
      "grid_template_areas": null,
      "grid_template_columns": null,
      "grid_template_rows": null,
      "height": null,
      "justify_content": null,
      "justify_items": null,
      "left": null,
      "margin": null,
      "max_height": null,
      "max_width": null,
      "min_height": null,
      "min_width": null,
      "object_fit": null,
      "object_position": null,
      "order": null,
      "overflow": null,
      "overflow_x": null,
      "overflow_y": null,
      "padding": null,
      "right": null,
      "top": null,
      "visibility": null,
      "width": "100%"
     }
    },
    "95564cb1bb944c7da935a3678f67e348": {
     "model_module": "@jupyter-widgets/controls",
     "model_name": "FloatProgressModel",
     "state": {
      "_dom_classes": [],
      "_model_module": "@jupyter-widgets/controls",
      "_model_module_version": "1.5.0",
      "_model_name": "FloatProgressModel",
      "_view_count": null,
      "_view_module": "@jupyter-widgets/controls",
      "_view_module_version": "1.5.0",
      "_view_name": "ProgressView",
      "bar_style": "success",
      "description": "Epoch 1: 100%",
      "description_tooltip": null,
      "layout": "IPY_MODEL_a8723fe6f9214b6eb32daa2bb2820145",
      "max": 2,
      "min": 0,
      "orientation": "horizontal",
      "style": "IPY_MODEL_a589cdc8ca414003b42cf9051f8b1e48",
      "value": 2
     }
    },
    "a46d60b90cf04913b3f18f1533b4aca3": {
     "model_module": "@jupyter-widgets/controls",
     "model_name": "FloatProgressModel",
     "state": {
      "_dom_classes": [],
      "_model_module": "@jupyter-widgets/controls",
      "_model_module_version": "1.5.0",
      "_model_name": "FloatProgressModel",
      "_view_count": null,
      "_view_module": "@jupyter-widgets/controls",
      "_view_module_version": "1.5.0",
      "_view_name": "ProgressView",
      "bar_style": "info",
      "description": "Validating: 100%",
      "description_tooltip": null,
      "layout": "IPY_MODEL_b1b3be1894514f38ac31011672e6b510",
      "max": 1,
      "min": 0,
      "orientation": "horizontal",
      "style": "IPY_MODEL_e8eed605897042a8951e80635704fcff",
      "value": 1
     }
    },
    "a5062bdd93524e5c8b34ffee36af1742": {
     "model_module": "@jupyter-widgets/controls",
     "model_name": "FloatProgressModel",
     "state": {
      "_dom_classes": [],
      "_model_module": "@jupyter-widgets/controls",
      "_model_module_version": "1.5.0",
      "_model_name": "FloatProgressModel",
      "_view_count": null,
      "_view_module": "@jupyter-widgets/controls",
      "_view_module_version": "1.5.0",
      "_view_name": "ProgressView",
      "bar_style": "info",
      "description": "Validating: 100%",
      "description_tooltip": null,
      "layout": "IPY_MODEL_f9b719c1a70746a99a2ab0f437c98a40",
      "max": 1,
      "min": 0,
      "orientation": "horizontal",
      "style": "IPY_MODEL_a8bb64119e10442283448f56183bb6d0",
      "value": 1
     }
    },
    "a589cdc8ca414003b42cf9051f8b1e48": {
     "model_module": "@jupyter-widgets/controls",
     "model_name": "ProgressStyleModel",
     "state": {
      "_model_module": "@jupyter-widgets/controls",
      "_model_module_version": "1.5.0",
      "_model_name": "ProgressStyleModel",
      "_view_count": null,
      "_view_module": "@jupyter-widgets/base",
      "_view_module_version": "1.2.0",
      "_view_name": "StyleView",
      "bar_color": null,
      "description_width": "initial"
     }
    },
    "a810b6f9d8644836b950369a6b286e3b": {
     "model_module": "@jupyter-widgets/controls",
     "model_name": "FloatProgressModel",
     "state": {
      "_dom_classes": [],
      "_model_module": "@jupyter-widgets/controls",
      "_model_module_version": "1.5.0",
      "_model_name": "FloatProgressModel",
      "_view_count": null,
      "_view_module": "@jupyter-widgets/controls",
      "_view_module_version": "1.5.0",
      "_view_name": "ProgressView",
      "bar_style": "info",
      "description": "Validating: 100%",
      "description_tooltip": null,
      "layout": "IPY_MODEL_3af102ccecd14ca894a30a8a2d523a40",
      "max": 1,
      "min": 0,
      "orientation": "horizontal",
      "style": "IPY_MODEL_bb93ff5a8f4b4e77bbc12b145598e1a2",
      "value": 1
     }
    },
    "a8723fe6f9214b6eb32daa2bb2820145": {
     "model_module": "@jupyter-widgets/base",
     "model_name": "LayoutModel",
     "state": {
      "_model_module": "@jupyter-widgets/base",
      "_model_module_version": "1.2.0",
      "_model_name": "LayoutModel",
      "_view_count": null,
      "_view_module": "@jupyter-widgets/base",
      "_view_module_version": "1.2.0",
      "_view_name": "LayoutView",
      "align_content": null,
      "align_items": null,
      "align_self": null,
      "border": null,
      "bottom": null,
      "display": null,
      "flex": "2",
      "flex_flow": null,
      "grid_area": null,
      "grid_auto_columns": null,
      "grid_auto_flow": null,
      "grid_auto_rows": null,
      "grid_column": null,
      "grid_gap": null,
      "grid_row": null,
      "grid_template_areas": null,
      "grid_template_columns": null,
      "grid_template_rows": null,
      "height": null,
      "justify_content": null,
      "justify_items": null,
      "left": null,
      "margin": null,
      "max_height": null,
      "max_width": null,
      "min_height": null,
      "min_width": null,
      "object_fit": null,
      "object_position": null,
      "order": null,
      "overflow": null,
      "overflow_x": null,
      "overflow_y": null,
      "padding": null,
      "right": null,
      "top": null,
      "visibility": null,
      "width": null
     }
    },
    "a8bb64119e10442283448f56183bb6d0": {
     "model_module": "@jupyter-widgets/controls",
     "model_name": "ProgressStyleModel",
     "state": {
      "_model_module": "@jupyter-widgets/controls",
      "_model_module_version": "1.5.0",
      "_model_name": "ProgressStyleModel",
      "_view_count": null,
      "_view_module": "@jupyter-widgets/base",
      "_view_module_version": "1.2.0",
      "_view_name": "StyleView",
      "bar_color": null,
      "description_width": "initial"
     }
    },
    "a9da56f04cb34272a199a2703e7c410e": {
     "model_module": "@jupyter-widgets/controls",
     "model_name": "HTMLModel",
     "state": {
      "_dom_classes": [],
      "_model_module": "@jupyter-widgets/controls",
      "_model_module_version": "1.5.0",
      "_model_name": "HTMLModel",
      "_view_count": null,
      "_view_module": "@jupyter-widgets/controls",
      "_view_module_version": "1.5.0",
      "_view_name": "HTMLView",
      "description": "",
      "description_tooltip": null,
      "layout": "IPY_MODEL_b634a4cb3b56495480f5d6dd681d3e4a",
      "placeholder": "​",
      "style": "IPY_MODEL_3003297e18a54a30b54f5ee3eb526fc3",
      "value": " 2/2 [00:06&lt;00:00,  3.29s/it, loss=0.721, v_num=0, train_loss=0.721, val_loss=0.991, val_eff=0.431, val_pur=0.00875]"
     }
    },
    "b1b3be1894514f38ac31011672e6b510": {
     "model_module": "@jupyter-widgets/base",
     "model_name": "LayoutModel",
     "state": {
      "_model_module": "@jupyter-widgets/base",
      "_model_module_version": "1.2.0",
      "_model_name": "LayoutModel",
      "_view_count": null,
      "_view_module": "@jupyter-widgets/base",
      "_view_module_version": "1.2.0",
      "_view_name": "LayoutView",
      "align_content": null,
      "align_items": null,
      "align_self": null,
      "border": null,
      "bottom": null,
      "display": null,
      "flex": "2",
      "flex_flow": null,
      "grid_area": null,
      "grid_auto_columns": null,
      "grid_auto_flow": null,
      "grid_auto_rows": null,
      "grid_column": null,
      "grid_gap": null,
      "grid_row": null,
      "grid_template_areas": null,
      "grid_template_columns": null,
      "grid_template_rows": null,
      "height": null,
      "justify_content": null,
      "justify_items": null,
      "left": null,
      "margin": null,
      "max_height": null,
      "max_width": null,
      "min_height": null,
      "min_width": null,
      "object_fit": null,
      "object_position": null,
      "order": null,
      "overflow": null,
      "overflow_x": null,
      "overflow_y": null,
      "padding": null,
      "right": null,
      "top": null,
      "visibility": null,
      "width": null
     }
    },
    "b634a4cb3b56495480f5d6dd681d3e4a": {
     "model_module": "@jupyter-widgets/base",
     "model_name": "LayoutModel",
     "state": {
      "_model_module": "@jupyter-widgets/base",
      "_model_module_version": "1.2.0",
      "_model_name": "LayoutModel",
      "_view_count": null,
      "_view_module": "@jupyter-widgets/base",
      "_view_module_version": "1.2.0",
      "_view_name": "LayoutView",
      "align_content": null,
      "align_items": null,
      "align_self": null,
      "border": null,
      "bottom": null,
      "display": null,
      "flex": null,
      "flex_flow": null,
      "grid_area": null,
      "grid_auto_columns": null,
      "grid_auto_flow": null,
      "grid_auto_rows": null,
      "grid_column": null,
      "grid_gap": null,
      "grid_row": null,
      "grid_template_areas": null,
      "grid_template_columns": null,
      "grid_template_rows": null,
      "height": null,
      "justify_content": null,
      "justify_items": null,
      "left": null,
      "margin": null,
      "max_height": null,
      "max_width": null,
      "min_height": null,
      "min_width": null,
      "object_fit": null,
      "object_position": null,
      "order": null,
      "overflow": null,
      "overflow_x": null,
      "overflow_y": null,
      "padding": null,
      "right": null,
      "top": null,
      "visibility": null,
      "width": null
     }
    },
    "b775c4c019e044ddb54c09808b18e880": {
     "model_module": "@jupyter-widgets/controls",
     "model_name": "HBoxModel",
     "state": {
      "_dom_classes": [],
      "_model_module": "@jupyter-widgets/controls",
      "_model_module_version": "1.5.0",
      "_model_name": "HBoxModel",
      "_view_count": null,
      "_view_module": "@jupyter-widgets/controls",
      "_view_module_version": "1.5.0",
      "_view_name": "HBoxView",
      "box_style": "",
      "children": [
       "IPY_MODEL_53a699d3e609459887c880f897cc4fec",
       "IPY_MODEL_7ee7859a0ef4408b93bf1bb990252e38"
      ],
      "layout": "IPY_MODEL_2aeabdb8abfb40b39a82dddd641318e4"
     }
    },
    "bae5823cc0b14517ac5b5bd7fcd1cc5e": {
     "model_module": "@jupyter-widgets/base",
     "model_name": "LayoutModel",
     "state": {
      "_model_module": "@jupyter-widgets/base",
      "_model_module_version": "1.2.0",
      "_model_name": "LayoutModel",
      "_view_count": null,
      "_view_module": "@jupyter-widgets/base",
      "_view_module_version": "1.2.0",
      "_view_name": "LayoutView",
      "align_content": null,
      "align_items": null,
      "align_self": null,
      "border": null,
      "bottom": null,
      "display": null,
      "flex": null,
      "flex_flow": null,
      "grid_area": null,
      "grid_auto_columns": null,
      "grid_auto_flow": null,
      "grid_auto_rows": null,
      "grid_column": null,
      "grid_gap": null,
      "grid_row": null,
      "grid_template_areas": null,
      "grid_template_columns": null,
      "grid_template_rows": null,
      "height": null,
      "justify_content": null,
      "justify_items": null,
      "left": null,
      "margin": null,
      "max_height": null,
      "max_width": null,
      "min_height": null,
      "min_width": null,
      "object_fit": null,
      "object_position": null,
      "order": null,
      "overflow": null,
      "overflow_x": null,
      "overflow_y": null,
      "padding": null,
      "right": null,
      "top": null,
      "visibility": null,
      "width": null
     }
    },
    "bb93ff5a8f4b4e77bbc12b145598e1a2": {
     "model_module": "@jupyter-widgets/controls",
     "model_name": "ProgressStyleModel",
     "state": {
      "_model_module": "@jupyter-widgets/controls",
      "_model_module_version": "1.5.0",
      "_model_name": "ProgressStyleModel",
      "_view_count": null,
      "_view_module": "@jupyter-widgets/base",
      "_view_module_version": "1.2.0",
      "_view_name": "StyleView",
      "bar_color": null,
      "description_width": "initial"
     }
    },
    "bbfa65338fe14c1e8c498288b123473b": {
     "model_module": "@jupyter-widgets/controls",
     "model_name": "HBoxModel",
     "state": {
      "_dom_classes": [],
      "_model_module": "@jupyter-widgets/controls",
      "_model_module_version": "1.5.0",
      "_model_name": "HBoxModel",
      "_view_count": null,
      "_view_module": "@jupyter-widgets/controls",
      "_view_module_version": "1.5.0",
      "_view_name": "HBoxView",
      "box_style": "",
      "children": [
       "IPY_MODEL_a810b6f9d8644836b950369a6b286e3b",
       "IPY_MODEL_30463987ebdd487185651d5a9e513128"
      ],
      "layout": "IPY_MODEL_915c28ae638c4fbdb38ac4884a160185"
     }
    },
    "c22a38f24c6c4a8eb7da40d0d353dd5b": {
     "model_module": "@jupyter-widgets/controls",
     "model_name": "DescriptionStyleModel",
     "state": {
      "_model_module": "@jupyter-widgets/controls",
      "_model_module_version": "1.5.0",
      "_model_name": "DescriptionStyleModel",
      "_view_count": null,
      "_view_module": "@jupyter-widgets/base",
      "_view_module_version": "1.2.0",
      "_view_name": "StyleView",
      "description_width": ""
     }
    },
    "c43ce2cb00c9409ebcec330420938217": {
     "model_module": "@jupyter-widgets/controls",
     "model_name": "HBoxModel",
     "state": {
      "_dom_classes": [],
      "_model_module": "@jupyter-widgets/controls",
      "_model_module_version": "1.5.0",
      "_model_name": "HBoxModel",
      "_view_count": null,
      "_view_module": "@jupyter-widgets/controls",
      "_view_module_version": "1.5.0",
      "_view_name": "HBoxView",
      "box_style": "",
      "children": [
       "IPY_MODEL_6e9a9406cf8e4ba3b5657ca5fff782ac",
       "IPY_MODEL_dc9fc80fdb6543e7a759cfcdc0e00e9f"
      ],
      "layout": "IPY_MODEL_e58cff2e4c1c42639701252ec5396b31"
     }
    },
    "c5ef278701394729a1b0b92aabb30bf8": {
     "model_module": "@jupyter-widgets/controls",
     "model_name": "DescriptionStyleModel",
     "state": {
      "_model_module": "@jupyter-widgets/controls",
      "_model_module_version": "1.5.0",
      "_model_name": "DescriptionStyleModel",
      "_view_count": null,
      "_view_module": "@jupyter-widgets/base",
      "_view_module_version": "1.2.0",
      "_view_name": "StyleView",
      "description_width": ""
     }
    },
    "cc34f15941304fd9ae967805a25870e2": {
     "model_module": "@jupyter-widgets/base",
     "model_name": "LayoutModel",
     "state": {
      "_model_module": "@jupyter-widgets/base",
      "_model_module_version": "1.2.0",
      "_model_name": "LayoutModel",
      "_view_count": null,
      "_view_module": "@jupyter-widgets/base",
      "_view_module_version": "1.2.0",
      "_view_name": "LayoutView",
      "align_content": null,
      "align_items": null,
      "align_self": null,
      "border": null,
      "bottom": null,
      "display": "inline-flex",
      "flex": null,
      "flex_flow": "row wrap",
      "grid_area": null,
      "grid_auto_columns": null,
      "grid_auto_flow": null,
      "grid_auto_rows": null,
      "grid_column": null,
      "grid_gap": null,
      "grid_row": null,
      "grid_template_areas": null,
      "grid_template_columns": null,
      "grid_template_rows": null,
      "height": null,
      "justify_content": null,
      "justify_items": null,
      "left": null,
      "margin": null,
      "max_height": null,
      "max_width": null,
      "min_height": null,
      "min_width": null,
      "object_fit": null,
      "object_position": null,
      "order": null,
      "overflow": null,
      "overflow_x": null,
      "overflow_y": null,
      "padding": null,
      "right": null,
      "top": null,
      "visibility": null,
      "width": "100%"
     }
    },
    "d3ca03e2f0ae42799cd67fc9a43d47ae": {
     "model_module": "@jupyter-widgets/controls",
     "model_name": "DescriptionStyleModel",
     "state": {
      "_model_module": "@jupyter-widgets/controls",
      "_model_module_version": "1.5.0",
      "_model_name": "DescriptionStyleModel",
      "_view_count": null,
      "_view_module": "@jupyter-widgets/base",
      "_view_module_version": "1.2.0",
      "_view_name": "StyleView",
      "description_width": ""
     }
    },
    "d71f11fcaff3408b8665f0c972a0f489": {
     "model_module": "@jupyter-widgets/base",
     "model_name": "LayoutModel",
     "state": {
      "_model_module": "@jupyter-widgets/base",
      "_model_module_version": "1.2.0",
      "_model_name": "LayoutModel",
      "_view_count": null,
      "_view_module": "@jupyter-widgets/base",
      "_view_module_version": "1.2.0",
      "_view_name": "LayoutView",
      "align_content": null,
      "align_items": null,
      "align_self": null,
      "border": null,
      "bottom": null,
      "display": null,
      "flex": "2",
      "flex_flow": null,
      "grid_area": null,
      "grid_auto_columns": null,
      "grid_auto_flow": null,
      "grid_auto_rows": null,
      "grid_column": null,
      "grid_gap": null,
      "grid_row": null,
      "grid_template_areas": null,
      "grid_template_columns": null,
      "grid_template_rows": null,
      "height": null,
      "justify_content": null,
      "justify_items": null,
      "left": null,
      "margin": null,
      "max_height": null,
      "max_width": null,
      "min_height": null,
      "min_width": null,
      "object_fit": null,
      "object_position": null,
      "order": null,
      "overflow": null,
      "overflow_x": null,
      "overflow_y": null,
      "padding": null,
      "right": null,
      "top": null,
      "visibility": null,
      "width": null
     }
    },
    "db1fc08cdff2470dafc2a580ab567248": {
     "model_module": "@jupyter-widgets/base",
     "model_name": "LayoutModel",
     "state": {
      "_model_module": "@jupyter-widgets/base",
      "_model_module_version": "1.2.0",
      "_model_name": "LayoutModel",
      "_view_count": null,
      "_view_module": "@jupyter-widgets/base",
      "_view_module_version": "1.2.0",
      "_view_name": "LayoutView",
      "align_content": null,
      "align_items": null,
      "align_self": null,
      "border": null,
      "bottom": null,
      "display": "inline-flex",
      "flex": null,
      "flex_flow": "row wrap",
      "grid_area": null,
      "grid_auto_columns": null,
      "grid_auto_flow": null,
      "grid_auto_rows": null,
      "grid_column": null,
      "grid_gap": null,
      "grid_row": null,
      "grid_template_areas": null,
      "grid_template_columns": null,
      "grid_template_rows": null,
      "height": null,
      "justify_content": null,
      "justify_items": null,
      "left": null,
      "margin": null,
      "max_height": null,
      "max_width": null,
      "min_height": null,
      "min_width": null,
      "object_fit": null,
      "object_position": null,
      "order": null,
      "overflow": null,
      "overflow_x": null,
      "overflow_y": null,
      "padding": null,
      "right": null,
      "top": null,
      "visibility": null,
      "width": "100%"
     }
    },
    "dc9fc80fdb6543e7a759cfcdc0e00e9f": {
     "model_module": "@jupyter-widgets/controls",
     "model_name": "HTMLModel",
     "state": {
      "_dom_classes": [],
      "_model_module": "@jupyter-widgets/controls",
      "_model_module_version": "1.5.0",
      "_model_name": "HTMLModel",
      "_view_count": null,
      "_view_module": "@jupyter-widgets/controls",
      "_view_module_version": "1.5.0",
      "_view_name": "HTMLView",
      "description": "",
      "description_tooltip": null,
      "layout": "IPY_MODEL_bae5823cc0b14517ac5b5bd7fcd1cc5e",
      "placeholder": "​",
      "style": "IPY_MODEL_fbaee165e2764671b05e3df43ae426f5",
      "value": " 1/1 [00:06&lt;00:00,  6.05s/it]"
     }
    },
    "de48527c13fe4b959eae9ce31caca633": {
     "model_module": "@jupyter-widgets/controls",
     "model_name": "FloatProgressModel",
     "state": {
      "_dom_classes": [],
      "_model_module": "@jupyter-widgets/controls",
      "_model_module_version": "1.5.0",
      "_model_name": "FloatProgressModel",
      "_view_count": null,
      "_view_module": "@jupyter-widgets/controls",
      "_view_module_version": "1.5.0",
      "_view_name": "ProgressView",
      "bar_style": "success",
      "description": "Epoch 1: 100%",
      "description_tooltip": null,
      "layout": "IPY_MODEL_1c05afbd962f41c7802e475bcb67b1cc",
      "max": 2,
      "min": 0,
      "orientation": "horizontal",
      "style": "IPY_MODEL_6cba1d955d844a42ace3252f1758876e",
      "value": 2
     }
    },
    "e39f057c5dd44ef2a33e60c85ea942f6": {
     "model_module": "@jupyter-widgets/base",
     "model_name": "LayoutModel",
     "state": {
      "_model_module": "@jupyter-widgets/base",
      "_model_module_version": "1.2.0",
      "_model_name": "LayoutModel",
      "_view_count": null,
      "_view_module": "@jupyter-widgets/base",
      "_view_module_version": "1.2.0",
      "_view_name": "LayoutView",
      "align_content": null,
      "align_items": null,
      "align_self": null,
      "border": null,
      "bottom": null,
      "display": null,
      "flex": null,
      "flex_flow": null,
      "grid_area": null,
      "grid_auto_columns": null,
      "grid_auto_flow": null,
      "grid_auto_rows": null,
      "grid_column": null,
      "grid_gap": null,
      "grid_row": null,
      "grid_template_areas": null,
      "grid_template_columns": null,
      "grid_template_rows": null,
      "height": null,
      "justify_content": null,
      "justify_items": null,
      "left": null,
      "margin": null,
      "max_height": null,
      "max_width": null,
      "min_height": null,
      "min_width": null,
      "object_fit": null,
      "object_position": null,
      "order": null,
      "overflow": null,
      "overflow_x": null,
      "overflow_y": null,
      "padding": null,
      "right": null,
      "top": null,
      "visibility": null,
      "width": null
     }
    },
    "e58cff2e4c1c42639701252ec5396b31": {
     "model_module": "@jupyter-widgets/base",
     "model_name": "LayoutModel",
     "state": {
      "_model_module": "@jupyter-widgets/base",
      "_model_module_version": "1.2.0",
      "_model_name": "LayoutModel",
      "_view_count": null,
      "_view_module": "@jupyter-widgets/base",
      "_view_module_version": "1.2.0",
      "_view_name": "LayoutView",
      "align_content": null,
      "align_items": null,
      "align_self": null,
      "border": null,
      "bottom": null,
      "display": "inline-flex",
      "flex": null,
      "flex_flow": "row wrap",
      "grid_area": null,
      "grid_auto_columns": null,
      "grid_auto_flow": null,
      "grid_auto_rows": null,
      "grid_column": null,
      "grid_gap": null,
      "grid_row": null,
      "grid_template_areas": null,
      "grid_template_columns": null,
      "grid_template_rows": null,
      "height": null,
      "justify_content": null,
      "justify_items": null,
      "left": null,
      "margin": null,
      "max_height": null,
      "max_width": null,
      "min_height": null,
      "min_width": null,
      "object_fit": null,
      "object_position": null,
      "order": null,
      "overflow": null,
      "overflow_x": null,
      "overflow_y": null,
      "padding": null,
      "right": null,
      "top": null,
      "visibility": null,
      "width": "100%"
     }
    },
    "e788c79484e14d418a308e9ba8621a47": {
     "model_module": "@jupyter-widgets/base",
     "model_name": "LayoutModel",
     "state": {
      "_model_module": "@jupyter-widgets/base",
      "_model_module_version": "1.2.0",
      "_model_name": "LayoutModel",
      "_view_count": null,
      "_view_module": "@jupyter-widgets/base",
      "_view_module_version": "1.2.0",
      "_view_name": "LayoutView",
      "align_content": null,
      "align_items": null,
      "align_self": null,
      "border": null,
      "bottom": null,
      "display": "inline-flex",
      "flex": null,
      "flex_flow": "row wrap",
      "grid_area": null,
      "grid_auto_columns": null,
      "grid_auto_flow": null,
      "grid_auto_rows": null,
      "grid_column": null,
      "grid_gap": null,
      "grid_row": null,
      "grid_template_areas": null,
      "grid_template_columns": null,
      "grid_template_rows": null,
      "height": null,
      "justify_content": null,
      "justify_items": null,
      "left": null,
      "margin": null,
      "max_height": null,
      "max_width": null,
      "min_height": null,
      "min_width": null,
      "object_fit": null,
      "object_position": null,
      "order": null,
      "overflow": null,
      "overflow_x": null,
      "overflow_y": null,
      "padding": null,
      "right": null,
      "top": null,
      "visibility": null,
      "width": "100%"
     }
    },
    "e8eed605897042a8951e80635704fcff": {
     "model_module": "@jupyter-widgets/controls",
     "model_name": "ProgressStyleModel",
     "state": {
      "_model_module": "@jupyter-widgets/controls",
      "_model_module_version": "1.5.0",
      "_model_name": "ProgressStyleModel",
      "_view_count": null,
      "_view_module": "@jupyter-widgets/base",
      "_view_module_version": "1.2.0",
      "_view_name": "StyleView",
      "bar_color": null,
      "description_width": "initial"
     }
    },
    "ef31455f32f34c08b6ae8739ea710acd": {
     "model_module": "@jupyter-widgets/controls",
     "model_name": "HTMLModel",
     "state": {
      "_dom_classes": [],
      "_model_module": "@jupyter-widgets/controls",
      "_model_module_version": "1.5.0",
      "_model_name": "HTMLModel",
      "_view_count": null,
      "_view_module": "@jupyter-widgets/controls",
      "_view_module_version": "1.5.0",
      "_view_name": "HTMLView",
      "description": "",
      "description_tooltip": null,
      "layout": "IPY_MODEL_05dda350689a4e0cba0dbdff036e907f",
      "placeholder": "​",
      "style": "IPY_MODEL_77194c6abd894500a39e4ecd6c7ff895",
      "value": " 1/1 [00:01&lt;00:00,  1.33s/it]"
     }
    },
    "f06ff041a2dd4fd1beb792eaef5b8640": {
     "model_module": "@jupyter-widgets/controls",
     "model_name": "HBoxModel",
     "state": {
      "_dom_classes": [],
      "_model_module": "@jupyter-widgets/controls",
      "_model_module_version": "1.5.0",
      "_model_name": "HBoxModel",
      "_view_count": null,
      "_view_module": "@jupyter-widgets/controls",
      "_view_module_version": "1.5.0",
      "_view_name": "HBoxView",
      "box_style": "",
      "children": [
       "IPY_MODEL_a5062bdd93524e5c8b34ffee36af1742",
       "IPY_MODEL_ef31455f32f34c08b6ae8739ea710acd"
      ],
      "layout": "IPY_MODEL_cc34f15941304fd9ae967805a25870e2"
     }
    },
    "f9b719c1a70746a99a2ab0f437c98a40": {
     "model_module": "@jupyter-widgets/base",
     "model_name": "LayoutModel",
     "state": {
      "_model_module": "@jupyter-widgets/base",
      "_model_module_version": "1.2.0",
      "_model_name": "LayoutModel",
      "_view_count": null,
      "_view_module": "@jupyter-widgets/base",
      "_view_module_version": "1.2.0",
      "_view_name": "LayoutView",
      "align_content": null,
      "align_items": null,
      "align_self": null,
      "border": null,
      "bottom": null,
      "display": null,
      "flex": "2",
      "flex_flow": null,
      "grid_area": null,
      "grid_auto_columns": null,
      "grid_auto_flow": null,
      "grid_auto_rows": null,
      "grid_column": null,
      "grid_gap": null,
      "grid_row": null,
      "grid_template_areas": null,
      "grid_template_columns": null,
      "grid_template_rows": null,
      "height": null,
      "justify_content": null,
      "justify_items": null,
      "left": null,
      "margin": null,
      "max_height": null,
      "max_width": null,
      "min_height": null,
      "min_width": null,
      "object_fit": null,
      "object_position": null,
      "order": null,
      "overflow": null,
      "overflow_x": null,
      "overflow_y": null,
      "padding": null,
      "right": null,
      "top": null,
      "visibility": null,
      "width": null
     }
    },
    "fbaee165e2764671b05e3df43ae426f5": {
     "model_module": "@jupyter-widgets/controls",
     "model_name": "DescriptionStyleModel",
     "state": {
      "_model_module": "@jupyter-widgets/controls",
      "_model_module_version": "1.5.0",
      "_model_name": "DescriptionStyleModel",
      "_view_count": null,
      "_view_module": "@jupyter-widgets/base",
      "_view_module_version": "1.2.0",
      "_view_name": "StyleView",
      "description_width": ""
     }
    },
    "fd50a16f1bca44149f3ad7b0994772b7": {
     "model_module": "@jupyter-widgets/controls",
     "model_name": "HBoxModel",
     "state": {
      "_dom_classes": [],
      "_model_module": "@jupyter-widgets/controls",
      "_model_module_version": "1.5.0",
      "_model_name": "HBoxModel",
      "_view_count": null,
      "_view_module": "@jupyter-widgets/controls",
      "_view_module_version": "1.5.0",
      "_view_name": "HBoxView",
      "box_style": "",
      "children": [
       "IPY_MODEL_a46d60b90cf04913b3f18f1533b4aca3",
       "IPY_MODEL_8f082f43bae647a8b854327ebd65a93e"
      ],
      "layout": "IPY_MODEL_db1fc08cdff2470dafc2a580ab567248"
     }
    }
   }
  }
 },
 "nbformat": 4,
 "nbformat_minor": 4
}
