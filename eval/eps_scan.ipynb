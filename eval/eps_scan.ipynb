{
 "cells": [
  {
   "cell_type": "markdown",
   "metadata": {},
   "source": [
    "## _Track Evaluation_\n",
    "\n",
    "- Running _`trkx_from_gnn.py`_ produces recostucted tracks (track candiates)\n",
    "- Running _`trkx_reco_eval.py`_ gives reconstruction evaluation: _`eff, fake rate, dup. rate, etc`_\n",
    "\n",
    "Let's perform inspection after track evaluation."
   ]
  },
  {
   "cell_type": "code",
   "execution_count": 1,
   "metadata": {},
   "outputs": [],
   "source": [
    "import sys, os, glob, yaml"
   ]
  },
  {
   "cell_type": "code",
   "execution_count": 2,
   "metadata": {},
   "outputs": [],
   "source": [
    "import numpy as np\n",
    "import pandas as pd\n",
    "import matplotlib as mpl\n",
    "import matplotlib.pyplot as plt\n",
    "\n",
    "%matplotlib inline"
   ]
  },
  {
   "cell_type": "code",
   "execution_count": 3,
   "metadata": {},
   "outputs": [],
   "source": [
    "import pprint\n",
    "import seaborn as sns\n",
    "import trackml.dataset"
   ]
  },
  {
   "cell_type": "code",
   "execution_count": 4,
   "metadata": {},
   "outputs": [],
   "source": [
    "import torch\n",
    "from torch_geometric.data import Data\n",
    "import itertools"
   ]
  },
  {
   "cell_type": "code",
   "execution_count": 5,
   "metadata": {},
   "outputs": [],
   "source": [
    "sys.path.append(\"..\")"
   ]
  },
  {
   "cell_type": "code",
   "execution_count": 6,
   "metadata": {},
   "outputs": [],
   "source": [
    "device = \"cuda\" if torch.cuda.is_available() else \"cpu\""
   ]
  },
  {
   "cell_type": "markdown",
   "metadata": {
    "tags": []
   },
   "source": [
    "## _A. Inspection of Epsilon in DBSCAN_\n",
    "\n",
    "1. Various $\\epsilon$ for DBSCAN in `trkx_from_gnn.py`\n",
    "2. Choose the best $\\epsilon$ based on _`eff, fake rate, dup. rate`_) after `trkx_reco_eval.py`\n",
    "\n",
    "**NOTE:** The $\\epsilon$ in DBSCAN is alternative to chosing a cut on the `edge_score`."
   ]
  },
  {
   "cell_type": "code",
   "execution_count": 7,
   "metadata": {},
   "outputs": [],
   "source": [
    "epsilon = [\n",
    "    0.015,\n",
    "    0.025,\n",
    "    0.050,\n",
    "    0.075,\n",
    "    0.1,\n",
    "    0.15,\n",
    "    0.2,\n",
    "    0.25,\n",
    "    0.35,\n",
    "    0.45,\n",
    "    0.55,\n",
    "    0.75,\n",
    "    0.85,\n",
    "    0.95,\n",
    "    1.0,\n",
    "]"
   ]
  },
  {
   "cell_type": "raw",
   "metadata": {},
   "source": [
    "# Muons: DNN LN\n",
    "outname=\"dnn\"\n",
    "eff_phys = [0.1708,8.3673,36.7104,62.9073,70.4835,74.1022,75.7477,76.4197,76.5448,75.8893,74.4427,68.5609,63.3662,52.7343,0.7349]\n",
    "eff_tech = [0.1747,8.6013,37.2240,64.0621,71.8009,75.4744,77.1188,77.7886,77.9088,77.2419,75.7630,69.7543,64.4568,53.6553,0.7514]\n",
    "purity   = [5.8608,68.1184,91.0142,95.6769,95.9568,96.0281,95.9904,95.8376,95.3498,94.7540,93.8815,91.3093,89.0565,83.6899,5.9280]\n",
    "clones   = [4.4050,45.4327,56.3284,41.7467,22.4429,16.5911,14.1281,12.7071,10.7304,9.1478,7.4382,5.0694,4.1512,2.7415,0.1389]"
   ]
  },
  {
   "cell_type": "raw",
   "metadata": {},
   "source": [
    "# Muons: IGNN\n",
    "outname=\"gnn\"\n",
    "eff_phys = [88.2250, 88.8337, 89.6347, 90.1322, 90.4533, 90.9524, 91.2334, 91.1832, 88.4393, 85.1644, 83.5178, 81.4443, 80.1778, 77.6377, 0.7349]\n",
    "eff_tech = [89.8331, 90.4563, 91.2791, 91.7934, 92.1251, 92.6372, 92.9258, 92.8686, 90.0497, 86.7017, 85.0175, 82.9097, 81.6185, 79.0440, 0.7514]\n",
    "purity   = [97.2793, 97.4626, 97.7950, 98.0192, 98.2108, 98.5698, 98.8359, 98.9482, 98.0389, 96.9250, 96.3454, 95.6658, 95.2468, 94.4137, 5.9280]\n",
    "clones   = [14.9108, 14.2468, 13.3162, 12.7301, 12.2580, 11.4377, 10.4787, 9.0237, 4.5875, 2.3772, 1.7618, 1.3914, 1.3140, 1.2631, 0.1389]"
   ]
  },
  {
   "cell_type": "code",
   "execution_count": 8,
   "metadata": {},
   "outputs": [],
   "source": [
    "# FWP: IGNN\n",
    "outname = \"fwp\"\n",
    "eff_phys = [\n",
    "    87.2165,\n",
    "    87.3646,\n",
    "    87.4315,\n",
    "    87.4550,\n",
    "    87.3293,\n",
    "    87.0990,\n",
    "    86.8334,\n",
    "    86.5408,\n",
    "    85.4020,\n",
    "    84.0847,\n",
    "    82.9753,\n",
    "    80.6508,\n",
    "    78.4991,\n",
    "    73.2167,\n",
    "    16.5687,\n",
    "]\n",
    "eff_tech = [\n",
    "    96.6127,\n",
    "    96.7740,\n",
    "    96.8500,\n",
    "    96.8766,\n",
    "    96.7327,\n",
    "    96.4860,\n",
    "    96.1941,\n",
    "    95.8648,\n",
    "    94.5731,\n",
    "    93.1120,\n",
    "    91.8883,\n",
    "    89.3128,\n",
    "    86.9306,\n",
    "    81.1078,\n",
    "    18.6763,\n",
    "]\n",
    "purity = [\n",
    "    99.3764,\n",
    "    99.4655,\n",
    "    99.5184,\n",
    "    99.5268,\n",
    "    99.5334,\n",
    "    99.5336,\n",
    "    99.5463,\n",
    "    99.5613,\n",
    "    99.6222,\n",
    "    99.4562,\n",
    "    99.2742,\n",
    "    98.2568,\n",
    "    98.7797,\n",
    "    96.8064,\n",
    "    47.7511,\n",
    "]\n",
    "clones = [\n",
    "    7.0048,\n",
    "    6.1859,\n",
    "    5.2207,\n",
    "    4.6082,\n",
    "    4.2689,\n",
    "    3.7827,\n",
    "    3.4842,\n",
    "    3.1144,\n",
    "    2.2536,\n",
    "    1.6902,\n",
    "    1.4752,\n",
    "    1.2884,\n",
    "    1.2231,\n",
    "    1.1924,\n",
    "    0.0000,\n",
    "]"
   ]
  },
  {
   "cell_type": "code",
   "execution_count": 9,
   "metadata": {},
   "outputs": [],
   "source": [
    "# covert to ndarrays\n",
    "eff_phys = np.array(eff_phys)\n",
    "eff_tech = np.array(eff_tech)\n",
    "purity = np.array(purity)\n",
    "clones = np.array(clones)\n",
    "epsilon = np.array(epsilon)"
   ]
  },
  {
   "cell_type": "raw",
   "metadata": {},
   "source": [
    "len(e_list)==len(eff_list)"
   ]
  },
  {
   "cell_type": "raw",
   "metadata": {},
   "source": [
    "for i in range(len(e_list)):\n",
    "    print(\"epsilon: \", e_list[i])"
   ]
  },
  {
   "cell_type": "code",
   "execution_count": 10,
   "metadata": {},
   "outputs": [],
   "source": [
    "# plt.style.use('ggplot')\n",
    "# mpl.rcParams.update(mpl.rcParamsDefault)"
   ]
  },
  {
   "cell_type": "code",
   "execution_count": 11,
   "metadata": {},
   "outputs": [],
   "source": [
    "import matplotlib.ticker as ticker"
   ]
  },
  {
   "cell_type": "code",
   "execution_count": 16,
   "metadata": {},
   "outputs": [
    {
     "data": {
      "image/png": "[encoded data removed]",
      "text/plain": [
       "<Figure size 576x432 with 1 Axes>"
      ]
     },
     "metadata": {
      "needs_background": "light"
     },
     "output_type": "display_data"
    }
   ],
   "source": [
    "# init subplots\n",
    "fig, ax = plt.subplots(nrows=1, ncols=1, figsize=(8, 6))\n",
    "ax.plot(\n",
    "    epsilon, purity, linestyle=\"-\", linewidth=1.5, color=\"red\", label=\"Tracking Purity\"\n",
    ")\n",
    "ax.plot(\n",
    "    epsilon,\n",
    "    eff_phys,\n",
    "    linestyle=\"-\",\n",
    "    linewidth=1.5,\n",
    "    color=\"blue\",\n",
    "    label=\"Tracking Efficiency (Phys.)\",\n",
    ")\n",
    "ax.plot(\n",
    "    epsilon,\n",
    "    eff_tech,\n",
    "    linestyle=\"-\",\n",
    "    linewidth=1.5,\n",
    "    color=\"orange\",\n",
    "    label=\"Tracking Efficiency (Tech.)\",\n",
    ")\n",
    "ax.plot(\n",
    "    epsilon, clones, linestyle=\"-\", linewidth=1.5, color=\"green\", label=\"Clone Rate\"\n",
    ")\n",
    "\n",
    "plt.axvline(x=0.10, linewidth=0.5, color=\"k\")\n",
    "plt.axvline(x=0.15, linewidth=0.5, color=\"magenta\")\n",
    "plt.axvline(x=0.20, linewidth=0.5, color=\"k\")\n",
    "# plt.axvline(x=0.25, linewidth=0.5, color='magenta')\n",
    "# plt.axvline(x=0.3, linewidth=0.5, color='k')\n",
    "\n",
    "# plotting params\n",
    "# ax.set_title('Track evaluation (efficiency vs epsilon)')\n",
    "ax.set_xlabel(\"$\\epsilon_{db}$\", fontsize=20)\n",
    "ax.set_ylabel(\"Counts [%]\", fontsize=20)\n",
    "ax.set_xlim(0, 0.95)\n",
    "# ax.set_ylim(0.0, 100)\n",
    "# ax.set_yscale('log')\n",
    "\n",
    "start, end = ax.get_xlim()\n",
    "ax.xaxis.set_ticks(np.arange(start, end, 0.1))\n",
    "ax.xaxis.set_major_formatter(ticker.FormatStrFormatter(\"%0.2f\"))\n",
    "\n",
    "\n",
    "ax.grid(False)\n",
    "ax.legend(fontsize=15, loc=\"best\")\n",
    "fig.tight_layout()\n",
    "fig.savefig(outname + \"_epsilon_scan.pdf\")"
   ]
  },
  {
   "cell_type": "code",
   "execution_count": null,
   "metadata": {},
   "outputs": [],
   "source": []
  }
 ],
 "metadata": {
  "kernelspec": {
   "display_name": "Python 3 (ipykernel)",
   "language": "python",
   "name": "python3"
  },
  "language_info": {
   "codemirror_mode": {
    "name": "ipython",
    "version": 3
   },
   "file_extension": ".py",
   "mimetype": "text/x-python",
   "name": "python",
   "nbconvert_exporter": "python",
   "pygments_lexer": "ipython3",
   "version": "3.8.12"
  }
 },
 "nbformat": 4,
 "nbformat_minor": 4
}
