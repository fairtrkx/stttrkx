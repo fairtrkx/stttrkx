{
 "cells": [
  {
   "cell_type": "markdown",
   "id": "6986ef9d-1a7c-44be-a9a9-0dffb72bf606",
   "metadata": {},
   "source": [
    "### _Awkward Array_\n",
    "\n",
    "Testing Awkward array to build track candidates.\n",
    "\n",
    "- create a list of lists\n",
    "- each list contains `[track_id, list_hit_id]`\n",
    "\n",
    "**NOTE**: Don't sort values, just use `groupby()` to get subgroups."
   ]
  },
  {
   "cell_type": "code",
   "execution_count": 1,
   "id": "97465c3c-e2c9-4ed7-8871-6e3f5c4005ab",
   "metadata": {},
   "outputs": [],
   "source": [
    "import os\n",
    "import glob\n",
    "import torch\n",
    "\n",
    "import scipy as sp\n",
    "import numpy as np\n",
    "import pandas as pd\n",
    "\n",
    "import uproot\n",
    "import awkward as ak\n",
    "\n",
    "from multiprocessing import Pool\n",
    "from functools import partial\n",
    "from sklearn.cluster import DBSCAN"
   ]
  },
  {
   "cell_type": "code",
   "execution_count": 2,
   "id": "a2945e16-e86c-455d-a093-07cb3d76680b",
   "metadata": {},
   "outputs": [],
   "source": [
    "device = \"cuda\" if torch.cuda.is_available() else \"cpu\""
   ]
  },
  {
   "cell_type": "code",
   "execution_count": 3,
   "id": "aa15b177-b854-4f73-af7b-adab74d85640",
   "metadata": {},
   "outputs": [],
   "source": [
    "from trkx_from_gnn import tracks_from_gnn, process"
   ]
  },
  {
   "cell_type": "code",
   "execution_count": 4,
   "id": "7392493d-3cdb-4653-b757-7064e6aca7f9",
   "metadata": {},
   "outputs": [
    {
     "data": {
      "text/plain": [
       "['../run_all/gnn_processed/pred/110000',\n",
       " '../run_all/gnn_processed/pred/110001',\n",
       " '../run_all/gnn_processed/pred/110002',\n",
       " '../run_all/gnn_processed/pred/110003',\n",
       " '../run_all/gnn_processed/pred/110004']"
      ]
     },
     "execution_count": 4,
     "metadata": {},
     "output_type": "execute_result"
    }
   ],
   "source": [
    "inputdir = \"../run_all/gnn_processed/pred\"\n",
    "gnn_eval_files = sorted(glob.glob(os.path.join(inputdir, \"*\")))\n",
    "gnn_eval_files[:5]"
   ]
  },
  {
   "cell_type": "code",
   "execution_count": 5,
   "id": "d83e1d4d-c701-48f4-9246-99945c135445",
   "metadata": {},
   "outputs": [],
   "source": [
    "filename = gnn_eval_files[0]\n",
    "evtid = int(os.path.basename(filename))"
   ]
  },
  {
   "cell_type": "code",
   "execution_count": 6,
   "id": "1620c769-2696-4150-8001-e963ac5a224b",
   "metadata": {},
   "outputs": [
    {
     "data": {
      "text/plain": [
       "110000"
      ]
     },
     "execution_count": 6,
     "metadata": {},
     "output_type": "execute_result"
    }
   ],
   "source": [
    "evtid"
   ]
  },
  {
   "cell_type": "code",
   "execution_count": 7,
   "id": "8d487877-ce38-4b79-b956-f9fa3c50f5af",
   "metadata": {},
   "outputs": [],
   "source": [
    "gnn_data = torch.load(filename, map_location=device)\n",
    "score = gnn_data.scores[\n",
    "    : gnn_data.edge_index.shape[1]\n",
    "]  # score has twice the size of edge_index (flip(0) was used)\n",
    "senders = gnn_data.edge_index[0]\n",
    "receivers = gnn_data.edge_index[1]\n",
    "hit_id = gnn_data.hid"
   ]
  },
  {
   "cell_type": "code",
   "execution_count": 8,
   "id": "d8ea2318-edf7-4674-a335-bebf7f69e058",
   "metadata": {},
   "outputs": [
    {
     "name": "stderr",
     "output_type": "stream",
     "text": [
      "/shared/adeel/anaconda3/envs/uproot/lib/python3.8/site-packages/sklearn/neighbors/_base.py:234: EfficiencyWarning: Precomputed sparse input was not sorted by row values. Use the function sklearn.neighbors.sort_graph_by_row_values to sort the input by row values, with warn_when_not_sorted=False to remove this warning.\n",
      "  warnings.warn(\n"
     ]
    }
   ],
   "source": [
    "predicted_tracks = tracks_from_gnn(hit_id, score, senders, receivers)\n",
    "ptg = predicted_tracks.groupby([\"track_id\"])"
   ]
  },
  {
   "cell_type": "code",
   "execution_count": 9,
   "id": "5a25cc2f-aaca-442e-9640-4c069ee0ec89",
   "metadata": {},
   "outputs": [
    {
     "data": {
      "text/html": [
       "<div>\n",
       "<style scoped>\n",
       "    .dataframe tbody tr th:only-of-type {\n",
       "        vertical-align: middle;\n",
       "    }\n",
       "\n",
       "    .dataframe tbody tr th {\n",
       "        vertical-align: top;\n",
       "    }\n",
       "\n",
       "    .dataframe thead th {\n",
       "        text-align: right;\n",
       "    }\n",
       "</style>\n",
       "<table border=\"1\" class=\"dataframe\">\n",
       "  <thead>\n",
       "    <tr style=\"text-align: right;\">\n",
       "      <th></th>\n",
       "      <th>hit_id</th>\n",
       "      <th>track_id</th>\n",
       "    </tr>\n",
       "  </thead>\n",
       "  <tbody>\n",
       "    <tr>\n",
       "      <th>0</th>\n",
       "      <td>52</td>\n",
       "      <td>0</td>\n",
       "    </tr>\n",
       "    <tr>\n",
       "      <th>1</th>\n",
       "      <td>77</td>\n",
       "      <td>1</td>\n",
       "    </tr>\n",
       "    <tr>\n",
       "      <th>2</th>\n",
       "      <td>127</td>\n",
       "      <td>2</td>\n",
       "    </tr>\n",
       "    <tr>\n",
       "      <th>3</th>\n",
       "      <td>178</td>\n",
       "      <td>3</td>\n",
       "    </tr>\n",
       "    <tr>\n",
       "      <th>4</th>\n",
       "      <td>1</td>\n",
       "      <td>4</td>\n",
       "    </tr>\n",
       "    <tr>\n",
       "      <th>...</th>\n",
       "      <td>...</td>\n",
       "      <td>...</td>\n",
       "    </tr>\n",
       "    <tr>\n",
       "      <th>124</th>\n",
       "      <td>25</td>\n",
       "      <td>4</td>\n",
       "    </tr>\n",
       "    <tr>\n",
       "      <th>125</th>\n",
       "      <td>177</td>\n",
       "      <td>6</td>\n",
       "    </tr>\n",
       "    <tr>\n",
       "      <th>126</th>\n",
       "      <td>102</td>\n",
       "      <td>11</td>\n",
       "    </tr>\n",
       "    <tr>\n",
       "      <th>127</th>\n",
       "      <td>152</td>\n",
       "      <td>-1</td>\n",
       "    </tr>\n",
       "    <tr>\n",
       "      <th>128</th>\n",
       "      <td>51</td>\n",
       "      <td>7</td>\n",
       "    </tr>\n",
       "  </tbody>\n",
       "</table>\n",
       "<p>129 rows × 2 columns</p>\n",
       "</div>"
      ],
      "text/plain": [
       "     hit_id  track_id\n",
       "0        52         0\n",
       "1        77         1\n",
       "2       127         2\n",
       "3       178         3\n",
       "4         1         4\n",
       "..      ...       ...\n",
       "124      25         4\n",
       "125     177         6\n",
       "126     102        11\n",
       "127     152        -1\n",
       "128      51         7\n",
       "\n",
       "[129 rows x 2 columns]"
      ]
     },
     "execution_count": 9,
     "metadata": {},
     "output_type": "execute_result"
    }
   ],
   "source": [
    "predicted_tracks"
   ]
  },
  {
   "cell_type": "code",
   "execution_count": 10,
   "id": "9d4bfab0-2eef-4bb4-9a5d-67699139a336",
   "metadata": {},
   "outputs": [
    {
     "data": {
      "text/plain": [
       "{-1: [69, 79, 80, 85, 91, 98, 99, 127], 0: [0, 6, 17, 26, 33, 41, 49, 55, 71, 76, 82, 88, 95, 102, 108, 116, 123], 1: [1, 9, 14, 23, 30, 39, 46, 58], 2: [2, 8, 15, 25, 31, 38, 47, 56], 3: [3, 7, 16, 24, 32, 40, 50, 57], 4: [4, 11, 19, 27, 35, 43, 52, 61, 72, 77, 83, 89, 96, 103, 110, 117, 124], 5: [5, 13, 21, 29, 37, 45, 54, 64, 75, 81, 87, 93, 100, 107, 115, 122], 6: [10, 18, 22, 34, 42, 51, 59, 62, 65, 78, 84, 90, 97, 104, 111, 118, 125], 7: [12, 20, 28, 36, 44, 48, 53, 60, 63, 66, 67, 68, 94, 101, 109, 112, 121, 128], 8: [70, 73, 74], 9: [86, 92], 10: [105, 106, 113, 120], 11: [114, 119, 126]}"
      ]
     },
     "execution_count": 10,
     "metadata": {},
     "output_type": "execute_result"
    }
   ],
   "source": [
    "ptg.groups"
   ]
  },
  {
   "cell_type": "code",
   "execution_count": 11,
   "id": "9b9cdec4-ab7d-4ae7-9a2f-d84e3a769e5e",
   "metadata": {},
   "outputs": [
    {
     "data": {
      "text/html": [
       "<div>\n",
       "<style scoped>\n",
       "    .dataframe tbody tr th:only-of-type {\n",
       "        vertical-align: middle;\n",
       "    }\n",
       "\n",
       "    .dataframe tbody tr th {\n",
       "        vertical-align: top;\n",
       "    }\n",
       "\n",
       "    .dataframe thead th {\n",
       "        text-align: right;\n",
       "    }\n",
       "</style>\n",
       "<table border=\"1\" class=\"dataframe\">\n",
       "  <thead>\n",
       "    <tr style=\"text-align: right;\">\n",
       "      <th></th>\n",
       "      <th>hit_id</th>\n",
       "      <th>track_id</th>\n",
       "    </tr>\n",
       "  </thead>\n",
       "  <tbody>\n",
       "    <tr>\n",
       "      <th>0</th>\n",
       "      <td>52</td>\n",
       "      <td>0</td>\n",
       "    </tr>\n",
       "    <tr>\n",
       "      <th>6</th>\n",
       "      <td>53</td>\n",
       "      <td>0</td>\n",
       "    </tr>\n",
       "    <tr>\n",
       "      <th>17</th>\n",
       "      <td>54</td>\n",
       "      <td>0</td>\n",
       "    </tr>\n",
       "    <tr>\n",
       "      <th>26</th>\n",
       "      <td>55</td>\n",
       "      <td>0</td>\n",
       "    </tr>\n",
       "    <tr>\n",
       "      <th>33</th>\n",
       "      <td>56</td>\n",
       "      <td>0</td>\n",
       "    </tr>\n",
       "    <tr>\n",
       "      <th>41</th>\n",
       "      <td>57</td>\n",
       "      <td>0</td>\n",
       "    </tr>\n",
       "    <tr>\n",
       "      <th>49</th>\n",
       "      <td>58</td>\n",
       "      <td>0</td>\n",
       "    </tr>\n",
       "    <tr>\n",
       "      <th>55</th>\n",
       "      <td>59</td>\n",
       "      <td>0</td>\n",
       "    </tr>\n",
       "    <tr>\n",
       "      <th>71</th>\n",
       "      <td>68</td>\n",
       "      <td>0</td>\n",
       "    </tr>\n",
       "    <tr>\n",
       "      <th>76</th>\n",
       "      <td>69</td>\n",
       "      <td>0</td>\n",
       "    </tr>\n",
       "    <tr>\n",
       "      <th>82</th>\n",
       "      <td>70</td>\n",
       "      <td>0</td>\n",
       "    </tr>\n",
       "    <tr>\n",
       "      <th>88</th>\n",
       "      <td>71</td>\n",
       "      <td>0</td>\n",
       "    </tr>\n",
       "    <tr>\n",
       "      <th>95</th>\n",
       "      <td>72</td>\n",
       "      <td>0</td>\n",
       "    </tr>\n",
       "    <tr>\n",
       "      <th>102</th>\n",
       "      <td>73</td>\n",
       "      <td>0</td>\n",
       "    </tr>\n",
       "    <tr>\n",
       "      <th>108</th>\n",
       "      <td>74</td>\n",
       "      <td>0</td>\n",
       "    </tr>\n",
       "    <tr>\n",
       "      <th>116</th>\n",
       "      <td>75</td>\n",
       "      <td>0</td>\n",
       "    </tr>\n",
       "    <tr>\n",
       "      <th>123</th>\n",
       "      <td>76</td>\n",
       "      <td>0</td>\n",
       "    </tr>\n",
       "  </tbody>\n",
       "</table>\n",
       "</div>"
      ],
      "text/plain": [
       "     hit_id  track_id\n",
       "0        52         0\n",
       "6        53         0\n",
       "17       54         0\n",
       "26       55         0\n",
       "33       56         0\n",
       "41       57         0\n",
       "49       58         0\n",
       "55       59         0\n",
       "71       68         0\n",
       "76       69         0\n",
       "82       70         0\n",
       "88       71         0\n",
       "95       72         0\n",
       "102      73         0\n",
       "108      74         0\n",
       "116      75         0\n",
       "123      76         0"
      ]
     },
     "execution_count": 11,
     "metadata": {},
     "output_type": "execute_result"
    }
   ],
   "source": [
    "ptg.get_group(0)"
   ]
  },
  {
   "cell_type": "code",
   "execution_count": 12,
   "id": "3caa68ed-5ef9-4587-adf5-77b669630998",
   "metadata": {},
   "outputs": [
    {
     "name": "stderr",
     "output_type": "stream",
     "text": [
      "/tmp/ipykernel_773288/4196950509.py:3: FutureWarning: In a future version of pandas, a length 1 tuple will be returned when iterating over a groupby with a grouper equal to a list of length 1. Don't supply a list with a single grouper to avoid this warning.\n",
      "  for g, data in ptg:\n"
     ]
    }
   ],
   "source": [
    "track_cand = []\n",
    "\n",
    "for g, data in ptg:\n",
    "    temp = [int(g)]\n",
    "    temp.extend(data[\"hit_id\"].tolist())\n",
    "    track_cand.append(temp)"
   ]
  },
  {
   "cell_type": "code",
   "execution_count": 13,
   "id": "ef959c3a-8126-4ee8-aeca-20be685a4d3b",
   "metadata": {},
   "outputs": [
    {
     "name": "stdout",
     "output_type": "stream",
     "text": [
      "[[-1, 93, 145, 95, 96, 147, 148, 98, 152], [0, 52, 53, 54, 55, 56, 57, 58, 59, 68, 69, 70, 71, 72, 73, 74, 75, 76], [1, 77, 78, 79, 80, 81, 82, 83, 84], [2, 127, 128, 129, 130, 131, 132, 133, 134], [3, 178, 179, 180, 181, 182, 183, 184, 185], [4, 1, 2, 3, 4, 5, 6, 7, 8, 17, 18, 19, 20, 21, 22, 23, 24, 25], [5, 103, 104, 105, 106, 107, 108, 109, 110, 119, 120, 121, 122, 123, 124, 125, 126], [6, 153, 154, 155, 156, 157, 158, 159, 160, 161, 170, 171, 172, 173, 174, 175, 176, 177], [7, 26, 27, 28, 29, 30, 31, 32, 33, 34, 35, 36, 37, 46, 47, 48, 49, 50, 51], [8, 143, 144, 94], [9, 146, 97], [10, 99, 149, 150, 151], [11, 100, 101, 102]]\n"
     ]
    }
   ],
   "source": [
    "print(track_cand)"
   ]
  },
  {
   "cell_type": "code",
   "execution_count": 14,
   "id": "cf8157e4-8b66-49ca-9041-b9b4584ca8be",
   "metadata": {},
   "outputs": [
    {
     "data": {
      "text/html": [
       "<pre>[[-1, 93, 145, 95, 96, 147, 148, 98, 152],\n",
       " [0, 52, 53, 54, 55, 56, 57, 58, 59, 68, 69, 70, 71, 72, 73, 74, 75, 76],\n",
       " [1, 77, 78, 79, 80, 81, 82, 83, 84],\n",
       " [2, 127, 128, 129, 130, 131, 132, 133, 134],\n",
       " [3, 178, 179, 180, 181, 182, 183, 184, 185],\n",
       " [4, 1, 2, 3, 4, 5, 6, 7, 8, 17, 18, 19, 20, 21, 22, 23, 24, 25],\n",
       " [5, 103, 104, 105, 106, 107, 108, 109, ..., 120, 121, 122, 123, 124, 125, 126],\n",
       " [6, 153, 154, 155, 156, 157, 158, 159, ..., 171, 172, 173, 174, 175, 176, 177],\n",
       " [7, 26, 27, 28, 29, 30, 31, 32, 33, ..., 35, 36, 37, 46, 47, 48, 49, 50, 51],\n",
       " [8, 143, 144, 94],\n",
       " [9, 146, 97],\n",
       " [10, 99, 149, 150, 151],\n",
       " [11, 100, 101, 102]]\n",
       "--------------------------------------------------------------------------------\n",
       "type: 13 * var * int64</pre>"
      ],
      "text/plain": [
       "<Array [[-1, 93, 145, 95, ..., 147, 148, 98, 152], ...] type='13 * var * int64'>"
      ]
     },
     "execution_count": 14,
     "metadata": {},
     "output_type": "execute_result"
    }
   ],
   "source": [
    "ak.Array(track_cand)"
   ]
  },
  {
   "cell_type": "code",
   "execution_count": 16,
   "id": "4c0d0f3d-1eca-40e8-8b74-b4570038d506",
   "metadata": {},
   "outputs": [],
   "source": [
    "df = predicted_tracks"
   ]
  },
  {
   "cell_type": "code",
   "execution_count": 29,
   "id": "a7275b6c-b3b4-466f-9133-46670bc859e2",
   "metadata": {},
   "outputs": [
    {
     "data": {
      "text/plain": [
       "hit_id      int32\n",
       "track_id    int64\n",
       "dtype: object"
      ]
     },
     "execution_count": 29,
     "metadata": {},
     "output_type": "execute_result"
    }
   ],
   "source": [
    "df.dtypes"
   ]
  },
  {
   "cell_type": "code",
   "execution_count": 32,
   "id": "fdd80073-ff3d-4f81-ad1e-7e72e72e9301",
   "metadata": {},
   "outputs": [
    {
     "data": {
      "text/plain": [
       "hit_id      int64\n",
       "track_id    int64\n",
       "dtype: object"
      ]
     },
     "execution_count": 32,
     "metadata": {},
     "output_type": "execute_result"
    }
   ],
   "source": [
    "df.astype(np.int64).dtypes"
   ]
  },
  {
   "cell_type": "code",
   "execution_count": 28,
   "id": "9eb0f9eb-fb46-4505-8775-e7aab28afd8f",
   "metadata": {},
   "outputs": [
    {
     "data": {
      "text/plain": [
       "array([ 52,  77, 127, 178,   1, 103,  53, 179, 128,  78, 153,   2,  26,\n",
       "       104,  79, 129, 180,  54, 154,   3,  27, 105, 155,  80, 181, 130,\n",
       "        55,   4,  28, 106,  81, 131, 182,  56, 156,   5,  29, 107, 132,\n",
       "        82, 183,  57, 157,   6,  30, 108,  83, 133,  31,  58, 184, 158,\n",
       "         7,  32, 109,  59, 134, 185,  84, 159,  33,   8, 160,  34, 110,\n",
       "       161,  35,  36,  37,  93, 143,  68,  17, 144,  94, 119,  69,  18,\n",
       "       170, 145,  95, 120,  70,  19, 171,  96, 146, 121,  71,  20, 172,\n",
       "       147,  97, 122,  46,  72,  21, 173, 148,  98, 123,  47,  73,  22,\n",
       "       174,  99, 149, 124,  74,  48,  23, 175,  49, 150, 100, 125,  75,\n",
       "        24, 176, 101, 151,  50, 126,  76,  25, 177, 102, 152,  51],\n",
       "      dtype=int32)"
      ]
     },
     "execution_count": 28,
     "metadata": {},
     "output_type": "execute_result"
    }
   ],
   "source": [
    "df[\"hit_id\"].values"
   ]
  },
  {
   "cell_type": "code",
   "execution_count": 26,
   "id": "bd4e4014-1752-4627-8e5a-a693d645ca74",
   "metadata": {},
   "outputs": [
    {
     "data": {
      "text/plain": [
       "array([[ 52,  77, 127, 178,   1, 103,  53, 179, 128,  78, 153,   2,  26,\n",
       "        104,  79, 129, 180,  54, 154,   3,  27, 105, 155,  80, 181, 130,\n",
       "         55,   4,  28, 106,  81, 131, 182,  56, 156,   5,  29, 107, 132,\n",
       "         82, 183,  57, 157,   6,  30, 108,  83, 133,  31,  58, 184, 158,\n",
       "          7,  32, 109,  59, 134, 185,  84, 159,  33,   8, 160,  34, 110,\n",
       "        161,  35,  36,  37,  93, 143,  68,  17, 144,  94, 119,  69,  18,\n",
       "        170, 145,  95, 120,  70,  19, 171,  96, 146, 121,  71,  20, 172,\n",
       "        147,  97, 122,  46,  72,  21, 173, 148,  98, 123,  47,  73,  22,\n",
       "        174,  99, 149, 124,  74,  48,  23, 175,  49, 150, 100, 125,  75,\n",
       "         24, 176, 101, 151,  50, 126,  76,  25, 177, 102, 152,  51]],\n",
       "      dtype=int32)"
      ]
     },
     "execution_count": 26,
     "metadata": {},
     "output_type": "execute_result"
    }
   ],
   "source": [
    "df[\"hit_id\"].values[np.newaxis, :]"
   ]
  },
  {
   "cell_type": "markdown",
   "id": "93808ed7-86b6-4725-ad5f-62a91587ba74",
   "metadata": {},
   "source": [
    "### More Robust Method:"
   ]
  },
  {
   "cell_type": "code",
   "execution_count": 33,
   "id": "93f77a42-3d4b-4cd4-b09a-c9a5a49dbb65",
   "metadata": {},
   "outputs": [],
   "source": [
    "inputdir = \"../run_all/gnn_processed/pred\"\n",
    "outputdir = \"../run_all/seg_proc\""
   ]
  },
  {
   "cell_type": "code",
   "execution_count": 37,
   "id": "ab3afcaa-709d-489f-a402-04172aaef7d4",
   "metadata": {},
   "outputs": [
    {
     "data": {
      "text/plain": [
       "10000"
      ]
     },
     "execution_count": 37,
     "metadata": {},
     "output_type": "execute_result"
    }
   ],
   "source": [
    "all_files = glob.glob(os.path.join(inputdir, \"*\"))\n",
    "all_files = sorted(all_files)\n",
    "len(all_files)"
   ]
  },
  {
   "cell_type": "code",
   "execution_count": 36,
   "id": "27e19e22-2b3c-4c6a-a16f-6510d84fd450",
   "metadata": {},
   "outputs": [
    {
     "data": {
      "text/plain": [
       "['../run_all/gnn_processed/pred/110000',\n",
       " '../run_all/gnn_processed/pred/110001',\n",
       " '../run_all/gnn_processed/pred/110002',\n",
       " '../run_all/gnn_processed/pred/110003',\n",
       " '../run_all/gnn_processed/pred/110004',\n",
       " '../run_all/gnn_processed/pred/110005',\n",
       " '../run_all/gnn_processed/pred/110006',\n",
       " '../run_all/gnn_processed/pred/110007',\n",
       " '../run_all/gnn_processed/pred/110008',\n",
       " '../run_all/gnn_processed/pred/110009']"
      ]
     },
     "execution_count": 36,
     "metadata": {},
     "output_type": "execute_result"
    }
   ],
   "source": [
    "all_files[:10]"
   ]
  },
  {
   "cell_type": "code",
   "execution_count": 38,
   "id": "8f48abda-4d87-4672-8c9d-8b7ddd5853c8",
   "metadata": {},
   "outputs": [],
   "source": [
    "n_tot_files = len(all_files)\n",
    "max_evts = 5000\n",
    "max_evts = max_evts if 0 < max_evts <= n_tot_files else n_tot_files"
   ]
  },
  {
   "cell_type": "code",
   "execution_count": 39,
   "id": "02b73505-c359-4e40-8271-3e9b16da5a92",
   "metadata": {},
   "outputs": [
    {
     "name": "stdout",
     "output_type": "stream",
     "text": [
      "Out of 10000 events processing 5000 events.\n",
      "\n"
     ]
    }
   ],
   "source": [
    "print(\"Out of {} events processing {} events.\\n\".format(n_tot_files, max_evts))"
   ]
  },
  {
   "cell_type": "raw",
   "id": "bd4c6123-6e0c-4326-a982-4b12a7658afc",
   "metadata": {},
   "source": [
    "def process_entry(filename):\n",
    "    df = process(filename, **vars(args))\n",
    "    array = ak.zip({\n",
    "        'hit_id': df['hit_id'].values, \n",
    "        'track_id': df['track_id'].values\n",
    "    })\n",
    "    return array[np.newaxis, :]"
   ]
  },
  {
   "cell_type": "raw",
   "id": "ac804e3b-73e4-4005-956a-ddf1eda18ec0",
   "metadata": {},
   "source": [
    "path = os.path.join(outputdir, \"trackml.root\")\n",
    "with uproot.recreate(path) as root_file:\n",
    "    arrays = [\n",
    "        process_entry(filename) for filename in all_files[:max_evts]\n",
    "    ]\n",
    "    array = ak.concatenate(arrays, axis=0)\n",
    "    root_file[\"TrackML\"] = {\"ml\" : array}"
   ]
  },
  {
   "cell_type": "code",
   "execution_count": null,
   "id": "9976562f-d376-4df5-baf3-a7de4833dde1",
   "metadata": {},
   "outputs": [],
   "source": []
  }
 ],
 "metadata": {
  "kernelspec": {
   "display_name": "Python 3 (ipykernel)",
   "language": "python",
   "name": "python3"
  },
  "language_info": {
   "codemirror_mode": {
    "name": "ipython",
    "version": 3
   },
   "file_extension": ".py",
   "mimetype": "text/x-python",
   "name": "python",
   "nbconvert_exporter": "python",
   "pygments_lexer": "ipython3",
   "version": "3.8.13"
  }
 },
 "nbformat": 4,
 "nbformat_minor": 5
}
