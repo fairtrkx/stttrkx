{
 "cells": [
  {
   "cell_type": "code",
   "execution_count": null,
   "metadata": {},
   "outputs": [],
   "source": [
    "import sys, os, glob, yaml"
   ]
  },
  {
   "cell_type": "code",
   "execution_count": null,
   "metadata": {},
   "outputs": [],
   "source": [
    "import numpy as np\n",
    "import pandas as pd\n",
    "import matplotlib as mpl\n",
    "import matplotlib.pyplot as plt\n",
    "\n",
    "%matplotlib inline"
   ]
  },
  {
   "cell_type": "code",
   "execution_count": null,
   "metadata": {},
   "outputs": [],
   "source": [
    "import pprint\n",
    "import seaborn as sns\n",
    "import trackml.dataset"
   ]
  },
  {
   "cell_type": "code",
   "execution_count": null,
   "metadata": {},
   "outputs": [],
   "source": [
    "import torch\n",
    "from torch_geometric.data import Data\n",
    "import itertools"
   ]
  },
  {
   "cell_type": "code",
   "execution_count": null,
   "metadata": {},
   "outputs": [],
   "source": [
    "device = \"cuda\" if torch.cuda.is_available() else \"cpu\""
   ]
  },
  {
   "cell_type": "code",
   "execution_count": null,
   "metadata": {},
   "outputs": [],
   "source": [
    "sys.path.append(\"..\")"
   ]
  },
  {
   "cell_type": "code",
   "execution_count": null,
   "metadata": {},
   "outputs": [],
   "source": [
    "from src.drawing import detector_layout, draw_proc_event\n",
    "from src.utils_math import polar_to_cartesian"
   ]
  },
  {
   "cell_type": "markdown",
   "metadata": {
    "tags": []
   },
   "source": [
    "## _(A.) Visualize Test Data_\n",
    "\n",
    "Inspect easy to difficult to reconstruct tracks. Choose 10 such events and use `score_cut=0.25`"
   ]
  },
  {
   "cell_type": "code",
   "execution_count": null,
   "metadata": {},
   "outputs": [],
   "source": [
    "inputdir = \"../run_all/fwp_gnn_processed/pred\"\n",
    "proc_files = sorted(glob.glob(os.path.join(inputdir, \"*\")))"
   ]
  },
  {
   "cell_type": "code",
   "execution_count": null,
   "metadata": {},
   "outputs": [],
   "source": [
    "feature_data = torch.load(proc_files[0], map_location=device)"
   ]
  },
  {
   "cell_type": "code",
   "execution_count": null,
   "metadata": {},
   "outputs": [],
   "source": [
    "feature_data.event_file[-4:]"
   ]
  },
  {
   "cell_type": "code",
   "execution_count": null,
   "metadata": {},
   "outputs": [],
   "source": [
    "event_id = int(os.path.basename(feature_data.event_file)[-4:])"
   ]
  },
  {
   "cell_type": "code",
   "execution_count": null,
   "metadata": {},
   "outputs": [],
   "source": [
    "event_id"
   ]
  },
  {
   "cell_type": "raw",
   "metadata": {},
   "source": [
    "mpl.rcParams.update(mpl.rcParamsDefault)"
   ]
  },
  {
   "cell_type": "raw",
   "metadata": {},
   "source": [
    "# save test event for visual inspection\n",
    "for i in range(500):\n",
    "    feature_data = torch.load(proc_files[i], map_location=device)\n",
    "    draw_proc_event(feature_data, figsize=(8,8), save_fig=True);"
   ]
  },
  {
   "cell_type": "markdown",
   "metadata": {},
   "source": [
    "## _(B.) Inspection on Track Duplication_\n",
    "\n",
    "- lets plot two reconstructed events, one is `clean` and the other a little `complex`\n",
    "- see an event with duplicated tracks, find out why they are duplicated."
   ]
  },
  {
   "cell_type": "code",
   "execution_count": null,
   "metadata": {},
   "outputs": [],
   "source": [
    "# get list of true tracks (test dataset)\n",
    "inputdir = \"../run_all/fwp_gnn_processed/pred\"\n",
    "true_trkx = sorted(glob.glob(os.path.join(inputdir, \"*\")))"
   ]
  },
  {
   "cell_type": "code",
   "execution_count": null,
   "metadata": {},
   "outputs": [],
   "source": [
    "# get list of reco tracks (test dataset)\n",
    "inputdir = \"../run_all/fwp_gnn_segmenting/seg\"\n",
    "reco_trkx = sorted(glob.glob(os.path.join(inputdir, \"*\")))"
   ]
  },
  {
   "cell_type": "markdown",
   "metadata": {
    "tags": []
   },
   "source": [
    "### _(1.) - Plot True Event (Clean)_"
   ]
  },
  {
   "cell_type": "code",
   "execution_count": null,
   "metadata": {},
   "outputs": [],
   "source": [
    "# The Good Event\n",
    "event_idx = 15"
   ]
  },
  {
   "cell_type": "code",
   "execution_count": null,
   "metadata": {},
   "outputs": [],
   "source": [
    "# true events\n",
    "true_event = torch.load(true_trkx[event_idx], map_location=device)"
   ]
  },
  {
   "cell_type": "code",
   "execution_count": null,
   "metadata": {},
   "outputs": [],
   "source": [
    "true_event.event_file[-4:]"
   ]
  },
  {
   "cell_type": "code",
   "execution_count": null,
   "metadata": {},
   "outputs": [],
   "source": [
    "np.unique(true_event.pid)"
   ]
  },
  {
   "cell_type": "code",
   "execution_count": null,
   "metadata": {},
   "outputs": [],
   "source": [
    "# hit features\n",
    "r, phi, ir = true_event.x.T"
   ]
  },
  {
   "cell_type": "code",
   "execution_count": null,
   "metadata": {},
   "outputs": [],
   "source": [
    "# spatial coordinate transform\n",
    "x, y = polar_to_cartesian(r.detach().numpy(), phi.detach().numpy())"
   ]
  },
  {
   "cell_type": "code",
   "execution_count": null,
   "metadata": {},
   "outputs": [],
   "source": [
    "# compensate scaling\n",
    "ir = ir.detach().numpy() * 100"
   ]
  },
  {
   "cell_type": "code",
   "execution_count": null,
   "metadata": {},
   "outputs": [],
   "source": [
    "# plot true event\n",
    "fig, ax = detector_layout(figsize=(10, 10))\n",
    "e_id = int(true_event.event_file[-4:])\n",
    "p_ids = np.unique(true_event.pid)\n",
    "\n",
    "for pid in p_ids:\n",
    "    idx = true_event.pid == pid\n",
    "    ax.plot(x[idx], y[idx], \"-\", linewidth=1.5)\n",
    "    ax.scatter(\n",
    "        x[idx], y[idx], s=(ir[idx] * 50), label=\"particle_id: {}\".format(int(pid))\n",
    "    )\n",
    "\n",
    "ax.set_title(\"Azimuthal View of STT, EventID # {}\".format(e_id))\n",
    "ax.legend(fontsize=10, loc=\"best\")\n",
    "fig.tight_layout()\n",
    "fig.savefig(\"clean_true.png\")"
   ]
  },
  {
   "cell_type": "markdown",
   "metadata": {
    "tags": []
   },
   "source": [
    "### _(2.) - Plot Reco Event (Clean)_"
   ]
  },
  {
   "cell_type": "code",
   "execution_count": null,
   "metadata": {},
   "outputs": [],
   "source": [
    "# lets plot reconstructed true event, i.e. event = 96\n",
    "reco_event = torch.load(reco_trkx[event_idx], map_location=device)"
   ]
  },
  {
   "cell_type": "code",
   "execution_count": null,
   "metadata": {},
   "outputs": [],
   "source": [
    "reco_event.head()"
   ]
  },
  {
   "cell_type": "markdown",
   "metadata": {},
   "source": [
    "Now, we've only the `hit_id` and `track_id`, what are corresponding spatial coordinates (x,y coordinates)? How about using `hit_id` to filter features from the true event?\n",
    "\n",
    "Note, the `hit_id`, `track_id` in reco data are equiv. to `hid`, `pid` in true data."
   ]
  },
  {
   "cell_type": "code",
   "execution_count": null,
   "metadata": {},
   "outputs": [],
   "source": [
    "# plot reco event, here, (x,y,ir) comes from ture event. but idx is from reco event\n",
    "fig, ax = detector_layout(figsize=(10, 10))\n",
    "e_id = e_id\n",
    "t_ids = np.unique(reco_event.track_id)\n",
    "for tid in t_ids:\n",
    "    idx = reco_event.track_id == tid\n",
    "    ax.plot(x[idx], y[idx], \"-\", linewidth=1.5)\n",
    "    ax.scatter(x[idx], y[idx], s=(ir[idx] * 50), label=\"particle_id: {}\".format(tid))\n",
    "\n",
    "ax.set_title(\"Azimuthal View of STT, EventID # {}\".format(e_id))\n",
    "ax.legend(fontsize=10, loc=\"best\")\n",
    "fig.tight_layout()\n",
    "fig.savefig(\"clean_reco.png\")"
   ]
  },
  {
   "cell_type": "code",
   "execution_count": null,
   "metadata": {},
   "outputs": [],
   "source": [
    "inputdir = \"../run_all/fwp_gnn_segmenting/eval\""
   ]
  },
  {
   "cell_type": "code",
   "execution_count": null,
   "metadata": {},
   "outputs": [],
   "source": [
    "evtid = int(os.path.split(reco_trkx[event_idx])[1])"
   ]
  },
  {
   "cell_type": "code",
   "execution_count": null,
   "metadata": {},
   "outputs": [],
   "source": [
    "print(\"evtid: {}\".format(evtid))"
   ]
  },
  {
   "cell_type": "code",
   "execution_count": null,
   "metadata": {},
   "outputs": [],
   "source": [
    "!./eval_reco_evt.sh $e_id"
   ]
  },
  {
   "cell_type": "code",
   "execution_count": null,
   "metadata": {},
   "outputs": [],
   "source": [
    "# path to HDF5 Store\n",
    "hdf5_path = inputdir + \"/{}_particles.h5\".format(e_id)\n",
    "print(hdf5_path)"
   ]
  },
  {
   "cell_type": "code",
   "execution_count": null,
   "metadata": {},
   "outputs": [],
   "source": [
    "df = pd.read_hdf(hdf5_path)\n",
    "print(\"Length of Data: {}\".format(len(df)))"
   ]
  },
  {
   "cell_type": "code",
   "execution_count": null,
   "metadata": {},
   "outputs": [],
   "source": [
    "df.head()"
   ]
  },
  {
   "cell_type": "code",
   "execution_count": null,
   "metadata": {},
   "outputs": [],
   "source": [
    "# Read the Summary of Evaluation\n",
    "sum_path = inputdir + \"/{}_summary.txt\".format(e_id)\n",
    "print(sum_path)"
   ]
  },
  {
   "cell_type": "code",
   "execution_count": null,
   "metadata": {},
   "outputs": [],
   "source": [
    "with open(sum_path) as f:\n",
    "    contents = f.read()\n",
    "    print(contents)"
   ]
  },
  {
   "cell_type": "markdown",
   "metadata": {
    "tags": []
   },
   "source": [
    "### _(3.) - Plot True Event (Complex)_"
   ]
  },
  {
   "cell_type": "code",
   "execution_count": null,
   "metadata": {},
   "outputs": [],
   "source": [
    "# The Good Event\n",
    "event_idx = 51"
   ]
  },
  {
   "cell_type": "code",
   "execution_count": null,
   "metadata": {},
   "outputs": [],
   "source": [
    "# true events\n",
    "true_event = torch.load(true_trkx[event_idx], map_location=device)"
   ]
  },
  {
   "cell_type": "code",
   "execution_count": null,
   "metadata": {},
   "outputs": [],
   "source": [
    "true_event.event_file[-4:]"
   ]
  },
  {
   "cell_type": "code",
   "execution_count": null,
   "metadata": {},
   "outputs": [],
   "source": [
    "np.unique(true_event.pid)"
   ]
  },
  {
   "cell_type": "code",
   "execution_count": null,
   "metadata": {},
   "outputs": [],
   "source": [
    "# hit features\n",
    "r, phi, ir = true_event.x.T"
   ]
  },
  {
   "cell_type": "code",
   "execution_count": null,
   "metadata": {},
   "outputs": [],
   "source": [
    "# spatial coordinate transform\n",
    "x, y = polar_to_cartesian(r.detach().numpy(), phi.detach().numpy())"
   ]
  },
  {
   "cell_type": "code",
   "execution_count": null,
   "metadata": {},
   "outputs": [],
   "source": [
    "# compensate scaling\n",
    "ir = ir.detach().numpy() * 100"
   ]
  },
  {
   "cell_type": "code",
   "execution_count": null,
   "metadata": {},
   "outputs": [],
   "source": [
    "# plot true event\n",
    "fig, ax = detector_layout(figsize=(10, 10))\n",
    "e_id = int(true_event.event_file[-4:])\n",
    "p_ids = np.unique(true_event.pid)\n",
    "\n",
    "for pid in p_ids:\n",
    "    idx = true_event.pid == pid\n",
    "    ax.plot(x[idx], y[idx], \"-\", linewidth=1.5)\n",
    "    ax.scatter(\n",
    "        x[idx], y[idx], s=(ir[idx] * 50), label=\"particle_id: {}\".format(int(pid))\n",
    "    )\n",
    "\n",
    "ax.set_title(\"Azimuthal View of STT, EventID # {}\".format(e_id))\n",
    "ax.legend(fontsize=10, loc=\"best\")\n",
    "fig.tight_layout()\n",
    "# fig.savefig(\"{}_complex_true.png\".format(e_id))"
   ]
  },
  {
   "cell_type": "markdown",
   "metadata": {
    "tags": []
   },
   "source": [
    "### _(4.) - Plot Reco Event (Complex)_"
   ]
  },
  {
   "cell_type": "code",
   "execution_count": null,
   "metadata": {},
   "outputs": [],
   "source": [
    "# lets plot reconstructed true event, i.e. event = 96\n",
    "reco_event = torch.load(reco_trkx[event_idx], map_location=device)"
   ]
  },
  {
   "cell_type": "code",
   "execution_count": null,
   "metadata": {},
   "outputs": [],
   "source": [
    "reco_event.head()"
   ]
  },
  {
   "cell_type": "markdown",
   "metadata": {},
   "source": [
    "Now, we've only the `hit_id` and `track_id`, what are corresponding spatial coordinates (x,y coordinates)? How about using `hit_id` to filter features from the true event?\n",
    "\n",
    "Note, the `hit_id`, `track_id` in reco data are equiv. to `hid`, `pid` in true data."
   ]
  },
  {
   "cell_type": "code",
   "execution_count": null,
   "metadata": {},
   "outputs": [],
   "source": [
    "# plot reco event, here, (x,y,ir) comes from ture event. but idx is from reco event\n",
    "fig, ax = detector_layout(figsize=(10, 10))\n",
    "e_id = e_id\n",
    "t_ids = np.unique(reco_event.track_id)\n",
    "for tid in t_ids:\n",
    "    idx = reco_event.track_id == tid\n",
    "    ax.plot(x[idx], y[idx], \"-\", linewidth=1.5)\n",
    "    ax.scatter(x[idx], y[idx], s=(ir[idx] * 50), label=\"particle_id: {}\".format(tid))\n",
    "\n",
    "ax.set_title(\"Azimuthal View of STT, EventID # {}\".format(e_id))\n",
    "ax.legend(fontsize=10, loc=\"best\")\n",
    "fig.tight_layout()\n",
    "# fig.savefig(\"{}_complex_reco.png\".format(e_id))"
   ]
  },
  {
   "cell_type": "code",
   "execution_count": null,
   "metadata": {},
   "outputs": [],
   "source": [
    "!./eval_reco_evt.sh $e_id"
   ]
  },
  {
   "cell_type": "code",
   "execution_count": null,
   "metadata": {},
   "outputs": [],
   "source": [
    "# Read the Summary of Evaluation\n",
    "sum_path = inputdir + \"/{}_summary.txt\".format(e_id)\n",
    "print(sum_path)"
   ]
  },
  {
   "cell_type": "code",
   "execution_count": null,
   "metadata": {},
   "outputs": [],
   "source": [
    "with open(sum_path) as f:\n",
    "    contents = f.read()\n",
    "    print(contents)"
   ]
  },
  {
   "cell_type": "markdown",
   "metadata": {},
   "source": [
    "## _Unassigned Hits_\n",
    "\n",
    "What is _`track_id=-1`_ contains?\n",
    "\n",
    "The _hits_ not assigned to any track are collected under `track_id=-1`."
   ]
  },
  {
   "cell_type": "code",
   "execution_count": null,
   "metadata": {},
   "outputs": [],
   "source": [
    "dup_hids = reco_event.query(\"track_id==-1\")[\"hit_id\"]"
   ]
  },
  {
   "cell_type": "code",
   "execution_count": null,
   "metadata": {},
   "outputs": [],
   "source": [
    "dup_hids.values"
   ]
  },
  {
   "cell_type": "raw",
   "metadata": {},
   "source": [
    "# lets plot the duplicated hits\n",
    "fig, ax = detector_layout(figsize=(10,10))\n",
    "e_id = e_id\n",
    "\n",
    "tid = -1\n",
    "idx = reco_event.track_id == tid\n",
    "ax.plot(x[idx], y[idx], '-', linewidth=0.5)\n",
    "ax.scatter(x[idx], y[idx], s=(ir[idx]*50), label='particle_id: {}'.format(tid))\n",
    "    \n",
    "ax.set_title('Azimuthal View of STT, EventID # {}'.format(e_id))\n",
    "ax.legend(fontsize=10, loc='best')\n",
    "fig.tight_layout()"
   ]
  },
  {
   "cell_type": "code",
   "execution_count": null,
   "metadata": {},
   "outputs": [],
   "source": []
  }
 ],
 "metadata": {
  "kernelspec": {
   "display_name": "Python 3 (ipykernel)",
   "language": "python",
   "name": "python3"
  },
  "language_info": {
   "codemirror_mode": {
    "name": "ipython",
    "version": 3
   },
   "file_extension": ".py",
   "mimetype": "text/x-python",
   "name": "python",
   "nbconvert_exporter": "python",
   "pygments_lexer": "ipython3",
   "version": "3.8.12"
  }
 },
 "nbformat": 4,
 "nbformat_minor": 4
}
