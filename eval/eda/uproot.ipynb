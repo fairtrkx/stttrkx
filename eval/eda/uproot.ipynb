{
 "cells": [
  {
   "cell_type": "markdown",
   "id": "0e9f86fe-4d9c-40fb-bee8-1ee2807600e8",
   "metadata": {},
   "source": [
    "## Verify UpROOT"
   ]
  },
  {
   "cell_type": "code",
   "execution_count": 1,
   "id": "0927afff-b907-45a5-8538-9c0659341df7",
   "metadata": {},
   "outputs": [],
   "source": [
    "import sys, os, glob, yaml"
   ]
  },
  {
   "cell_type": "code",
   "execution_count": 2,
   "id": "28a82101-8d76-4122-b3c3-2964f75a4e78",
   "metadata": {},
   "outputs": [],
   "source": [
    "import numpy as np\n",
    "import pandas as pd"
   ]
  },
  {
   "cell_type": "code",
   "execution_count": 3,
   "id": "4593d6d6-da00-423e-adb2-eee42578b22b",
   "metadata": {},
   "outputs": [],
   "source": [
    "import torch\n",
    "from torch_geometric.data import Data\n",
    "import itertools"
   ]
  },
  {
   "cell_type": "code",
   "execution_count": 4,
   "id": "4d3970f6-8fa3-4454-8e28-587c0d2d39a9",
   "metadata": {},
   "outputs": [],
   "source": [
    "import uproot"
   ]
  },
  {
   "cell_type": "code",
   "execution_count": 5,
   "id": "bd959bb2-f097-4a19-a4cb-77be47b5340a",
   "metadata": {},
   "outputs": [],
   "source": [
    "device = \"cuda\" if torch.cuda.is_available() else \"cpu\""
   ]
  },
  {
   "cell_type": "markdown",
   "id": "f7232680-1a17-4251-84e4-0e3f74468321",
   "metadata": {},
   "source": [
    "### Load Files"
   ]
  },
  {
   "cell_type": "code",
   "execution_count": 6,
   "id": "9667836b-d090-49e2-830f-f4732cda72ed",
   "metadata": {},
   "outputs": [],
   "source": [
    "filename = \"../run_all/seg_proc/trackml.root\""
   ]
  },
  {
   "cell_type": "code",
   "execution_count": 7,
   "id": "bc42a4c7-658c-4fbf-a3aa-f685d1ef9686",
   "metadata": {},
   "outputs": [],
   "source": [
    "events = uproot.open(filename)"
   ]
  },
  {
   "cell_type": "code",
   "execution_count": 8,
   "id": "d708646b-df16-4d4f-8c56-c391096fa25d",
   "metadata": {},
   "outputs": [
    {
     "name": "stdout",
     "output_type": "stream",
     "text": [
      "name                 | typename                 | interpretation                \n",
      "---------------------+--------------------------+-------------------------------\n",
      "index                | int64_t                  | AsDtype('>i8')\n",
      "hit_id               | int32_t                  | AsDtype('>i4')\n",
      "track_id             | int64_t                  | AsDtype('>i8')\n"
     ]
    }
   ],
   "source": [
    "events[\"pndsim\"].show()"
   ]
  },
  {
   "cell_type": "code",
   "execution_count": 9,
   "id": "ee21426a-7c0c-4cca-942d-833e93443827",
   "metadata": {},
   "outputs": [
    {
     "data": {
      "text/plain": [
       "['pndsim;1']"
      ]
     },
     "execution_count": 9,
     "metadata": {},
     "output_type": "execute_result"
    }
   ],
   "source": [
    "events.keys()"
   ]
  },
  {
   "cell_type": "code",
   "execution_count": 10,
   "id": "a6c08fc1-2528-4c64-a151-316a35ee1c80",
   "metadata": {},
   "outputs": [
    {
     "data": {
      "text/plain": [
       "[<TTree 'pndsim' (3 branches) at 0x7f754aba8a60>]"
      ]
     },
     "execution_count": 10,
     "metadata": {},
     "output_type": "execute_result"
    }
   ],
   "source": [
    "events.values()"
   ]
  },
  {
   "cell_type": "code",
   "execution_count": 12,
   "id": "4364a0c8-6bbf-4cce-8b0d-f0fe75c54862",
   "metadata": {},
   "outputs": [
    {
     "data": {
      "text/plain": [
       "{'pndsim;1': 'TTree'}"
      ]
     },
     "execution_count": 12,
     "metadata": {},
     "output_type": "execute_result"
    }
   ],
   "source": [
    "events.classnames()"
   ]
  },
  {
   "cell_type": "code",
   "execution_count": 13,
   "id": "0ee37fc3-6aa9-4578-abe6-88f092d7d9d7",
   "metadata": {},
   "outputs": [],
   "source": [
    "hit_id = events[\"pndsim\"][\"hit_id\"].array(library=\"pd\")"
   ]
  },
  {
   "cell_type": "code",
   "execution_count": 14,
   "id": "cd14dba0-3094-48a4-b7bc-6df1dbffa06d",
   "metadata": {},
   "outputs": [
    {
     "data": {
      "text/plain": [
       "pandas.core.series.Series"
      ]
     },
     "execution_count": 14,
     "metadata": {},
     "output_type": "execute_result"
    }
   ],
   "source": [
    "type(hit_id)"
   ]
  },
  {
   "cell_type": "code",
   "execution_count": 15,
   "id": "1544c1f7-258c-41c4-977d-1e9fe1c5805d",
   "metadata": {},
   "outputs": [
    {
     "data": {
      "text/plain": [
       "684413"
      ]
     },
     "execution_count": 15,
     "metadata": {},
     "output_type": "execute_result"
    }
   ],
   "source": [
    "hit_id.size"
   ]
  },
  {
   "cell_type": "code",
   "execution_count": 16,
   "id": "33c8e2f2-99d4-4fde-b24f-62690a39a64b",
   "metadata": {},
   "outputs": [],
   "source": [
    "hit_id = events[\"pndsim\"][\"hit_id\"].array(library=\"np\")"
   ]
  },
  {
   "cell_type": "code",
   "execution_count": 17,
   "id": "5d53ce5d-d8d8-4b46-ba87-99d3b55cb6cb",
   "metadata": {},
   "outputs": [
    {
     "data": {
      "text/plain": [
       "numpy.ndarray"
      ]
     },
     "execution_count": 17,
     "metadata": {},
     "output_type": "execute_result"
    }
   ],
   "source": [
    "type(hit_id)"
   ]
  },
  {
   "cell_type": "code",
   "execution_count": 20,
   "id": "43745319-e661-4d7d-abe0-8c8baaa265d2",
   "metadata": {},
   "outputs": [
    {
     "data": {
      "text/plain": [
       "684413"
      ]
     },
     "execution_count": 20,
     "metadata": {},
     "output_type": "execute_result"
    }
   ],
   "source": [
    "hit_id.shape[0]"
   ]
  },
  {
   "cell_type": "code",
   "execution_count": null,
   "id": "879a492b-c54c-4f42-a71e-6c83aef0bc76",
   "metadata": {},
   "outputs": [],
   "source": []
  }
 ],
 "metadata": {
  "kernelspec": {
   "display_name": "Python 3 (ipykernel)",
   "language": "python",
   "name": "python3"
  },
  "language_info": {
   "codemirror_mode": {
    "name": "ipython",
    "version": 3
   },
   "file_extension": ".py",
   "mimetype": "text/x-python",
   "name": "python",
   "nbconvert_exporter": "python",
   "pygments_lexer": "ipython3",
   "version": "3.8.13"
  }
 },
 "nbformat": 4,
 "nbformat_minor": 5
}
