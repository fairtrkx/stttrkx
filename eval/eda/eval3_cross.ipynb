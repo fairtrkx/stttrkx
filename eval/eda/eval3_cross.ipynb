{
 "cells": [
  {
   "cell_type": "code",
   "execution_count": null,
   "metadata": {},
   "outputs": [],
   "source": [
    "import sys, os, glob, yaml"
   ]
  },
  {
   "cell_type": "code",
   "execution_count": null,
   "metadata": {},
   "outputs": [],
   "source": [
    "import numpy as np\n",
    "import pandas as pd\n",
    "import matplotlib as mpl\n",
    "import matplotlib.pyplot as plt\n",
    "\n",
    "%matplotlib inline"
   ]
  },
  {
   "cell_type": "code",
   "execution_count": null,
   "metadata": {},
   "outputs": [],
   "source": [
    "import pprint\n",
    "from tqdm import tqdm\n",
    "import trackml.dataset"
   ]
  },
  {
   "cell_type": "code",
   "execution_count": null,
   "metadata": {},
   "outputs": [],
   "source": [
    "import torch\n",
    "import pytorch_lightning as pl\n",
    "from torch_geometric.data import Data\n",
    "from torch_geometric.loader import DataLoader\n",
    "import itertools"
   ]
  },
  {
   "cell_type": "code",
   "execution_count": null,
   "metadata": {},
   "outputs": [],
   "source": [
    "device = \"cuda\" if torch.cuda.is_available() else \"cpu\""
   ]
  },
  {
   "cell_type": "code",
   "execution_count": null,
   "metadata": {},
   "outputs": [],
   "source": [
    "sys.path.append(\"..\")\n",
    "from src.drawing import detector_layout, draw_proc_event\n",
    "from src.utils_math import polar_to_cartesian"
   ]
  },
  {
   "cell_type": "markdown",
   "metadata": {},
   "source": [
    "### Testing Colors"
   ]
  },
  {
   "cell_type": "code",
   "execution_count": null,
   "metadata": {},
   "outputs": [],
   "source": [
    "from matplotlib import cm"
   ]
  },
  {
   "cell_type": "code",
   "execution_count": null,
   "metadata": {},
   "outputs": [],
   "source": [
    "cmap = cm.get_cmap(\"gnuplot\")"
   ]
  },
  {
   "cell_type": "code",
   "execution_count": null,
   "metadata": {},
   "outputs": [],
   "source": [
    "cmap"
   ]
  },
  {
   "cell_type": "code",
   "execution_count": null,
   "metadata": {},
   "outputs": [],
   "source": [
    "cmap.N"
   ]
  },
  {
   "cell_type": "code",
   "execution_count": null,
   "metadata": {},
   "outputs": [],
   "source": [
    "cmap.name"
   ]
  },
  {
   "cell_type": "code",
   "execution_count": null,
   "metadata": {},
   "outputs": [],
   "source": [
    "NUM_COLORS = 15\n",
    "color_list = [cmap(i) for i in np.linspace(0, 1, NUM_COLORS)]"
   ]
  },
  {
   "cell_type": "code",
   "execution_count": null,
   "metadata": {},
   "outputs": [],
   "source": [
    "fig, ax = plt.subplots(nrows=1, ncols=1, figsize=(8, 8))\n",
    "plt.gca().set_prop_cycle(\"color\", color_list)\n",
    "for i in range(NUM_COLORS):\n",
    "    ax.plot(np.arange(10) * (i + 1))"
   ]
  },
  {
   "cell_type": "code",
   "execution_count": null,
   "metadata": {},
   "outputs": [],
   "source": [
    "fig, ax = plt.subplots(nrows=1, ncols=1, figsize=(8, 8))\n",
    "for i in range(NUM_COLORS):\n",
    "    ax.plot(np.arange(10) * (i + 1), color=color_list[i])"
   ]
  },
  {
   "cell_type": "markdown",
   "metadata": {
    "tags": []
   },
   "source": [
    "## _(A.) Adjust the Epsilon_\n",
    "\n",
    "Lets lowere the `epsilon_cut=0.25`."
   ]
  },
  {
   "cell_type": "code",
   "execution_count": null,
   "metadata": {},
   "outputs": [],
   "source": [
    "# The Good Event\n",
    "e_id = 5015\n",
    "event_idx = 5015 % 500"
   ]
  },
  {
   "cell_type": "code",
   "execution_count": null,
   "metadata": {},
   "outputs": [],
   "source": [
    "# trkx_from_gnn.sh <epsilon_cut> <max_events>\n",
    "# !./eval_one_evt.sh $e_id 0.20 100"
   ]
  },
  {
   "cell_type": "markdown",
   "metadata": {},
   "source": [
    "## _(B.) Inspection on Track Crossing_\n",
    "\n",
    "- lets plot two reconstructed events, one is `clean` and the other a little `complex`\n",
    "- see an event with duplicated tracks, find out why they are duplicated."
   ]
  },
  {
   "cell_type": "code",
   "execution_count": null,
   "metadata": {},
   "outputs": [],
   "source": [
    "with open(\"run/trkx_reco_eval/{}_summary.txt\".format(e_id)) as f:\n",
    "    contents = f.read()\n",
    "    print(contents)"
   ]
  },
  {
   "cell_type": "code",
   "execution_count": null,
   "metadata": {},
   "outputs": [],
   "source": [
    "# true tracks (test dataset)\n",
    "inputdir = \"run/gnn_evaluation/test\"\n",
    "true_trkx = sorted(glob.glob(os.path.join(inputdir, \"*\")))"
   ]
  },
  {
   "cell_type": "code",
   "execution_count": null,
   "metadata": {},
   "outputs": [],
   "source": [
    "# reco tracks (track candidates)\n",
    "inputdir = \"run/trkx_from_gnn\"\n",
    "reco_trkx = sorted(glob.glob(os.path.join(inputdir, \"*\")))"
   ]
  },
  {
   "cell_type": "markdown",
   "metadata": {
    "tags": []
   },
   "source": [
    "### _(1.) - Plot True Event_"
   ]
  },
  {
   "cell_type": "code",
   "execution_count": null,
   "metadata": {},
   "outputs": [],
   "source": [
    "# true events\n",
    "true_event = torch.load(true_trkx[event_idx], map_location=device)\n",
    "\n",
    "# hit features\n",
    "r, phi, ir = true_event.x.T\n",
    "\n",
    "# spatial coordinate transform\n",
    "x, y = polar_to_cartesian(r.detach().numpy(), phi.detach().numpy())\n",
    "\n",
    "# compensate scaling\n",
    "ir = ir.detach().numpy() * 100"
   ]
  },
  {
   "cell_type": "code",
   "execution_count": null,
   "metadata": {},
   "outputs": [],
   "source": [
    "# plot true event\n",
    "fig, ax = detector_layout(figsize=(10, 10))\n",
    "\n",
    "e_id = int(true_event.event_file[-4:])\n",
    "p_ids = np.unique(true_event.pid)\n",
    "\n",
    "for pid in p_ids:\n",
    "    idx = true_event.pid == pid\n",
    "    ax.plot(x[idx], y[idx], \"-\", linewidth=1.5)\n",
    "    ax.scatter(\n",
    "        x[idx], y[idx], s=(ir[idx] * 50), label=\"particle_id: {}\".format(int(pid))\n",
    "    )\n",
    "\n",
    "ax.set_title(\"Azimuthal View of STT, EventID # {}\".format(e_id))\n",
    "ax.legend(fontsize=10, loc=\"best\")\n",
    "fig.tight_layout()\n",
    "# fig.savefig(\"{}_complex_true.png\".format(e_id))"
   ]
  },
  {
   "cell_type": "markdown",
   "metadata": {
    "tags": []
   },
   "source": [
    "### _(2.) - Plot Reco Event_"
   ]
  },
  {
   "cell_type": "code",
   "execution_count": null,
   "metadata": {},
   "outputs": [],
   "source": [
    "# lets plot reconstructed true event, i.e. event = 96\n",
    "reco_event = torch.load(reco_trkx[event_idx], map_location=device)"
   ]
  },
  {
   "cell_type": "code",
   "execution_count": null,
   "metadata": {},
   "outputs": [],
   "source": [
    "# plot reco event, here, (x,y,ir) comes from ture event. but idx is from reco event\n",
    "fig, ax = detector_layout(figsize=(10, 10))\n",
    "\n",
    "e_id = e_id\n",
    "t_ids = np.unique(reco_event.track_id)\n",
    "for tid in t_ids:\n",
    "    idx = reco_event.track_id == tid\n",
    "    ax.plot(x[idx], y[idx], \"-\", linewidth=1.5)\n",
    "    ax.scatter(\n",
    "        x[idx], y[idx], s=(ir[idx] * 50), label=\"particle_id: {}\".format(tid + 1)\n",
    "    )\n",
    "\n",
    "ax.set_title(\"Azimuthal View of STT, EventID # {}\".format(e_id))\n",
    "ax.legend(fontsize=10, loc=\"best\")\n",
    "fig.tight_layout()\n",
    "# fig.savefig(\"{}_complex_reco.png\".format(e_id))"
   ]
  },
  {
   "cell_type": "raw",
   "metadata": {},
   "source": [
    "!./eval_reco_evt.sh $e_id"
   ]
  },
  {
   "cell_type": "raw",
   "metadata": {},
   "source": [
    "with open(\"run/trkx_reco_eval/{}_summary.txt\".format(e_id)) as f:\n",
    "    contents = f.read()\n",
    "    print(contents)"
   ]
  },
  {
   "cell_type": "code",
   "execution_count": null,
   "metadata": {},
   "outputs": [],
   "source": [
    "dup_hids = reco_event.query(\"track_id==-1\")[\"hit_id\"]"
   ]
  },
  {
   "cell_type": "code",
   "execution_count": null,
   "metadata": {},
   "outputs": [],
   "source": [
    "dup_hids.values"
   ]
  },
  {
   "cell_type": "code",
   "execution_count": null,
   "metadata": {},
   "outputs": [],
   "source": [
    "# lets plot the duplicated hits\n",
    "fig, ax = detector_layout(figsize=(10, 10))\n",
    "e_id = e_id\n",
    "\n",
    "tid = -1\n",
    "idx = reco_event.track_id == tid\n",
    "ax.plot(x[idx], y[idx], \"-\", linewidth=0.5)\n",
    "ax.scatter(x[idx], y[idx], s=(ir[idx] * 50), label=\"particle_id: {}\".format(tid))\n",
    "\n",
    "ax.set_title(\"Azimuthal View of STT, EventID # {}\".format(e_id))\n",
    "ax.legend(fontsize=10, loc=\"best\")\n",
    "fig.tight_layout()"
   ]
  },
  {
   "cell_type": "code",
   "execution_count": null,
   "metadata": {},
   "outputs": [],
   "source": []
  }
 ],
 "metadata": {
  "kernelspec": {
   "display_name": "Python 3 (ipykernel)",
   "language": "python",
   "name": "python3"
  },
  "language_info": {
   "codemirror_mode": {
    "name": "ipython",
    "version": 3
   },
   "file_extension": ".py",
   "mimetype": "text/x-python",
   "name": "python",
   "nbconvert_exporter": "python",
   "pygments_lexer": "ipython3",
   "version": "3.8.12"
  }
 },
 "nbformat": 4,
 "nbformat_minor": 4
}
