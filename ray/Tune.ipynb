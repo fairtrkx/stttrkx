{
 "cells": [
  {
   "cell_type": "markdown",
   "id": "4bc90076-8e8b-4d59-b69d-1e56fe9612f9",
   "metadata": {},
   "source": [
    "### Post Analysis of RayTune Results\n",
    "\n",
    "Run RayTune using the script `Tune.py`. Perform **Post Analysis** here. \n",
    "\n",
    "\n",
    "See more details on [Analyzing Tune Experiment Results](https://docs.ray.io/en/latest/tune/examples/tune_analyze_results.html)"
   ]
  },
  {
   "cell_type": "code",
   "execution_count": 2,
   "id": "95cada79-da2f-45dc-8fbc-e21ed3134ada",
   "metadata": {},
   "outputs": [],
   "source": [
    "from ray import tune, air\n",
    "from ray.tune import ResultGrid"
   ]
  },
  {
   "cell_type": "code",
   "execution_count": 5,
   "id": "8f22ec24-357f-415c-b04e-07cbb0a1a36b",
   "metadata": {},
   "outputs": [],
   "source": [
    "local_dir = \"/shared/adeel/data_sets/ctd2022/run_10k/ray_tune\"\n",
    "exp_name = \"TuneResult\""
   ]
  },
  {
   "cell_type": "code",
   "execution_count": 6,
   "id": "dd2fba5e-8c62-4ab7-81db-d0fff3e5fc7b",
   "metadata": {},
   "outputs": [
    {
     "name": "stdout",
     "output_type": "stream",
     "text": [
      "Loading results from /shared/adeel/data_sets/ctd2022/run_10k/ray_tune/TuneResult...\n"
     ]
    }
   ],
   "source": [
    "experiment_path = f\"{local_dir}/{exp_name}\"\n",
    "print(f\"Loading results from {experiment_path}...\")\n",
    "\n",
    "restored_tuner = tune.Tuner.restore(experiment_path)\n",
    "result_grid = restored_tuner.get_results()"
   ]
  },
  {
   "cell_type": "code",
   "execution_count": 7,
   "id": "de43dbc1-8f70-4e90-aa18-183c8dc3c2df",
   "metadata": {},
   "outputs": [
    {
     "name": "stdout",
     "output_type": "stream",
     "text": [
      "One of the trials failed!\n"
     ]
    }
   ],
   "source": [
    "# Check if there have been errors\n",
    "if result_grid.errors:\n",
    "    print(\"One of the trials failed!\")\n",
    "else:\n",
    "    print(\"No errors!\")"
   ]
  },
  {
   "cell_type": "code",
   "execution_count": 8,
   "id": "1851d808-b5d1-44eb-b707-28d3a5406f37",
   "metadata": {},
   "outputs": [
    {
     "name": "stdout",
     "output_type": "stream",
     "text": [
      "Number of results: 5\n"
     ]
    }
   ],
   "source": [
    "num_results = len(result_grid)\n",
    "print(\"Number of results:\", num_results)"
   ]
  },
  {
   "cell_type": "code",
   "execution_count": 9,
   "id": "d759383c-0893-4188-a0ce-bca61df20c49",
   "metadata": {},
   "outputs": [
    {
     "name": "stdout",
     "output_type": "stream",
     "text": [
      "Trial #0 finished successfully with a mean accuracy metric of: 0.9641472697257996\n",
      "Trial #1 finished successfully with a mean accuracy metric of: 0.9640283584594727\n",
      "Trial #2 had an error: Failure # 1 (occurred at 2023-01-22_20-21-50)\n",
      "Traceback (most recent call last):\n",
      "  File \"/shared/adeel/anaconda3/envs/exatrkx-cpu/lib/python3.8/site-packages/ray/tune/execution/ray_trial_executor.py\", line 1070, in get_next_executor_event\n",
      "    future_result = ray.get(ready_future)\n",
      "  File \"/shared/adeel/anaconda3/envs/exatrkx-cpu/lib/python3.8/site-packages/ray/_private/client_mode_hook.py\", line 105, in wrapper\n",
      "    return func(*args, **kwargs)\n",
      "  File \"/shared/adeel/anaconda3/envs/exatrkx-cpu/lib/python3.8/site-packages/ray/_private/worker.py\", line 2311, in get\n",
      "    raise value\n",
      "ray.exceptions.RayActorError: The actor died unexpectedly before finishing this task.\n",
      "\tclass_name: ImplicitFunc\n",
      "\tactor_id: cd7abe55e8b6642c5bee880c01000000\n",
      "\tpid: 540380\n",
      "\tnamespace: 11b8443e-e4b3-47a4-a0c8-a6d83c1156b0\n",
      "\tip: 130.238.68.224\n",
      "The actor is dead because its worker process has died. Worker exit type: NODE_OUT_OF_MEMORY Worker exit detail: Task was killed due to the node running low on memory.\n",
      "Memory on the node (IP: 130.238.68.224, ID: 7397341dd64635865927d4bad7dd613ba1a5a6e2ef13d30993005765) where the task (actor ID: cd7abe55e8b6642c5bee880c01000000, name=ImplicitFunc.__init__, pid=540380, memory used=0.64GB) was running was 14.73GB / 15.50GB (0.950395), which exceeds the memory usage threshold of 0.95. Ray killed this worker (ID: de4225beb15c847eeae5b343a8261e7881bc8bb4210fc3126a656e1a) because it was the most recently scheduled task; to see more information about memory usage on this node, use `ray logs raylet.out -ip 130.238.68.224`. To see the logs of the worker, use `ray logs worker-de4225beb15c847eeae5b343a8261e7881bc8bb4210fc3126a656e1a*out -ip 130.238.68.224. Top 10 memory users:\n",
      "PID\tMEM(GB)\tCOMMAND\n",
      "540382\t0.72\tray::ImplicitFunc.train\n",
      "540341\t0.66\tray::ImplicitFunc.train\n",
      "540378\t0.66\tray::ImplicitFunc.train\n",
      "540380\t0.64\tray::ImplicitFunc.train\n",
      "540384\t0.62\tray::ImplicitFunc.train\n",
      "3931\t0.38\t/usr/bin/gnome-software --gapplication-service\n",
      "539919\t0.23\tpython Tune.py configs/tune_quickstart.yaml\n",
      "2751\t0.20\t/usr/bin/gnome-shell\n",
      "541049\t0.18\tray::ImplicitFunc.train\n",
      "541052\t0.18\tray::ImplicitFunc.train\n",
      "Refer to the documentation on how to address the out of memory issue: https://docs.ray.io/en/latest/ray-core/scheduling/ray-oom-prevention.html. Consider provisioning more memory on this node or reducing task parallelism by requesting more CPUs per task. Set max_restarts and max_task_retries to enable retry when the task crashes due to OOM. To adjust the kill threshold, set the environment variable `RAY_memory_usage_threshold` when starting Ray. To disable worker killing, set the environment variable `RAY_memory_monitor_refresh_ms` to zero.\n",
      "\n",
      "\n",
      "Trial #3 finished successfully with a mean accuracy metric of: 0.9636667966842651\n",
      "Trial #4 finished successfully with a mean accuracy metric of: 0.9634908437728882\n"
     ]
    }
   ],
   "source": [
    "# Iterate over results\n",
    "for i, result in enumerate(result_grid):\n",
    "    if result.error:\n",
    "        print(f\"Trial #{i} had an error:\", result.error)\n",
    "        continue\n",
    "\n",
    "    print(\n",
    "        f\"Trial #{i} finished successfully with a mean accuracy metric of:\",\n",
    "        result.metrics[\"mean_accuracy\"],\n",
    "    )"
   ]
  },
  {
   "cell_type": "code",
   "execution_count": 10,
   "id": "3da37188-89d4-42a7-a4c8-c0bf2ecf2966",
   "metadata": {},
   "outputs": [
    {
     "data": {
      "text/html": [
       "<div>\n",
       "<style scoped>\n",
       "    .dataframe tbody tr th:only-of-type {\n",
       "        vertical-align: middle;\n",
       "    }\n",
       "\n",
       "    .dataframe tbody tr th {\n",
       "        vertical-align: top;\n",
       "    }\n",
       "\n",
       "    .dataframe thead th {\n",
       "        text-align: right;\n",
       "    }\n",
       "</style>\n",
       "<table border=\"1\" class=\"dataframe\">\n",
       "  <thead>\n",
       "    <tr style=\"text-align: right;\">\n",
       "      <th></th>\n",
       "      <th>training_iteration</th>\n",
       "      <th>mean_accuracy</th>\n",
       "    </tr>\n",
       "  </thead>\n",
       "  <tbody>\n",
       "    <tr>\n",
       "      <th>0</th>\n",
       "      <td>10</td>\n",
       "      <td>0.964147</td>\n",
       "    </tr>\n",
       "    <tr>\n",
       "      <th>1</th>\n",
       "      <td>10</td>\n",
       "      <td>0.964028</td>\n",
       "    </tr>\n",
       "    <tr>\n",
       "      <th>2</th>\n",
       "      <td>8</td>\n",
       "      <td>0.963667</td>\n",
       "    </tr>\n",
       "    <tr>\n",
       "      <th>3</th>\n",
       "      <td>10</td>\n",
       "      <td>0.963491</td>\n",
       "    </tr>\n",
       "  </tbody>\n",
       "</table>\n",
       "</div>"
      ],
      "text/plain": [
       "   training_iteration  mean_accuracy\n",
       "0                  10       0.964147\n",
       "1                  10       0.964028\n",
       "2                   8       0.963667\n",
       "3                  10       0.963491"
      ]
     },
     "execution_count": 10,
     "metadata": {},
     "output_type": "execute_result"
    }
   ],
   "source": [
    "results_df = result_grid.get_dataframe()\n",
    "results_df[[\"training_iteration\", \"mean_accuracy\"]]"
   ]
  },
  {
   "cell_type": "code",
   "execution_count": 11,
   "id": "6ff52e5d-03bc-43bd-8869-bd769b350507",
   "metadata": {},
   "outputs": [
    {
     "name": "stdout",
     "output_type": "stream",
     "text": [
      "Shortest training time: 43880.51859951019\n",
      "Longest training time: 53796.01085472107\n"
     ]
    }
   ],
   "source": [
    "print(\"Shortest training time:\", results_df[\"time_total_s\"].min())\n",
    "print(\"Longest training time:\", results_df[\"time_total_s\"].max())"
   ]
  },
  {
   "cell_type": "code",
   "execution_count": 12,
   "id": "c38748e8-33ee-461c-9777-2373268a4c23",
   "metadata": {},
   "outputs": [
    {
     "data": {
      "text/html": [
       "<div>\n",
       "<style scoped>\n",
       "    .dataframe tbody tr th:only-of-type {\n",
       "        vertical-align: middle;\n",
       "    }\n",
       "\n",
       "    .dataframe tbody tr th {\n",
       "        vertical-align: top;\n",
       "    }\n",
       "\n",
       "    .dataframe thead th {\n",
       "        text-align: right;\n",
       "    }\n",
       "</style>\n",
       "<table border=\"1\" class=\"dataframe\">\n",
       "  <thead>\n",
       "    <tr style=\"text-align: right;\">\n",
       "      <th></th>\n",
       "      <th>training_iteration</th>\n",
       "      <th>mean_accuracy</th>\n",
       "    </tr>\n",
       "  </thead>\n",
       "  <tbody>\n",
       "    <tr>\n",
       "      <th>0</th>\n",
       "      <td>9</td>\n",
       "      <td>0.964147</td>\n",
       "    </tr>\n",
       "    <tr>\n",
       "      <th>1</th>\n",
       "      <td>9</td>\n",
       "      <td>0.964028</td>\n",
       "    </tr>\n",
       "    <tr>\n",
       "      <th>2</th>\n",
       "      <td>7</td>\n",
       "      <td>0.963667</td>\n",
       "    </tr>\n",
       "    <tr>\n",
       "      <th>3</th>\n",
       "      <td>9</td>\n",
       "      <td>0.963491</td>\n",
       "    </tr>\n",
       "  </tbody>\n",
       "</table>\n",
       "</div>"
      ],
      "text/plain": [
       "   training_iteration  mean_accuracy\n",
       "0                   9       0.964147\n",
       "1                   9       0.964028\n",
       "2                   7       0.963667\n",
       "3                   9       0.963491"
      ]
     },
     "execution_count": 12,
     "metadata": {},
     "output_type": "execute_result"
    }
   ],
   "source": [
    "best_result_df = result_grid.get_dataframe(\n",
    "    filter_metric=\"mean_accuracy\", filter_mode=\"max\"\n",
    ")\n",
    "best_result_df[[\"training_iteration\", \"mean_accuracy\"]]"
   ]
  },
  {
   "cell_type": "code",
   "execution_count": 13,
   "id": "050ecbda-46dc-48fe-9b70-65af8a12f092",
   "metadata": {},
   "outputs": [],
   "source": [
    "from ray.air import Result\n",
    "\n",
    "# Get the result with the maximum test set `mean_accuracy`\n",
    "best_result: Result = result_grid.get_best_result()\n",
    "\n",
    "# Get the result with the minimum `mean_accuracy`\n",
    "worst_performing_result: Result = result_grid.get_best_result(\n",
    "    metric=\"mean_accuracy\", mode=\"min\"\n",
    ")"
   ]
  },
  {
   "cell_type": "code",
   "execution_count": 14,
   "id": "e30e81f8-27d6-4c38-ab96-8de25ed404ca",
   "metadata": {},
   "outputs": [
    {
     "data": {
      "text/plain": [
       "{'common_configs': {'experiment_name': 'TuneStudy',\n",
       "  'artifact_directory': '/shared/adeel/data_sets/ctd2022/run_10k/ray_tune',\n",
       "  'gpus': 0,\n",
       "  'clear_directories': True},\n",
       " 'model_configs': {'input_dir': '/shared/adeel/data_sets/ctd2022/run_10k/feature_store',\n",
       "  'output_dir': '/shared/adeel/data_sets/ctd2022/run_10k/tune_processed',\n",
       "  'project': 'TuneStudy',\n",
       "  'edge_cut': 0.5,\n",
       "  'pt_signal_min': 0.0,\n",
       "  'pt_background_min': 0.0,\n",
       "  'datatype_names': [['train', 'val', 'test']],\n",
       "  'datatype_split': [[8000, 1000, 1000]],\n",
       "  'train_split': [8000, 1000, 1000],\n",
       "  'sorted_events': True,\n",
       "  'noise': False,\n",
       "  'overwrite': True,\n",
       "  'n_workers': 8,\n",
       "  'spatial_channels': 3,\n",
       "  'cell_channels': 0,\n",
       "  'hidden': 128,\n",
       "  'n_graph_iters': 8,\n",
       "  'nb_node_layer': 3,\n",
       "  'nb_edge_layer': 3,\n",
       "  'emb_channels': 0,\n",
       "  'layernorm': False,\n",
       "  'batchnorm': False,\n",
       "  'batchsize': 1,\n",
       "  'aggregation': 'sum_max',\n",
       "  'hidden_activation': 'ReLU',\n",
       "  'weight': 2,\n",
       "  'warmup': 200,\n",
       "  'lr': 0.001,\n",
       "  'factor': 0.3,\n",
       "  'patience': 10,\n",
       "  'regime': ['pid'],\n",
       "  'max_epochs': 10,\n",
       "  'callbacks': None,\n",
       "  'l1_size': 1000,\n",
       "  'l2_size': 2000,\n",
       "  'l3_size': 2000,\n",
       "  'l4_size': 2000,\n",
       "  'l5_size': 1000},\n",
       " 'l1_size': 128,\n",
       " 'l2_size': 512,\n",
       " 'l3_size': 128,\n",
       " 'l4_size': 1024,\n",
       " 'l5_size': 512,\n",
       " 'batch_size': 128}"
      ]
     },
     "execution_count": 14,
     "metadata": {},
     "output_type": "execute_result"
    }
   ],
   "source": [
    "best_result.config"
   ]
  },
  {
   "cell_type": "code",
   "execution_count": 15,
   "id": "45973306-a0c9-413f-af11-411ae99bfee7",
   "metadata": {},
   "outputs": [
    {
     "data": {
      "text/plain": [
       "PosixPath('/shared/adeel/data_sets/ctd2022/run_10k/ray_tune/TuneResult/train_dnn_fbf47_00000_0_batch_size=128,l1_size=128,l2_size=512,l3_size=128,l4_size=1024,l5_size=512_2023-01-22_17-36-56')"
      ]
     },
     "execution_count": 15,
     "metadata": {},
     "output_type": "execute_result"
    }
   ],
   "source": [
    "best_result.log_dir"
   ]
  },
  {
   "cell_type": "code",
   "execution_count": 16,
   "id": "8cc8e139-5f96-46a1-a563-f8acc2e0e339",
   "metadata": {},
   "outputs": [
    {
     "data": {
      "text/plain": [
       "Checkpoint(local_path=/shared/adeel/data_sets/ctd2022/run_10k/ray_tune/TuneResult/train_dnn_fbf47_00000_0_batch_size=128,l1_size=128,l2_size=512,l3_size=128,l4_size=1024,l5_size=512_2023-01-22_17-36-56/checkpoint_epoch=4-step=39999)"
      ]
     },
     "execution_count": 16,
     "metadata": {},
     "output_type": "execute_result"
    }
   ],
   "source": [
    "# Get the last Ray AIR Checkpoint associated with the best-performing trial\n",
    "best_result.checkpoint"
   ]
  },
  {
   "cell_type": "code",
   "execution_count": 17,
   "id": "d9faaf7e-ce58-4b04-a7a7-084ca304febe",
   "metadata": {},
   "outputs": [
    {
     "data": {
      "text/plain": [
       "{'loss': 0.14585228264331818,\n",
       " 'mean_accuracy': 0.9641472697257996,\n",
       " 'time_this_iter_s': 0.270294189453125,\n",
       " 'should_checkpoint': True,\n",
       " 'done': True,\n",
       " 'timesteps_total': None,\n",
       " 'episodes_total': None,\n",
       " 'training_iteration': 10,\n",
       " 'trial_id': 'fbf47_00000',\n",
       " 'experiment_id': '3de598dc71af4daebe74cd842d7c5909',\n",
       " 'date': '2023-01-23_08-33-26',\n",
       " 'timestamp': 1674459206,\n",
       " 'time_total_s': 53787.009577035904,\n",
       " 'pid': 540341,\n",
       " 'hostname': 'phy-hestia',\n",
       " 'node_ip': '130.238.68.224',\n",
       " 'config': {'common_configs': {'experiment_name': 'TuneStudy',\n",
       "   'artifact_directory': '/shared/adeel/data_sets/ctd2022/run_10k/ray_tune',\n",
       "   'gpus': 0,\n",
       "   'clear_directories': True},\n",
       "  'model_configs': {'input_dir': '/shared/adeel/data_sets/ctd2022/run_10k/feature_store',\n",
       "   'output_dir': '/shared/adeel/data_sets/ctd2022/run_10k/tune_processed',\n",
       "   'project': 'TuneStudy',\n",
       "   'edge_cut': 0.5,\n",
       "   'pt_signal_min': 0.0,\n",
       "   'pt_background_min': 0.0,\n",
       "   'datatype_names': [['train', 'val', 'test']],\n",
       "   'datatype_split': [[8000, 1000, 1000]],\n",
       "   'train_split': [8000, 1000, 1000],\n",
       "   'sorted_events': True,\n",
       "   'noise': False,\n",
       "   'overwrite': True,\n",
       "   'n_workers': 8,\n",
       "   'spatial_channels': 3,\n",
       "   'cell_channels': 0,\n",
       "   'hidden': 128,\n",
       "   'n_graph_iters': 8,\n",
       "   'nb_node_layer': 3,\n",
       "   'nb_edge_layer': 3,\n",
       "   'emb_channels': 0,\n",
       "   'layernorm': False,\n",
       "   'batchnorm': False,\n",
       "   'batchsize': 1,\n",
       "   'aggregation': 'sum_max',\n",
       "   'hidden_activation': 'ReLU',\n",
       "   'weight': 2,\n",
       "   'warmup': 200,\n",
       "   'lr': 0.001,\n",
       "   'factor': 0.3,\n",
       "   'patience': 10,\n",
       "   'regime': ['pid'],\n",
       "   'max_epochs': 10,\n",
       "   'callbacks': None,\n",
       "   'l1_size': 1000,\n",
       "   'l2_size': 2000,\n",
       "   'l3_size': 2000,\n",
       "   'l4_size': 2000,\n",
       "   'l5_size': 1000},\n",
       "  'l1_size': 128,\n",
       "  'l2_size': 512,\n",
       "  'l3_size': 128,\n",
       "  'l4_size': 1024,\n",
       "  'l5_size': 512,\n",
       "  'batch_size': 128},\n",
       " 'time_since_restore': 53787.009577035904,\n",
       " 'timesteps_since_restore': 0,\n",
       " 'iterations_since_restore': 10,\n",
       " 'warmup_time': 0.002622842788696289,\n",
       " 'experiment_tag': '0_batch_size=128,l1_size=128,l2_size=512,l3_size=128,l4_size=1024,l5_size=512'}"
      ]
     },
     "execution_count": 17,
     "metadata": {},
     "output_type": "execute_result"
    }
   ],
   "source": [
    "# Get the last reported set of metrics\n",
    "best_result.metrics"
   ]
  },
  {
   "cell_type": "code",
   "execution_count": 18,
   "id": "85d7f148-eed3-4353-a00c-17c79ce362a9",
   "metadata": {},
   "outputs": [
    {
     "data": {
      "text/html": [
       "<div>\n",
       "<style scoped>\n",
       "    .dataframe tbody tr th:only-of-type {\n",
       "        vertical-align: middle;\n",
       "    }\n",
       "\n",
       "    .dataframe tbody tr th {\n",
       "        vertical-align: top;\n",
       "    }\n",
       "\n",
       "    .dataframe thead th {\n",
       "        text-align: right;\n",
       "    }\n",
       "</style>\n",
       "<table border=\"1\" class=\"dataframe\">\n",
       "  <thead>\n",
       "    <tr style=\"text-align: right;\">\n",
       "      <th></th>\n",
       "      <th>training_iteration</th>\n",
       "      <th>mean_accuracy</th>\n",
       "      <th>time_total_s</th>\n",
       "    </tr>\n",
       "  </thead>\n",
       "  <tbody>\n",
       "    <tr>\n",
       "      <th>0</th>\n",
       "      <td>1</td>\n",
       "      <td>0.960260</td>\n",
       "      <td>12502.960163</td>\n",
       "    </tr>\n",
       "    <tr>\n",
       "      <th>1</th>\n",
       "      <td>2</td>\n",
       "      <td>0.960260</td>\n",
       "      <td>12503.302956</td>\n",
       "    </tr>\n",
       "    <tr>\n",
       "      <th>2</th>\n",
       "      <td>3</td>\n",
       "      <td>0.962354</td>\n",
       "      <td>22978.504213</td>\n",
       "    </tr>\n",
       "    <tr>\n",
       "      <th>3</th>\n",
       "      <td>4</td>\n",
       "      <td>0.962354</td>\n",
       "      <td>22978.831117</td>\n",
       "    </tr>\n",
       "    <tr>\n",
       "      <th>4</th>\n",
       "      <td>5</td>\n",
       "      <td>0.963187</td>\n",
       "      <td>33485.523515</td>\n",
       "    </tr>\n",
       "    <tr>\n",
       "      <th>5</th>\n",
       "      <td>6</td>\n",
       "      <td>0.963187</td>\n",
       "      <td>33485.897769</td>\n",
       "    </tr>\n",
       "    <tr>\n",
       "      <th>6</th>\n",
       "      <td>7</td>\n",
       "      <td>0.963489</td>\n",
       "      <td>43999.010890</td>\n",
       "    </tr>\n",
       "    <tr>\n",
       "      <th>7</th>\n",
       "      <td>8</td>\n",
       "      <td>0.963489</td>\n",
       "      <td>43999.302626</td>\n",
       "    </tr>\n",
       "    <tr>\n",
       "      <th>8</th>\n",
       "      <td>9</td>\n",
       "      <td>0.964147</td>\n",
       "      <td>53786.739283</td>\n",
       "    </tr>\n",
       "    <tr>\n",
       "      <th>9</th>\n",
       "      <td>10</td>\n",
       "      <td>0.964147</td>\n",
       "      <td>53787.009577</td>\n",
       "    </tr>\n",
       "  </tbody>\n",
       "</table>\n",
       "</div>"
      ],
      "text/plain": [
       "   training_iteration  mean_accuracy  time_total_s\n",
       "0                   1       0.960260  12502.960163\n",
       "1                   2       0.960260  12503.302956\n",
       "2                   3       0.962354  22978.504213\n",
       "3                   4       0.962354  22978.831117\n",
       "4                   5       0.963187  33485.523515\n",
       "5                   6       0.963187  33485.897769\n",
       "6                   7       0.963489  43999.010890\n",
       "7                   8       0.963489  43999.302626\n",
       "8                   9       0.964147  53786.739283\n",
       "9                  10       0.964147  53787.009577"
      ]
     },
     "execution_count": 18,
     "metadata": {},
     "output_type": "execute_result"
    }
   ],
   "source": [
    "result_df = best_result.metrics_dataframe\n",
    "result_df[[\"training_iteration\", \"mean_accuracy\", \"time_total_s\"]]"
   ]
  },
  {
   "cell_type": "markdown",
   "id": "5a86012a-ac96-450d-8665-a85e0cc948f9",
   "metadata": {},
   "source": [
    "### _Plotting Metrics_"
   ]
  },
  {
   "cell_type": "code",
   "execution_count": 20,
   "id": "db6f0eef-7f68-49e8-b499-5896c38f3fde",
   "metadata": {},
   "outputs": [
    {
     "data": {
      "image/png": "[encoded data removed]",
      "text/plain": [
       "<Figure size 432x288 with 1 Axes>"
      ]
     },
     "metadata": {
      "needs_background": "light"
     },
     "output_type": "display_data"
    }
   ],
   "source": [
    "best_result.metrics_dataframe.plot(\"training_iteration\", \"mean_accuracy\");"
   ]
  },
  {
   "cell_type": "code",
   "execution_count": null,
   "id": "738960d9-e529-4940-9c86-9c14abb3134a",
   "metadata": {},
   "outputs": [],
   "source": []
  }
 ],
 "metadata": {
  "kernelspec": {
   "display_name": "Python 3 (ipykernel)",
   "language": "python",
   "name": "python3"
  },
  "language_info": {
   "codemirror_mode": {
    "name": "ipython",
    "version": 3
   },
   "file_extension": ".py",
   "mimetype": "text/x-python",
   "name": "python",
   "nbconvert_exporter": "python",
   "pygments_lexer": "ipython3",
   "version": "3.8.12"
  }
 },
 "nbformat": 4,
 "nbformat_minor": 5
}
