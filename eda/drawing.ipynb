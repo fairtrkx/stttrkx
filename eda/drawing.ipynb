{
 "cells": [
  {
   "cell_type": "markdown",
   "metadata": {},
   "source": [
    "## _Drawing Functions_\n",
    "\n",
    "- _Detector Layout_\n",
    "- _Event Plotting (CSVs, Torch)_\n",
    "- _A.O.B._"
   ]
  },
  {
   "cell_type": "code",
   "execution_count": null,
   "metadata": {},
   "outputs": [],
   "source": [
    "import glob, os, sys, yaml"
   ]
  },
  {
   "cell_type": "code",
   "execution_count": null,
   "metadata": {},
   "outputs": [],
   "source": [
    "import numpy as np\n",
    "import scipy as sp\n",
    "import pandas as pd\n",
    "import matplotlib.pyplot as plt\n",
    "\n",
    "%matplotlib inline"
   ]
  },
  {
   "cell_type": "code",
   "execution_count": null,
   "metadata": {},
   "outputs": [],
   "source": [
    "import pprint\n",
    "import seaborn as sns\n",
    "import trackml.dataset"
   ]
  },
  {
   "cell_type": "code",
   "execution_count": null,
   "metadata": {},
   "outputs": [],
   "source": [
    "import torch\n",
    "from torch_geometric.data import Data\n",
    "import itertools"
   ]
  },
  {
   "cell_type": "code",
   "execution_count": null,
   "metadata": {},
   "outputs": [],
   "source": [
    "# append parent dir\n",
    "sys.path.append(\"..\")"
   ]
  },
  {
   "cell_type": "code",
   "execution_count": null,
   "metadata": {},
   "outputs": [],
   "source": [
    "# get cuda device\n",
    "device = \"cuda\" if torch.cuda.is_available() else \"cpu\""
   ]
  },
  {
   "cell_type": "code",
   "execution_count": null,
   "metadata": {},
   "outputs": [],
   "source": [
    "# local imports\n",
    "from src import SttCSVDataReader, SttTorchDataReader\n",
    "from src import Visualize_CSVEvent, Visualize_TorchEvent\n",
    "from src import detector_layout"
   ]
  },
  {
   "cell_type": "markdown",
   "metadata": {},
   "source": [
    "### _Load Data_"
   ]
  },
  {
   "cell_type": "code",
   "execution_count": null,
   "metadata": {},
   "outputs": [],
   "source": [
    "# mu+mu- data (current)\n",
    "input_dir = \"../data_all\""
   ]
  },
  {
   "cell_type": "code",
   "execution_count": null,
   "metadata": {},
   "outputs": [],
   "source": [
    "# Find All Input Data Files (hits.csv, cells.csv, particles.csv, truth.csv)\n",
    "all_files = os.listdir(input_dir)\n",
    "\n",
    "# Extract File Prefixes (use e.g. xxx-hits.csv)\n",
    "suffix = \"-hits.csv\"\n",
    "file_prefixes = sorted(\n",
    "    os.path.join(input_dir, f.replace(suffix, \"\"))\n",
    "    for f in all_files\n",
    "    if f.endswith(suffix)\n",
    ")"
   ]
  },
  {
   "cell_type": "code",
   "execution_count": null,
   "metadata": {},
   "outputs": [],
   "source": [
    "file_prefixes[:10]"
   ]
  },
  {
   "cell_type": "code",
   "execution_count": null,
   "metadata": {},
   "outputs": [],
   "source": [
    "event_id = 1\n",
    "event_prefix = file_prefixes[event_id]"
   ]
  },
  {
   "cell_type": "code",
   "execution_count": null,
   "metadata": {},
   "outputs": [],
   "source": [
    "# load an event\n",
    "hits, tubes, particles, truth = trackml.dataset.load_event(event_prefix)\n",
    "\n",
    "# memory usage\n",
    "mem_bytes = (\n",
    "    hits.memory_usage(index=True).sum()\n",
    "    + tubes.memory_usage(index=True).sum()\n",
    "    + particles.memory_usage(index=True).sum()\n",
    "    + truth.memory_usage(index=True).sum()\n",
    ")\n",
    "\n",
    "print(\n",
    "    \"{} memory usage {:.2f} MB\".format(\n",
    "        os.path.basename(event_prefix), mem_bytes / 2**20\n",
    "    )\n",
    ")"
   ]
  },
  {
   "cell_type": "code",
   "execution_count": null,
   "metadata": {},
   "outputs": [],
   "source": [
    "hits.head()"
   ]
  },
  {
   "cell_type": "code",
   "execution_count": null,
   "metadata": {},
   "outputs": [],
   "source": [
    "tubes.head()"
   ]
  },
  {
   "cell_type": "code",
   "execution_count": null,
   "metadata": {},
   "outputs": [],
   "source": [
    "particles.head()"
   ]
  },
  {
   "cell_type": "code",
   "execution_count": null,
   "metadata": {},
   "outputs": [],
   "source": [
    "truth.head()"
   ]
  },
  {
   "cell_type": "markdown",
   "metadata": {},
   "source": [
    "### _Detector Layout_"
   ]
  },
  {
   "cell_type": "code",
   "execution_count": null,
   "metadata": {},
   "outputs": [],
   "source": [
    "detector_layout(figsize=(10, 10));"
   ]
  },
  {
   "cell_type": "markdown",
   "metadata": {},
   "source": [
    "### _SttCSVDataReader_"
   ]
  },
  {
   "cell_type": "code",
   "execution_count": null,
   "metadata": {},
   "outputs": [],
   "source": [
    "# use SttCSVDataReader\n",
    "inputdir = \"../data_all\"\n",
    "csv_reader = SttCSVDataReader(inputdir, noise=False, skewed=False, selection=False)\n",
    "data = csv_reader(evtid=event_id)\n",
    "event = data.event"
   ]
  },
  {
   "cell_type": "code",
   "execution_count": null,
   "metadata": {},
   "outputs": [],
   "source": [
    "# visualize CSVEvent\n",
    "Visualize_CSVEvent(event, figsize=(10, 10), save_fig=False);"
   ]
  },
  {
   "cell_type": "markdown",
   "metadata": {},
   "source": [
    "### _SttTorchDataReader_"
   ]
  },
  {
   "cell_type": "code",
   "execution_count": null,
   "metadata": {},
   "outputs": [],
   "source": [
    "# use SttTorchDataReader\n",
    "inputdir = \"../run/feature_store\"\n",
    "torch_reader = SttTorchDataReader(inputdir)\n",
    "feature_data = torch_reader(evtid=event_id)"
   ]
  },
  {
   "cell_type": "code",
   "execution_count": null,
   "metadata": {},
   "outputs": [],
   "source": [
    "Visualize_TorchEvent(feature_data, figsize=(10, 10), save_fig=False);"
   ]
  },
  {
   "cell_type": "markdown",
   "metadata": {},
   "source": [
    "### _Plot True & False Edges_"
   ]
  },
  {
   "cell_type": "code",
   "execution_count": null,
   "metadata": {},
   "outputs": [],
   "source": [
    "from src import detector_layout\n",
    "from src.math_utils import polar_to_cartesian"
   ]
  },
  {
   "cell_type": "code",
   "execution_count": null,
   "metadata": {},
   "outputs": [],
   "source": [
    "event_idx = 1"
   ]
  },
  {
   "cell_type": "code",
   "execution_count": null,
   "metadata": {},
   "outputs": [],
   "source": [
    "inputdir = \"../run/feature_store\"\n",
    "proc_files = sorted(glob.glob(os.path.join(inputdir, \"*\")))"
   ]
  },
  {
   "cell_type": "code",
   "execution_count": null,
   "metadata": {},
   "outputs": [],
   "source": [
    "# event_id\n",
    "proc_files[event_idx]"
   ]
  },
  {
   "cell_type": "code",
   "execution_count": null,
   "metadata": {},
   "outputs": [],
   "source": [
    "feature_data = torch.load(proc_files[event_idx], map_location=device)"
   ]
  },
  {
   "cell_type": "code",
   "execution_count": null,
   "metadata": {},
   "outputs": [],
   "source": [
    "# get spatial coordinates, note: x = [x,y,ir]\n",
    "r, phi, ir = feature_data.x.T"
   ]
  },
  {
   "cell_type": "code",
   "execution_count": null,
   "metadata": {},
   "outputs": [],
   "source": [
    "# coord. transform, compensate scaling\n",
    "x, y = polar_to_cartesian(r, phi)"
   ]
  },
  {
   "cell_type": "code",
   "execution_count": null,
   "metadata": {},
   "outputs": [],
   "source": [
    "# plot all hits\n",
    "fig, ax = detector_layout(figsize=(10, 10))\n",
    "ax.scatter(x, y, s=20)\n",
    "\n",
    "ax.set_title(\"Azimuthal View of Detector\", fontsize=15)\n",
    "ax.grid(False)\n",
    "fig.tight_layout()\n",
    "# fig.savefig(f'event_{event_idx}.png')"
   ]
  },
  {
   "cell_type": "code",
   "execution_count": null,
   "metadata": {},
   "outputs": [],
   "source": [
    "# get true_edges\n",
    "e = feature_data.edge_index\n",
    "pid = feature_data.pid\n",
    "true_edges = pid[e[0]] == pid[e[1]]"
   ]
  },
  {
   "cell_type": "code",
   "execution_count": null,
   "metadata": {},
   "outputs": [],
   "source": [
    "# plot only true edges\n",
    "fig, ax = detector_layout(figsize=(10, 10))\n",
    "\n",
    "ax.plot(x[e[:, true_edges]], y[e[:, true_edges]], c=\"b\")\n",
    "ax.scatter(x, y, s=20)\n",
    "\n",
    "ax.set_title(\"Azimuthal View of Detector\", fontsize=15)\n",
    "ax.grid(False)\n",
    "fig.tight_layout()\n",
    "# fig.savefig(f'true_edges_{event_idx}.png')"
   ]
  },
  {
   "cell_type": "code",
   "execution_count": null,
   "metadata": {},
   "outputs": [],
   "source": [
    "# plot only false edges\n",
    "fig, ax = detector_layout(figsize=(10, 10))\n",
    "\n",
    "ax.plot(x[e[:, ~true_edges]], y[e[:, ~true_edges]], c=\"r\")\n",
    "ax.scatter(x, y, s=20)\n",
    "\n",
    "ax.set_title(\"Azimuthal View of Detector\", fontsize=15)\n",
    "ax.grid(False)\n",
    "fig.tight_layout()\n",
    "# fig.savefig(f'false_edges_{event_idx}.png')"
   ]
  },
  {
   "cell_type": "code",
   "execution_count": null,
   "metadata": {},
   "outputs": [],
   "source": [
    "# plot all edges (true + false), only few false edges\n",
    "fig, ax = detector_layout(figsize=(10, 10))\n",
    "\n",
    "ax.plot(x[e[:, (~true_edges)][:, 0:-1:5]], y[e[:, (~true_edges)][:, 0:-1:5]], c=\"r\")\n",
    "ax.scatter(x, y, s=20)\n",
    "\n",
    "ax.set_title(\"Azimuthal View of Detector\", fontsize=15)\n",
    "ax.grid(False)\n",
    "fig.tight_layout()\n",
    "# fig.savefig(f'true_edges_less_{event_idx}.png')"
   ]
  },
  {
   "cell_type": "markdown",
   "metadata": {},
   "source": [
    "## _Inspect HDFStore_\n",
    "\n",
    "- See [IO tools (text, CSV, HDF5, …)](https://pandas.pydata.org/docs/user_guide/io.html)\n",
    "\n",
    "#### HDF5 Store\n",
    "\n",
    "- read/write using `pd.HDFStore(\"path/to/*.h5\")`\n",
    "- read/write using `pd.read_hdf()`, `pd.to_hdf()` similar to `pd.read_csv()` and `pd.to_csv()`\n",
    "    *. `pd.read_hdf()`: Read from the store, close it if we opened it.\n",
    "- close when finished"
   ]
  },
  {
   "cell_type": "raw",
   "metadata": {},
   "source": [
    "# path to HDF5 Store\n",
    "hdf5_path = 'run/trkx_reco_eval/eval_particles.h5'"
   ]
  },
  {
   "cell_type": "raw",
   "metadata": {},
   "source": [
    "# Method 1: use context manager to open store\n",
    "with pd.HDFStore(hdf5_path, 'r') as store:\n",
    "    print(store)"
   ]
  },
  {
   "cell_type": "raw",
   "metadata": {},
   "source": [
    "# Method 2: Use constructor method. Don't forget to close it using store.close()\n",
    "store = pd.HDFStore(hdf5_path)"
   ]
  },
  {
   "cell_type": "raw",
   "metadata": {},
   "source": [
    "store.groups()"
   ]
  },
  {
   "cell_type": "raw",
   "metadata": {},
   "source": [
    "# get stored dataframe using group\n",
    "store.get('data').head()"
   ]
  },
  {
   "cell_type": "raw",
   "metadata": {},
   "source": [
    "# OR, get stored dataframe using group\n",
    "store['data'].head()"
   ]
  },
  {
   "cell_type": "raw",
   "metadata": {},
   "source": [
    "store.close()"
   ]
  },
  {
   "cell_type": "raw",
   "metadata": {},
   "source": [
    "store.is_open"
   ]
  },
  {
   "cell_type": "raw",
   "metadata": {},
   "source": [
    "# Method 3: Retrieve pandas object stored in h5 file\n",
    "store = pd.read_hdf(hdf5_path)"
   ]
  },
  {
   "cell_type": "raw",
   "metadata": {},
   "source": [
    "store.head()"
   ]
  },
  {
   "cell_type": "code",
   "execution_count": null,
   "metadata": {},
   "outputs": [],
   "source": []
  }
 ],
 "metadata": {
  "kernelspec": {
   "display_name": "Python 3 (ipykernel)",
   "language": "python",
   "name": "python3"
  },
  "language_info": {
   "codemirror_mode": {
    "name": "ipython",
    "version": 3
   },
   "file_extension": ".py",
   "mimetype": "text/x-python",
   "name": "python",
   "nbconvert_exporter": "python",
   "pygments_lexer": "ipython3",
   "version": "3.8.12"
  }
 },
 "nbformat": 4,
 "nbformat_minor": 4
}
