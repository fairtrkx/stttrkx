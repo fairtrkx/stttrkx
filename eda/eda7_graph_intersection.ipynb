{
 "cells": [
  {
   "cell_type": "markdown",
   "metadata": {
    "tags": []
   },
   "source": [
    "## _Graph Intersection_\n",
    "\n",
    "Our goal is to build a _**labelled dataset**_ in the for of input (`edge_index`) and targets (`y`) for edge classification: _`true_edges`, `input_edges` $\\rightarrow$ `edge_index`, `y`_. We have\n",
    "\n",
    "- _`true_edges` are truth graph from `layerwise_true_edges` or `modulewise_true_edges()`_\n",
    "- _`input_edge` are input graph from Heuristic Method_\n",
    "\n",
    "and we like to build _**labelled dataset** [`edge_index`,`y`]_ using _`graph_intersection()`_.\n",
    "\n"
   ]
  },
  {
   "cell_type": "code",
   "execution_count": null,
   "metadata": {},
   "outputs": [],
   "source": [
    "import glob, os, sys, yaml"
   ]
  },
  {
   "cell_type": "code",
   "execution_count": null,
   "metadata": {},
   "outputs": [],
   "source": [
    "import numpy as np\n",
    "import scipy as sp\n",
    "import pandas as pd\n",
    "import matplotlib.pyplot as plt\n",
    "\n",
    "%matplotlib inline"
   ]
  },
  {
   "cell_type": "code",
   "execution_count": null,
   "metadata": {},
   "outputs": [],
   "source": [
    "import pprint\n",
    "import seaborn as sns\n",
    "import trackml.dataset"
   ]
  },
  {
   "cell_type": "code",
   "execution_count": null,
   "metadata": {},
   "outputs": [],
   "source": [
    "import torch\n",
    "from torch_geometric.data import Data\n",
    "import itertools"
   ]
  },
  {
   "cell_type": "code",
   "execution_count": null,
   "metadata": {},
   "outputs": [],
   "source": [
    "# append parent dir\n",
    "sys.path.append(\"..\")"
   ]
  },
  {
   "cell_type": "code",
   "execution_count": null,
   "metadata": {},
   "outputs": [],
   "source": [
    "# get cuda device\n",
    "device = \"cuda\" if torch.cuda.is_available() else \"cpu\""
   ]
  },
  {
   "cell_type": "code",
   "execution_count": null,
   "metadata": {},
   "outputs": [],
   "source": [
    "# local imports\n",
    "from src import SttCSVDataReader, SttTorchDataReader\n",
    "from src import detector_layout\n",
    "from src import Build_Event, Build_Event_Viz, Visualize_Edges\n",
    "from src.math_utils import polar_to_cartesian"
   ]
  },
  {
   "cell_type": "markdown",
   "metadata": {},
   "source": [
    "### _Input Data_"
   ]
  },
  {
   "cell_type": "code",
   "execution_count": null,
   "metadata": {},
   "outputs": [],
   "source": [
    "# input data\n",
    "input_dir = \"../data_all\""
   ]
  },
  {
   "cell_type": "code",
   "execution_count": null,
   "metadata": {},
   "outputs": [],
   "source": [
    "# Find All Input Data Files (hits.csv, cells.csv, particles.csv, truth.csv)\n",
    "all_files = os.listdir(input_dir)\n",
    "\n",
    "# Extract File Prefixes (use e.g. xxx-hits.csv)\n",
    "suffix = \"-hits.csv\"\n",
    "file_prefixes = sorted(\n",
    "    os.path.join(input_dir, f.replace(suffix, \"\"))\n",
    "    for f in all_files\n",
    "    if f.endswith(suffix)\n",
    ")\n",
    "\n",
    "print(\"Number of Files: \", len(file_prefixes))"
   ]
  },
  {
   "cell_type": "code",
   "execution_count": null,
   "metadata": {},
   "outputs": [],
   "source": [
    "# file_prefixes[:10]"
   ]
  },
  {
   "cell_type": "code",
   "execution_count": null,
   "metadata": {},
   "outputs": [],
   "source": [
    "# load an event\n",
    "# hits, tubes, particles, truth = trackml.dataset.load_event(file_prefixes[0])"
   ]
  },
  {
   "cell_type": "code",
   "execution_count": null,
   "metadata": {},
   "outputs": [],
   "source": [
    "# hits.head()\n",
    "# tubes.head()\n",
    "# particles.head()\n",
    "# truth.head()"
   ]
  },
  {
   "cell_type": "markdown",
   "metadata": {
    "tags": []
   },
   "source": [
    "### _Visualize Event_\n",
    "\n",
    "- _`Build_Event()` is same as `select_hits()` in `processing/utils/event_utils.py`_"
   ]
  },
  {
   "cell_type": "code",
   "execution_count": null,
   "metadata": {},
   "outputs": [],
   "source": [
    "# select event\n",
    "event_id = 95191"
   ]
  },
  {
   "cell_type": "code",
   "execution_count": null,
   "metadata": {},
   "outputs": [],
   "source": [
    "# compose event is exactly the same as select_hits()\n",
    "# event = Build_Event(input_dir, event_id, noise=False, skewed=False, selection=False)"
   ]
  },
  {
   "cell_type": "code",
   "execution_count": null,
   "metadata": {},
   "outputs": [],
   "source": [
    "# visualize event\n",
    "# Build_Event_Viz(event, figsize=(10,10), fig_type=\"pdf\", save_fig=False)"
   ]
  },
  {
   "cell_type": "markdown",
   "metadata": {},
   "source": [
    "## _Graph Intersection_\n",
    "\n",
    "- _`true_edges`, `input_edges` $\\rightarrow$ `edge_index`, `y`_"
   ]
  },
  {
   "cell_type": "code",
   "execution_count": null,
   "metadata": {},
   "outputs": [],
   "source": [
    "from LightningModules.Processing.utils.event_utils import select_hits\n",
    "from LightningModules.Processing.utils.event_utils import get_layerwise_edges\n",
    "from LightningModules.Processing.utils.graph_utils import get_input_edges"
   ]
  },
  {
   "cell_type": "code",
   "execution_count": null,
   "metadata": {},
   "outputs": [],
   "source": [
    "# get event prefix using event_id\n",
    "event_prefix = file_prefixes[event_id]"
   ]
  },
  {
   "cell_type": "code",
   "execution_count": null,
   "metadata": {},
   "outputs": [],
   "source": [
    "# select hits\n",
    "kwargs = {\"selection\": False}\n",
    "event = select_hits(event_file=event_prefix, noise=False, skewed=False, **kwargs)"
   ]
  },
  {
   "cell_type": "markdown",
   "metadata": {},
   "source": [
    "### _(A) - True Edges (Layerwise)_"
   ]
  },
  {
   "cell_type": "code",
   "execution_count": null,
   "metadata": {},
   "outputs": [],
   "source": [
    "# get true edges with new hits (changed)\n",
    "true_edges, hits = get_layerwise_edges(event)"
   ]
  },
  {
   "cell_type": "code",
   "execution_count": null,
   "metadata": {},
   "outputs": [],
   "source": [
    "# split as sender and recivers\n",
    "senders, receivers = true_edges"
   ]
  },
  {
   "cell_type": "code",
   "execution_count": null,
   "metadata": {},
   "outputs": [],
   "source": [
    "senders.shape, receivers.shape"
   ]
  },
  {
   "cell_type": "code",
   "execution_count": null,
   "metadata": {},
   "outputs": [],
   "source": [
    "# visualize nodes and edges\n",
    "Visualize_Edges(hits, true_edges, figsize=(10, 10), fig_type=\"pdf\", save_fig=False)"
   ]
  },
  {
   "cell_type": "markdown",
   "metadata": {},
   "source": [
    "### _(B) - Input Edges (Layerwise)_"
   ]
  },
  {
   "cell_type": "code",
   "execution_count": null,
   "metadata": {},
   "outputs": [],
   "source": [
    "# get input Edges\n",
    "input_edges = get_input_edges(hits, filtering=True)"
   ]
  },
  {
   "cell_type": "code",
   "execution_count": null,
   "metadata": {},
   "outputs": [],
   "source": [
    "# split as sender and recivers\n",
    "senders, receivers = input_edges"
   ]
  },
  {
   "cell_type": "code",
   "execution_count": null,
   "metadata": {},
   "outputs": [],
   "source": [
    "senders.shape, receivers.shape"
   ]
  },
  {
   "cell_type": "code",
   "execution_count": null,
   "metadata": {},
   "outputs": [],
   "source": [
    "# visualize nodes and edges\n",
    "# Visualize_Edges (hits, input_edges, figsize=(10,10), fig_type=\"pdf\", save_fig=False)"
   ]
  },
  {
   "cell_type": "raw",
   "metadata": {},
   "source": [
    "# Method # 1:\n",
    "\n",
    "# detector layout\n",
    "fig, ax = detector_layout(figsize=(10,10))\n",
    "\n",
    "# particle tracks\n",
    "pids = np.unique(hits.particle_id)\n",
    "for pid in pids:\n",
    "    idx = hits.particle_id == pid\n",
    "    ax.scatter(hits[idx].x.values, hits[idx].y.values, label='particle_id: %d' %pid)\n",
    "    \n",
    "# loop over source and target nodes\n",
    "# for i, (source_node, target_node) in enumerate(true_edges.T):\n",
    "for (source_node, target_node) in input_edges.T[:56]:\n",
    "    source_pos = hits.loc[source_node, ['x', 'y']].values\n",
    "    target_pos = hits.loc[target_node, ['x', 'y']].values\n",
    "    ax.plot([source_pos[0], target_pos[0]], [source_pos[1], target_pos[1]], 'k-', linewidth=0.5)\n",
    "\n",
    "# axis params\n",
    "ax.legend(fontsize=12, loc='best')\n",
    "fig.tight_layout()\n",
    "# fig.savefig(\"input_edges.pdf\")"
   ]
  },
  {
   "cell_type": "raw",
   "metadata": {},
   "source": [
    "# Method # 2:\n",
    "\n",
    "# detector layout\n",
    "fig, ax = detector_layout(figsize=(10,10))\n",
    "\n",
    "# particle tracks\n",
    "pids = np.unique(hits.particle_id)\n",
    "for pid in pids:\n",
    "    mask = hits.particle_id == pid\n",
    "    ax.scatter(hits[mask].x.values, hits[mask].y.values, label='particle_id: %d' %pid)\n",
    "    \n",
    "# input edges\n",
    "# for iedge in range(input_edges.shape[1]):\n",
    "for iedge in range(56):\n",
    "    pt1 = hits.iloc[input_edges[0][iedge]]\n",
    "    pt2 = hits.iloc[input_edges[1][iedge]]\n",
    "    ax.plot([pt1.x, pt2.x], [pt1.y, pt2.y], color='k', alpha=0.3, lw=1.5)\n",
    "\n",
    "# axis params\n",
    "ax.legend(fontsize=12, loc='best')\n",
    "fig.tight_layout()\n",
    "# fig.savefig(\"input_edges.pdf\")"
   ]
  },
  {
   "cell_type": "markdown",
   "metadata": {},
   "source": [
    "### _(C) - Labelled Dataset_\n",
    "\n",
    "- _use `true_edges`, `input_edges` to build `edge_index`, `y`. Note labelled dataset is `[inputs, targets]` $\\rightarrow$ `[edge_index, y]`_"
   ]
  },
  {
   "cell_type": "raw",
   "metadata": {},
   "source": [
    "# graph intersection to build a lab\n",
    "def graph_intersection(input_graph, truth_graph):\n",
    "    \"\"\"Find the truth of 'input_graph' by using the 'truth_graph'. \n",
    "    Here input_graph:=edge_index and truth_grahp:=layerwise_true_edges.\n",
    "    See https://scipy-lectures.org/advanced/scipy_sparse/coo_matrix.html\"\"\"\n",
    "    \n",
    "    array_size = max(input_graph.max().item(), truth_graph.max().item()) + 1\n",
    "    \n",
    "    # Get Graphs\n",
    "    l1 = input_graph.cpu().numpy()\n",
    "    l2 = truth_graph.cpu().numpy()\n",
    "    \n",
    "    # Build a sparse matrix in COOrdinate format.\n",
    "    e_1 = sp.sparse.coo_matrix(\n",
    "        (np.ones(l1.shape[1]), l1), shape=(array_size, array_size)\n",
    "    ).tocsr()\n",
    "    \n",
    "    e_2 = sp.sparse.coo_matrix(\n",
    "        (np.ones(l2.shape[1]), l2), shape=(array_size, array_size)\n",
    "    ).tocsr()\n",
    "    \n",
    "    # Find Edge Intersection from e_1 (input_graph) and e_2 (truth_graph)\n",
    "    e_intersection = (e_1.multiply(e_2) - ((e_1 - e_2) > 0)).tocoo()\n",
    "    \n",
    "    # New Input Graph from Edge Intersection. Although `new_input_graph` equiv. to `input_graph`\n",
    "    # but here the `edge_index` is sorted in ascending order, in `input_graph` the edge list is \n",
    "    # listed according to geometry. It is way `edge_index` is built. It should be used along with `y`.\n",
    "    new_input_graph = (\n",
    "        torch.from_numpy(np.vstack([e_intersection.row, e_intersection.col]))\n",
    "        .long()\n",
    "        .to(device)\n",
    "    )\n",
    "    \n",
    "    # Get Truth for Input Graph\n",
    "    y = e_intersection.data > 0\n",
    "\n",
    "    return new_input_graph, y"
   ]
  },
  {
   "cell_type": "code",
   "execution_count": null,
   "metadata": {},
   "outputs": [],
   "source": [
    "def graph_intersection(pred_graph, truth_graph):\n",
    "    \"\"\"Get truth information about edge_index (function is from both Embedding/Filtering)\"\"\"\n",
    "\n",
    "    array_size = max(pred_graph.max().item(), truth_graph.max().item()) + 1\n",
    "\n",
    "    if torch.is_tensor(pred_graph):\n",
    "        l1 = pred_graph.cpu().numpy()\n",
    "    else:\n",
    "        l1 = pred_graph\n",
    "\n",
    "    if torch.is_tensor(truth_graph):\n",
    "        l2 = truth_graph.cpu().numpy()\n",
    "    else:\n",
    "        l2 = truth_graph\n",
    "\n",
    "    e_1 = sp.sparse.coo_matrix(\n",
    "        (np.ones(l1.shape[1]), l1), shape=(array_size, array_size)\n",
    "    ).tocsr()\n",
    "\n",
    "    e_2 = sp.sparse.coo_matrix(\n",
    "        (np.ones(l2.shape[1]), l2), shape=(array_size, array_size)\n",
    "    ).tocsr()\n",
    "\n",
    "    del l1\n",
    "    del l2\n",
    "\n",
    "    e_intersection = (e_1.multiply(e_2) - ((e_1 - e_2) > 0)).tocoo()\n",
    "\n",
    "    del e_1\n",
    "    del e_2\n",
    "\n",
    "    new_pred_graph = (\n",
    "        torch.from_numpy(np.vstack([e_intersection.row, e_intersection.col]))\n",
    "        .long()\n",
    "        .to(device)\n",
    "    )\n",
    "\n",
    "    y = torch.from_numpy(e_intersection.data > 0).to(device)\n",
    "\n",
    "    del e_intersection\n",
    "\n",
    "    return new_pred_graph, y"
   ]
  },
  {
   "cell_type": "code",
   "execution_count": null,
   "metadata": {},
   "outputs": [],
   "source": [
    "# returns sorted input_graph\n",
    "edge_index, y = graph_intersection(input_edges, true_edges)"
   ]
  },
  {
   "cell_type": "markdown",
   "metadata": {},
   "source": [
    "- check the shape of tensors"
   ]
  },
  {
   "cell_type": "code",
   "execution_count": null,
   "metadata": {},
   "outputs": [],
   "source": [
    "edge_index.shape, y.shape"
   ]
  },
  {
   "cell_type": "markdown",
   "metadata": {},
   "source": [
    "- extract true and false edges"
   ]
  },
  {
   "cell_type": "code",
   "execution_count": null,
   "metadata": {},
   "outputs": [],
   "source": [
    "# get true edges\n",
    "true_edge_mask = y.bool()  # convert to boolean mask\n",
    "true_edges = edge_index[:, true_edge_mask]  # filter true edges"
   ]
  },
  {
   "cell_type": "code",
   "execution_count": null,
   "metadata": {},
   "outputs": [],
   "source": [
    "true_edges.shape"
   ]
  },
  {
   "cell_type": "code",
   "execution_count": null,
   "metadata": {},
   "outputs": [],
   "source": [
    "# get false edges\n",
    "false_edge_mask = ~(y.bool())  # convert to boolean mask\n",
    "false_edges = edge_index[:, false_edge_mask]  # filter true edges"
   ]
  },
  {
   "cell_type": "code",
   "execution_count": null,
   "metadata": {},
   "outputs": [],
   "source": [
    "false_edges.shape"
   ]
  },
  {
   "cell_type": "markdown",
   "metadata": {},
   "source": [
    "- Original number of true edges were 465, after grap intersection the extracted ones are now 462.\n",
    "- Why some edges are missing?"
   ]
  },
  {
   "cell_type": "code",
   "execution_count": null,
   "metadata": {},
   "outputs": [],
   "source": []
  }
 ],
 "metadata": {
  "kernelspec": {
   "display_name": "Python 3 (ipykernel)",
   "language": "python",
   "name": "python3"
  },
  "language_info": {
   "codemirror_mode": {
    "name": "ipython",
    "version": 3
   },
   "file_extension": ".py",
   "mimetype": "text/x-python",
   "name": "python",
   "nbconvert_exporter": "python",
   "pygments_lexer": "ipython3",
   "version": "3.8.12"
  }
 },
 "nbformat": 4,
 "nbformat_minor": 4
}
