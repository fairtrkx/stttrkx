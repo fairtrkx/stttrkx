{
 "cells": [
  {
   "cell_type": "markdown",
   "metadata": {},
   "source": [
    "## _Building True Edges_\n",
    "\n",
    "1. _layerwise true edges_\n",
    "2. _modulewise true edges_\n",
    "3. _orderwise true edges (new for curly tracks)_"
   ]
  },
  {
   "cell_type": "code",
   "execution_count": null,
   "metadata": {},
   "outputs": [],
   "source": [
    "import glob, os, sys, yaml"
   ]
  },
  {
   "cell_type": "code",
   "execution_count": null,
   "metadata": {},
   "outputs": [],
   "source": [
    "import numpy as np\n",
    "import pandas as pd\n",
    "import matplotlib.pyplot as plt\n",
    "\n",
    "%matplotlib inline"
   ]
  },
  {
   "cell_type": "code",
   "execution_count": null,
   "metadata": {},
   "outputs": [],
   "source": [
    "import pprint\n",
    "import seaborn as sns\n",
    "import trackml.dataset"
   ]
  },
  {
   "cell_type": "code",
   "execution_count": null,
   "metadata": {},
   "outputs": [],
   "source": [
    "import torch\n",
    "from torch_geometric.data import Data\n",
    "import itertools"
   ]
  },
  {
   "cell_type": "code",
   "execution_count": null,
   "metadata": {},
   "outputs": [],
   "source": [
    "# append parent dir\n",
    "sys.path.append(\"..\")"
   ]
  },
  {
   "cell_type": "code",
   "execution_count": null,
   "metadata": {},
   "outputs": [],
   "source": [
    "device = \"cuda\" if torch.cuda.is_available() else \"cpu\""
   ]
  },
  {
   "cell_type": "code",
   "execution_count": null,
   "metadata": {},
   "outputs": [],
   "source": [
    "# local imports\n",
    "from src import SttCSVDataReader, SttTorchDataReader\n",
    "from src import detector_layout\n",
    "from src import Build_Event, Build_Event_Viz, Visualize_Edges\n",
    "from src.math_utils import polar_to_cartesian"
   ]
  },
  {
   "cell_type": "markdown",
   "metadata": {},
   "source": [
    "### _Input Data_"
   ]
  },
  {
   "cell_type": "code",
   "execution_count": null,
   "metadata": {},
   "outputs": [],
   "source": [
    "# input data\n",
    "input_dir = \"../data_all\""
   ]
  },
  {
   "cell_type": "code",
   "execution_count": null,
   "metadata": {},
   "outputs": [],
   "source": [
    "# Find All Input Data Files (hits.csv, cells.csv, particles.csv, truth.csv)\n",
    "all_files = os.listdir(input_dir)\n",
    "\n",
    "# Extract File Prefixes (use e.g. xxx-hits.csv)\n",
    "suffix = \"-hits.csv\"\n",
    "file_prefixes = sorted(\n",
    "    os.path.join(input_dir, f.replace(suffix, \"\"))\n",
    "    for f in all_files\n",
    "    if f.endswith(suffix)\n",
    ")\n",
    "\n",
    "print(\"Number of Files: \", len(file_prefixes))"
   ]
  },
  {
   "cell_type": "code",
   "execution_count": null,
   "metadata": {},
   "outputs": [],
   "source": [
    "# file_prefixes[:10]"
   ]
  },
  {
   "cell_type": "code",
   "execution_count": null,
   "metadata": {},
   "outputs": [],
   "source": [
    "# load an event\n",
    "# hits, tubes, particles, truth = trackml.dataset.load_event(file_prefixes[0])"
   ]
  },
  {
   "cell_type": "code",
   "execution_count": null,
   "metadata": {},
   "outputs": [],
   "source": [
    "# hits.head()\n",
    "# tubes.head()\n",
    "# particles.head()\n",
    "# truth.head()"
   ]
  },
  {
   "cell_type": "markdown",
   "metadata": {
    "tags": []
   },
   "source": [
    "### _Visualize Event_"
   ]
  },
  {
   "cell_type": "code",
   "execution_count": null,
   "metadata": {},
   "outputs": [],
   "source": [
    "# select event\n",
    "event_id = 95191"
   ]
  },
  {
   "cell_type": "code",
   "execution_count": null,
   "metadata": {},
   "outputs": [],
   "source": [
    "# compose event is exactly the same as select_hits()\n",
    "# event = Build_Event(input_dir, event_id, noise=False, skewed=False, selection=False)"
   ]
  },
  {
   "cell_type": "code",
   "execution_count": null,
   "metadata": {},
   "outputs": [],
   "source": [
    "# visualize event\n",
    "# Build_Event_Viz(event, figsize=(10,10), fig_type=\"pdf\", save_fig=False)"
   ]
  },
  {
   "cell_type": "markdown",
   "metadata": {},
   "source": [
    "## _True Edges_"
   ]
  },
  {
   "cell_type": "code",
   "execution_count": null,
   "metadata": {},
   "outputs": [],
   "source": [
    "from LightningModules.Processing.utils.event_utils import select_hits\n",
    "from LightningModules.Processing.utils.event_utils import get_layerwise_edges\n",
    "from LightningModules.Processing.utils.event_utils import get_modulewise_edges"
   ]
  },
  {
   "cell_type": "markdown",
   "metadata": {},
   "source": [
    "### _1. Layerwise True Edges_\n",
    "\n",
    "**True Graph** is the ground truth for GNN. It is built from creating edges from _`hits`_ from the same particle but in adjacent layers. For this purpose one has _`true_edges, hits = get_layerwise_edges(event)`_ function in the _`event_util.py`_."
   ]
  },
  {
   "cell_type": "code",
   "execution_count": null,
   "metadata": {},
   "outputs": [],
   "source": [
    "# get event prefix using event_id\n",
    "event_prefix = file_prefixes[event_id]"
   ]
  },
  {
   "cell_type": "code",
   "execution_count": null,
   "metadata": {},
   "outputs": [],
   "source": [
    "# select hits\n",
    "kwargs = {\"selection\": False}\n",
    "hits = select_hits(event_file=event_prefix, noise=False, skewed=False, **kwargs)"
   ]
  },
  {
   "cell_type": "code",
   "execution_count": null,
   "metadata": {},
   "outputs": [],
   "source": [
    "# get layerwise true edges & new hits dataframe\n",
    "true_edges, hits = get_layerwise_edges(hits)"
   ]
  },
  {
   "cell_type": "code",
   "execution_count": null,
   "metadata": {},
   "outputs": [],
   "source": [
    "# true_edges"
   ]
  },
  {
   "cell_type": "code",
   "execution_count": null,
   "metadata": {},
   "outputs": [],
   "source": [
    "# check dimensions\n",
    "# true_edges.shape"
   ]
  },
  {
   "cell_type": "code",
   "execution_count": null,
   "metadata": {},
   "outputs": [],
   "source": [
    "# gives True\n",
    "# senders == true_edges[0]"
   ]
  },
  {
   "cell_type": "code",
   "execution_count": null,
   "metadata": {},
   "outputs": [],
   "source": [
    "# gives True\n",
    "# receivers  == true_edges[1]"
   ]
  },
  {
   "cell_type": "code",
   "execution_count": null,
   "metadata": {},
   "outputs": [],
   "source": [
    "# split as sender and recivers\n",
    "senders, receivers = true_edges"
   ]
  },
  {
   "cell_type": "markdown",
   "metadata": {},
   "source": [
    "### _Plotting Layerwise True Edges_\n",
    "\n",
    "- I have hit pairs in two arrays\n",
    "- Extract each pair (w/ `hit_id`) to plot\n",
    "- How to plot hit pairs for one track?"
   ]
  },
  {
   "cell_type": "code",
   "execution_count": null,
   "metadata": {},
   "outputs": [],
   "source": [
    "# new (1): plotting true edges\n",
    "\n",
    "# detector layout\n",
    "fig, ax = detector_layout(figsize=(10, 10))\n",
    "\n",
    "# particle tracks\n",
    "pids = np.unique(hits.particle_id)\n",
    "for pid in pids:\n",
    "    idx = hits.particle_id == pid\n",
    "    ax.scatter(hits[idx].x.values, hits[idx].y.values, label=\"particle_id: %d\" % pid)\n",
    "\n",
    "# true edges\n",
    "for iedge in range(true_edges.shape[1]):\n",
    "    pt1 = hits.iloc[true_edges[0][iedge]]\n",
    "    pt2 = hits.iloc[true_edges[1][iedge]]\n",
    "    ax.plot([pt1.x, pt2.x], [pt1.y, pt2.y], color=\"k\", alpha=0.3, lw=1.5)\n",
    "\n",
    "# axis params\n",
    "ax.legend(fontsize=12, loc=\"best\")\n",
    "fig.tight_layout()\n",
    "fig.savefig(\"layerwise_true_edges.pdf\")"
   ]
  },
  {
   "cell_type": "markdown",
   "metadata": {
    "tags": []
   },
   "source": [
    "### _Disect `get_layerwise_edges(hits)` Function_"
   ]
  },
  {
   "cell_type": "code",
   "execution_count": null,
   "metadata": {},
   "outputs": [],
   "source": [
    "# select hits\n",
    "hits = select_hits(event_file=event_prefix, noise=False, skewed=False, **kwargs)"
   ]
  },
  {
   "cell_type": "code",
   "execution_count": null,
   "metadata": {},
   "outputs": [],
   "source": [
    "# layerwise true edges & new hits dataframe\n",
    "# true_edges, hits = get_layerwise_edges(hits)"
   ]
  },
  {
   "cell_type": "code",
   "execution_count": null,
   "metadata": {},
   "outputs": [],
   "source": [
    "# Sort by increasing distance from production\n",
    "hits = hits.assign(\n",
    "    R=np.sqrt(\n",
    "        (hits.x - hits.vx) ** 2 + (hits.y - hits.vy) ** 2 + (hits.z - hits.vz) ** 2\n",
    "    )\n",
    ")"
   ]
  },
  {
   "cell_type": "code",
   "execution_count": null,
   "metadata": {},
   "outputs": [],
   "source": [
    "# re-indexing of hits dataframe, we get two extra columns: R and index\n",
    "hits = hits.sort_values(\"R\").reset_index(drop=True).reset_index(drop=False)"
   ]
  },
  {
   "cell_type": "code",
   "execution_count": null,
   "metadata": {},
   "outputs": [],
   "source": [
    "# assign particle_id=0 as NaN\n",
    "hits.loc[hits[\"particle_id\"] == 0, \"particle_id\"] = np.nan"
   ]
  },
  {
   "cell_type": "code",
   "execution_count": null,
   "metadata": {},
   "outputs": [],
   "source": [
    "hits.head()"
   ]
  },
  {
   "cell_type": "code",
   "execution_count": null,
   "metadata": {},
   "outputs": [],
   "source": [
    "# hit_list based on particle_id and layer_id\n",
    "hit_list = (\n",
    "    hits.groupby([\"particle_id\", \"layer_id\"], sort=False)[\"index\"]\n",
    "    .agg(lambda x: list(x))\n",
    "    .groupby(level=0)\n",
    "    .agg(lambda x: list(x))\n",
    ")"
   ]
  },
  {
   "cell_type": "code",
   "execution_count": null,
   "metadata": {},
   "outputs": [],
   "source": [
    "hit_list"
   ]
  },
  {
   "cell_type": "code",
   "execution_count": null,
   "metadata": {},
   "outputs": [],
   "source": [
    "# get first row of hit list i.e. first particle\n",
    "# row = hit_list.values[0]"
   ]
  },
  {
   "cell_type": "code",
   "execution_count": null,
   "metadata": {},
   "outputs": [],
   "source": [
    "# get elements of array from 0 to n-1 i.e. skipping the last element\n",
    "# row[0:-1]"
   ]
  },
  {
   "cell_type": "code",
   "execution_count": null,
   "metadata": {},
   "outputs": [],
   "source": [
    "# get elements of array from 1 to n i.e. skipping the first elemnet\n",
    "# row[1:]"
   ]
  },
  {
   "cell_type": "code",
   "execution_count": null,
   "metadata": {},
   "outputs": [],
   "source": [
    "# now build layerwise true edges\n",
    "true_edges = []\n",
    "for row in hit_list.values:\n",
    "    for i, j in zip(\n",
    "        row[0:-1], row[1:]\n",
    "    ):  # row is list: we take 0 to n-1 elements as row[0:-1], and 1 to n as row[1:]\n",
    "        true_edges.extend(\n",
    "            list(itertools.product(i, j))\n",
    "        )  # extend() will add an iterable (list, set, etc) to the end of true_edges list, append() add one element to end of list."
   ]
  },
  {
   "cell_type": "code",
   "execution_count": null,
   "metadata": {},
   "outputs": [],
   "source": [
    "true_edges = np.array(true_edges).T"
   ]
  },
  {
   "cell_type": "code",
   "execution_count": null,
   "metadata": {},
   "outputs": [],
   "source": [
    "true_edges.shape"
   ]
  },
  {
   "cell_type": "code",
   "execution_count": null,
   "metadata": {},
   "outputs": [],
   "source": [
    "true_edges[0].size, true_edges[1].size"
   ]
  },
  {
   "cell_type": "markdown",
   "metadata": {},
   "source": [
    "* Now we have _`true_edges`_ and corresponding _`hits`_ (changed _i.e._ sorted due to $R$ parameter.)"
   ]
  },
  {
   "cell_type": "code",
   "execution_count": null,
   "metadata": {},
   "outputs": [],
   "source": [
    "# split as sender and recivers\n",
    "senders, receivers = true_edges"
   ]
  },
  {
   "cell_type": "code",
   "execution_count": null,
   "metadata": {},
   "outputs": [],
   "source": [
    "senders.shape, receivers.shape"
   ]
  },
  {
   "cell_type": "markdown",
   "metadata": {},
   "source": [
    "### _2. Modulewise True Edges_"
   ]
  },
  {
   "cell_type": "code",
   "execution_count": null,
   "metadata": {},
   "outputs": [],
   "source": [
    "# get event prefix using event_id\n",
    "event_prefix = file_prefixes[event_id]"
   ]
  },
  {
   "cell_type": "code",
   "execution_count": null,
   "metadata": {},
   "outputs": [],
   "source": [
    "# select hits\n",
    "kwargs = {\"selection\": False}\n",
    "hits = select_hits(event_file=event_prefix, noise=False, skewed=False, **kwargs)"
   ]
  },
  {
   "cell_type": "code",
   "execution_count": null,
   "metadata": {},
   "outputs": [],
   "source": [
    "# get modulewise true edges\n",
    "true_edges = get_modulewise_edges(hits)"
   ]
  },
  {
   "cell_type": "code",
   "execution_count": null,
   "metadata": {},
   "outputs": [],
   "source": [
    "# gives True\n",
    "# senders == true_edges[0]"
   ]
  },
  {
   "cell_type": "code",
   "execution_count": null,
   "metadata": {},
   "outputs": [],
   "source": [
    "# gives True\n",
    "# receivers  == true_edges[1]"
   ]
  },
  {
   "cell_type": "code",
   "execution_count": null,
   "metadata": {},
   "outputs": [],
   "source": [
    "# split as sender and recivers\n",
    "senders, receivers = true_edges"
   ]
  },
  {
   "cell_type": "markdown",
   "metadata": {},
   "source": [
    "### _Plotting Modulewise True Edges_\n",
    "\n",
    "- I have hit pairs in two arrays\n",
    "- Extract each pair (w/ `hit_id`) to plot\n",
    "- How to plot hit pairs for one track?"
   ]
  },
  {
   "cell_type": "code",
   "execution_count": null,
   "metadata": {},
   "outputs": [],
   "source": [
    "# new (2): plotting true edges\n",
    "\n",
    "# detector layout\n",
    "fig, ax = detector_layout(figsize=(10, 10))\n",
    "\n",
    "# particle tracks\n",
    "pids = np.unique(hits.particle_id)\n",
    "for pid in pids:\n",
    "    idx = hits.particle_id == pid\n",
    "    ax.scatter(hits[idx].x.values, hits[idx].y.values, label=\"particle_id: %d\" % pid)\n",
    "\n",
    "# loop over source and target nodes\n",
    "# for i, (source_node, target_node) in enumerate(true_edges.T):\n",
    "for source_node, target_node in true_edges.T:\n",
    "    source_pos = hits.loc[source_node, [\"x\", \"y\"]].values\n",
    "    target_pos = hits.loc[target_node, [\"x\", \"y\"]].values\n",
    "    ax.plot(\n",
    "        [source_pos[0], target_pos[0]],\n",
    "        [source_pos[1], target_pos[1]],\n",
    "        \"k-\",\n",
    "        linewidth=0.5,\n",
    "    )\n",
    "\n",
    "# axis params\n",
    "ax.legend(fontsize=12, loc=\"best\")\n",
    "fig.tight_layout()\n",
    "fig.savefig(\"modulewise_true_edges.pdf\")"
   ]
  },
  {
   "cell_type": "markdown",
   "metadata": {},
   "source": [
    "### _Disect `get_modulewise_edges(hits)` Function_"
   ]
  },
  {
   "cell_type": "code",
   "execution_count": null,
   "metadata": {},
   "outputs": [],
   "source": [
    "# select hits\n",
    "hits = select_hits(event_file=event_prefix, noise=False, skewed=False, **kwargs)"
   ]
  },
  {
   "cell_type": "code",
   "execution_count": null,
   "metadata": {},
   "outputs": [],
   "source": [
    "signal = hits[\n",
    "    ((~hits.particle_id.isna()) & (hits.particle_id != 0)) & (~hits.vx.isna())\n",
    "]"
   ]
  },
  {
   "cell_type": "code",
   "execution_count": null,
   "metadata": {},
   "outputs": [],
   "source": [
    "signal.head()"
   ]
  },
  {
   "cell_type": "code",
   "execution_count": null,
   "metadata": {},
   "outputs": [],
   "source": [
    "signal = signal.drop_duplicates(\n",
    "    subset=[\"particle_id\", \"volume_id\", \"layer_id\", \"module_id\"]\n",
    ")"
   ]
  },
  {
   "cell_type": "code",
   "execution_count": null,
   "metadata": {},
   "outputs": [],
   "source": [
    "signal.head()"
   ]
  },
  {
   "cell_type": "code",
   "execution_count": null,
   "metadata": {},
   "outputs": [],
   "source": [
    "# Sort by increasing distance from production\n",
    "signal = signal.assign(\n",
    "    R=np.sqrt(\n",
    "        (signal.x - signal.vx) ** 2\n",
    "        + (signal.y - signal.vy) ** 2\n",
    "        + (signal.z - signal.vz) ** 2\n",
    "    )\n",
    ")"
   ]
  },
  {
   "cell_type": "code",
   "execution_count": null,
   "metadata": {},
   "outputs": [],
   "source": [
    "signal.head()"
   ]
  },
  {
   "cell_type": "code",
   "execution_count": null,
   "metadata": {},
   "outputs": [],
   "source": [
    "# See DataFrame after sorting according to R\n",
    "signal.sort_values(\"R\").head()"
   ]
  },
  {
   "cell_type": "code",
   "execution_count": null,
   "metadata": {},
   "outputs": [],
   "source": [
    "# See DataFrame after sorting according to R and resetting index. The drop=False will keep the old index as a column (index)\n",
    "signal.sort_values(\"R\").reset_index(drop=False).head()"
   ]
  },
  {
   "cell_type": "code",
   "execution_count": null,
   "metadata": {},
   "outputs": [],
   "source": [
    "# Sort according to R and reset DataFrame index\n",
    "signal = signal.sort_values(\"R\").reset_index(drop=False)"
   ]
  },
  {
   "cell_type": "code",
   "execution_count": null,
   "metadata": {},
   "outputs": [],
   "source": [
    "# Handle re-indexing\n",
    "signal = signal.rename(columns={\"index\": \"unsorted_index\"}).reset_index(drop=False)"
   ]
  },
  {
   "cell_type": "code",
   "execution_count": null,
   "metadata": {},
   "outputs": [],
   "source": [
    "signal.head()"
   ]
  },
  {
   "cell_type": "code",
   "execution_count": null,
   "metadata": {},
   "outputs": [],
   "source": [
    "# Handle noise i.e. particle_id==0\n",
    "signal.loc[signal[\"particle_id\"] == 0, \"particle_id\"] = np.nan"
   ]
  },
  {
   "cell_type": "markdown",
   "metadata": {},
   "source": [
    "- get list of indices of each particle as _`signal_list`_\n",
    "- first groupby _`particle_id`_ and get _`index`_ column\n",
    "- second aggregate all indices as a list, each list corresponds to a particle"
   ]
  },
  {
   "cell_type": "code",
   "execution_count": null,
   "metadata": {},
   "outputs": [],
   "source": [
    "# Group by particle ID and get list of indices of every particle (series of series).\n",
    "signal_list = signal.groupby([\"particle_id\"], sort=False)[\"index\"].agg(\n",
    "    lambda x: list(x)\n",
    ")"
   ]
  },
  {
   "cell_type": "code",
   "execution_count": null,
   "metadata": {},
   "outputs": [],
   "source": [
    "# see all series of indices named by particle_ids\n",
    "signal_list"
   ]
  },
  {
   "cell_type": "code",
   "execution_count": null,
   "metadata": {},
   "outputs": [],
   "source": [
    "# access indices of a particle in signal_list e.g. particle_id=10\n",
    "signal_list[10]"
   ]
  },
  {
   "cell_type": "markdown",
   "metadata": {},
   "source": [
    "- build _`true_edges`_ by first looping over each series (_`signal_list.values`_ gives array of lists) then access each list as a row. \n",
    "- covert each _`row`_ into two cascaded rows: _`r1 = row[:-1]`_ returns omitting last element, _`r2 = row[1:]`_ returns omitting first element.\n",
    "- now create _`true_edges`_ list by pairing indices of _`r1`_ and _`r2`_ as list of lists."
   ]
  },
  {
   "cell_type": "code",
   "execution_count": null,
   "metadata": {},
   "outputs": [],
   "source": [
    "true_edges = []\n",
    "for row in signal_list.values:\n",
    "    for i, j in zip(row[:-1], row[1:]):\n",
    "        true_edges.append([i, j])"
   ]
  },
  {
   "cell_type": "code",
   "execution_count": null,
   "metadata": {},
   "outputs": [],
   "source": [
    "# covert list of lists into numpy array and transpose it.\n",
    "true_edges = np.array(true_edges).T"
   ]
  },
  {
   "cell_type": "code",
   "execution_count": null,
   "metadata": {},
   "outputs": [],
   "source": [
    "# Restore to original order\n",
    "true_edges = signal.unsorted_index.values[true_edges]"
   ]
  },
  {
   "cell_type": "code",
   "execution_count": null,
   "metadata": {},
   "outputs": [],
   "source": [
    "true_edges.shape"
   ]
  },
  {
   "cell_type": "code",
   "execution_count": null,
   "metadata": {},
   "outputs": [],
   "source": [
    "true_edges[0].size, true_edges[1].size"
   ]
  },
  {
   "cell_type": "code",
   "execution_count": null,
   "metadata": {},
   "outputs": [],
   "source": [
    "# split as sender and recivers\n",
    "senders, receivers = true_edges"
   ]
  },
  {
   "cell_type": "code",
   "execution_count": null,
   "metadata": {},
   "outputs": [],
   "source": [
    "senders.shape, receivers.shape"
   ]
  },
  {
   "cell_type": "code",
   "execution_count": null,
   "metadata": {},
   "outputs": [],
   "source": []
  }
 ],
 "metadata": {
  "kernelspec": {
   "display_name": "Python 3 (ipykernel)",
   "language": "python",
   "name": "python3"
  },
  "language_info": {
   "codemirror_mode": {
    "name": "ipython",
    "version": 3
   },
   "file_extension": ".py",
   "mimetype": "text/x-python",
   "name": "python",
   "nbconvert_exporter": "python",
   "pygments_lexer": "ipython3",
   "version": "3.8.12"
  }
 },
 "nbformat": 4,
 "nbformat_minor": 4
}
